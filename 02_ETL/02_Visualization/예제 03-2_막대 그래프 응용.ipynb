{
 "cells": [
  {
   "cell_type": "code",
   "execution_count": 1,
   "id": "25287c99",
   "metadata": {},
   "outputs": [],
   "source": [
    "import pandas as pd\n",
    "import numpy as np\n",
    "import matplotlib.pyplot as plt\n",
    "from matplotlib import font_manager,rc\n",
    "\n",
    "import random\n",
    "\n",
    "font_location = \"C:\\Windows\\Fonts\\malgun.ttf\"\n",
    "font_name = font_manager.FontProperties(fname=font_location).get_name()\n",
    "rc('font',family=font_name)"
   ]
  },
  {
   "cell_type": "markdown",
   "id": "69247f33",
   "metadata": {},
   "source": [
    "weights=[0.35,0.65] => 가중치"
   ]
  },
  {
   "cell_type": "code",
   "execution_count": 2,
   "id": "2ba4e314",
   "metadata": {},
   "outputs": [
    {
     "data": {
      "text/plain": [
       "여성    64848\n",
       "남성    35152\n",
       "dtype: int64"
      ]
     },
     "execution_count": 2,
     "metadata": {},
     "output_type": "execute_result"
    }
   ],
   "source": [
    "sex_range=['남성', '여성']\n",
    "age_range=[20,21,22,23,24,25,26,27,28,29]\n",
    "marrage_range=['독신','기혼','재혼']\n",
    "income_range=['저소득자','3000만원대','4000만원대','5000만원대','6000만원대','고소득자']\n",
    "\n",
    "MAX_RECORD=100000\n",
    "\n",
    "sex_list=[]\n",
    "\n",
    "# random.choices(range(0,len(sex_range)), weights=[0.35,0.65])\n",
    "\n",
    "for i in range(MAX_RECORD):\n",
    "    sex_list.append(\n",
    "        sex_range[\n",
    "            random.choices(range(0,len(sex_range)), weights=[0.35,0.65])[0]\n",
    "        ]\n",
    "    )\n",
    "\n",
    "pd.Series(sex_list).value_counts()"
   ]
  },
  {
   "cell_type": "code",
   "execution_count": 3,
   "id": "ec245b7a",
   "metadata": {},
   "outputs": [
    {
     "data": {
      "text/plain": [
       "Index        128\n",
       "0        8600000\n",
       "dtype: int64"
      ]
     },
     "execution_count": 3,
     "metadata": {},
     "output_type": "execute_result"
    }
   ],
   "source": [
    "df = pd.DataFrame(sex_list)\n",
    "df.memory_usage(deep=True)"
   ]
  },
  {
   "cell_type": "code",
   "execution_count": 4,
   "id": "04a71acf",
   "metadata": {},
   "outputs": [
    {
     "data": {
      "text/html": [
       "<div>\n",
       "<style scoped>\n",
       "    .dataframe tbody tr th:only-of-type {\n",
       "        vertical-align: middle;\n",
       "    }\n",
       "\n",
       "    .dataframe tbody tr th {\n",
       "        vertical-align: top;\n",
       "    }\n",
       "\n",
       "    .dataframe thead th {\n",
       "        text-align: right;\n",
       "    }\n",
       "</style>\n",
       "<table border=\"1\" class=\"dataframe\">\n",
       "  <thead>\n",
       "    <tr style=\"text-align: right;\">\n",
       "      <th></th>\n",
       "      <th>성별</th>\n",
       "      <th>나이</th>\n",
       "      <th>결혼여부</th>\n",
       "      <th>소득수준</th>\n",
       "    </tr>\n",
       "  </thead>\n",
       "  <tbody>\n",
       "    <tr>\n",
       "      <th>0</th>\n",
       "      <td>여성</td>\n",
       "      <td>28</td>\n",
       "      <td>독신</td>\n",
       "      <td>5000만원대</td>\n",
       "    </tr>\n",
       "    <tr>\n",
       "      <th>1</th>\n",
       "      <td>남성</td>\n",
       "      <td>24</td>\n",
       "      <td>독신</td>\n",
       "      <td>4000만원대</td>\n",
       "    </tr>\n",
       "    <tr>\n",
       "      <th>2</th>\n",
       "      <td>여성</td>\n",
       "      <td>27</td>\n",
       "      <td>독신</td>\n",
       "      <td>5000만원대</td>\n",
       "    </tr>\n",
       "    <tr>\n",
       "      <th>3</th>\n",
       "      <td>여성</td>\n",
       "      <td>24</td>\n",
       "      <td>독신</td>\n",
       "      <td>3000만원대</td>\n",
       "    </tr>\n",
       "    <tr>\n",
       "      <th>4</th>\n",
       "      <td>여성</td>\n",
       "      <td>21</td>\n",
       "      <td>독신</td>\n",
       "      <td>3000만원대</td>\n",
       "    </tr>\n",
       "  </tbody>\n",
       "</table>\n",
       "</div>"
      ],
      "text/plain": [
       "   성별  나이 결혼여부     소득수준\n",
       "0  여성  28   독신  5000만원대\n",
       "1  남성  24   독신  4000만원대\n",
       "2  여성  27   독신  5000만원대\n",
       "3  여성  24   독신  3000만원대\n",
       "4  여성  21   독신  3000만원대"
      ]
     },
     "execution_count": 4,
     "metadata": {},
     "output_type": "execute_result"
    }
   ],
   "source": [
    "sex_range=['남성', '여성']\n",
    "# sex_range[0], sex_range[1]\n",
    "# sex_range[[0]] => x\n",
    "\n",
    "age_range=[20,21,22,23,24,25,26,27,28,29]\n",
    "marrage_range=['독신','기혼','재혼']\n",
    "income_range=['저소득자','3000만원대','4000만원대','5000만원대','6000만원대','고소득자']\n",
    "\n",
    "MAX_RECORD=100000\n",
    "\n",
    "sex_list=[]\n",
    "age_list=[]\n",
    "marrage_list=[]\n",
    "income_list=[]\n",
    "\n",
    "for i in range(MAX_RECORD): # MAX_RECORD 만큼 i 변수로 돌리겠다.\n",
    "    sex_list.append( # sex_list 에 추가하겠다.\n",
    "        sex_range[ # sex_range 에서\n",
    "            random.choices( # random.choices 를 하겠다.\n",
    "                range(0,len(sex_range)), # 0 ~ sex_range길이만큼\n",
    "                weights=[0.35,0.65])[0] # 가중치를 weights=[0.35,0.65] 로 정하고, sex_range의 0번째부터 다시 초이스되게 돌아가라\n",
    "        ]\n",
    "    )\n",
    "    #[0] 또는 [1]\n",
    "    #뒤에 [0]은 sex_range가 인덱스[0,1]이기 때문에 0번째부터 다시 초이스되게 하라는 거\n",
    "    \n",
    "    age_list.append(age_range[random.choices(range(0,len(age_range)), weights=[0.05,0.05,0.1,0.07,0.05,0.05,0.05,0.13,0.3,0.2])[0]])\n",
    "    marrage_list.append(marrage_range[random.choices(range(0,len(marrage_range)), weights=[0.7,0.25,0.05])[0]])\n",
    "    income_list.append(income_range[random.choices(range(0,len(income_range)), weights=[0.1,0.4,0.2,0.15,0.1,0.05])[0]])\n",
    "    \n",
    "\n",
    "df = pd.DataFrame(\n",
    "    {\n",
    "        \"성별\":sex_list,\n",
    "        \"나이\":age_list,\n",
    "        \"결혼여부\":marrage_list,\n",
    "        \"소득수준\":income_list\n",
    "    }\n",
    ")\n",
    "\n",
    "df.head()"
   ]
  },
  {
   "cell_type": "code",
   "execution_count": 5,
   "id": "f2900cfa",
   "metadata": {},
   "outputs": [
    {
     "data": {
      "text/plain": [
       "(100000, 4)"
      ]
     },
     "execution_count": 5,
     "metadata": {},
     "output_type": "execute_result"
    }
   ],
   "source": [
    "df.shape"
   ]
  },
  {
   "cell_type": "code",
   "execution_count": 6,
   "id": "6d20eb38",
   "metadata": {},
   "outputs": [
    {
     "data": {
      "text/plain": [
       "Index        128\n",
       "성별       8600000\n",
       "나이        800000\n",
       "결혼여부     8600000\n",
       "소득수준     9509604\n",
       "dtype: int64"
      ]
     },
     "execution_count": 6,
     "metadata": {},
     "output_type": "execute_result"
    }
   ],
   "source": [
    "df.memory_usage(deep=True)"
   ]
  },
  {
   "cell_type": "code",
   "execution_count": 7,
   "id": "edc69b71",
   "metadata": {},
   "outputs": [
    {
     "data": {
      "text/plain": [
       "여성    64892\n",
       "남성    35108\n",
       "Name: 성별, dtype: int64"
      ]
     },
     "execution_count": 7,
     "metadata": {},
     "output_type": "execute_result"
    }
   ],
   "source": [
    "df['성별'].value_counts()"
   ]
  },
  {
   "cell_type": "code",
   "execution_count": 8,
   "id": "fb3bb539",
   "metadata": {},
   "outputs": [
    {
     "data": {
      "text/plain": [
       "Index(['여성', '남성'], dtype='object')"
      ]
     },
     "execution_count": 8,
     "metadata": {},
     "output_type": "execute_result"
    }
   ],
   "source": [
    "df['성별'].value_counts().index"
   ]
  },
  {
   "cell_type": "code",
   "execution_count": 9,
   "id": "90831348",
   "metadata": {},
   "outputs": [
    {
     "data": {
      "text/plain": [
       "array([64892, 35108], dtype=int64)"
      ]
     },
     "execution_count": 9,
     "metadata": {},
     "output_type": "execute_result"
    }
   ],
   "source": [
    "df['성별'].value_counts().values"
   ]
  },
  {
   "cell_type": "code",
   "execution_count": 10,
   "id": "ed44ca17",
   "metadata": {},
   "outputs": [
    {
     "data": {
      "text/plain": [
       "2"
      ]
     },
     "execution_count": 10,
     "metadata": {},
     "output_type": "execute_result"
    }
   ],
   "source": [
    "len(df['성별'].value_counts().index)"
   ]
  },
  {
   "cell_type": "code",
   "execution_count": 11,
   "id": "b863a081",
   "metadata": {},
   "outputs": [
    {
     "data": {
      "text/plain": [
       "[64892, 35108]"
      ]
     },
     "execution_count": 11,
     "metadata": {},
     "output_type": "execute_result"
    }
   ],
   "source": [
    "df['성별'].value_counts().values.tolist()"
   ]
  },
  {
   "cell_type": "code",
   "execution_count": 12,
   "id": "38726591",
   "metadata": {},
   "outputs": [
    {
     "data": {
      "text/plain": [
       "([<matplotlib.axis.XTick at 0x1badab97640>,\n",
       "  <matplotlib.axis.XTick at 0x1badab97610>],\n",
       " [Text(0, 0, '여성'), Text(1, 0, '남성')])"
      ]
     },
     "execution_count": 12,
     "metadata": {},
     "output_type": "execute_result"
    },
    {
     "data": {
      "image/png": "[encoded data removed]",
      "text/plain": [
       "<Figure size 640x480 with 1 Axes>"
      ]
     },
     "metadata": {},
     "output_type": "display_data"
    }
   ],
   "source": [
    "idx = np.arange(len(df['성별'].value_counts().index))\n",
    "plt.bar(idx, df['성별'].value_counts().values)\n",
    "plt.xticks(idx,df['성별'].value_counts().index)"
   ]
  },
  {
   "cell_type": "code",
   "execution_count": 13,
   "id": "f1dc4466",
   "metadata": {},
   "outputs": [
    {
     "data": {
      "text/plain": [
       "([<matplotlib.axis.XTick at 0x1badb6e5a60>,\n",
       "  <matplotlib.axis.XTick at 0x1badb6e5a30>,\n",
       "  <matplotlib.axis.XTick at 0x1badb6e5160>,\n",
       "  <matplotlib.axis.XTick at 0x1badb56d700>,\n",
       "  <matplotlib.axis.XTick at 0x1badb56de50>,\n",
       "  <matplotlib.axis.XTick at 0x1badb5755e0>,\n",
       "  <matplotlib.axis.XTick at 0x1badb575d30>,\n",
       "  <matplotlib.axis.XTick at 0x1badb575850>,\n",
       "  <matplotlib.axis.XTick at 0x1badb56d730>,\n",
       "  <matplotlib.axis.XTick at 0x1badb57b820>],\n",
       " [Text(0, 0, '28'),\n",
       "  Text(1, 0, '29'),\n",
       "  Text(2, 0, '27'),\n",
       "  Text(3, 0, '22'),\n",
       "  Text(4, 0, '23'),\n",
       "  Text(5, 0, '25'),\n",
       "  Text(6, 0, '24'),\n",
       "  Text(7, 0, '26'),\n",
       "  Text(8, 0, '21'),\n",
       "  Text(9, 0, '20')])"
      ]
     },
     "execution_count": 13,
     "metadata": {},
     "output_type": "execute_result"
    },
    {
     "data": {
      "image/png": "[encoded data removed]",
      "text/plain": [
       "<Figure size 640x480 with 1 Axes>"
      ]
     },
     "metadata": {},
     "output_type": "display_data"
    }
   ],
   "source": [
    "idx = np.arange(len(df['나이'].value_counts().index))\n",
    "plt.bar(idx, df['나이'].value_counts().values)\n",
    "plt.xticks(idx,df['나이'].value_counts().index)"
   ]
  },
  {
   "cell_type": "code",
   "execution_count": 14,
   "id": "0e058ee0",
   "metadata": {},
   "outputs": [
    {
     "data": {
      "text/plain": [
       "([<matplotlib.axis.XTick at 0x1badb5b9760>,\n",
       "  <matplotlib.axis.XTick at 0x1badb5b9730>,\n",
       "  <matplotlib.axis.XTick at 0x1badb5b13d0>],\n",
       " [Text(0, 0, '독신'), Text(1, 0, '기혼'), Text(2, 0, '재혼')])"
      ]
     },
     "execution_count": 14,
     "metadata": {},
     "output_type": "execute_result"
    },
    {
     "data": {
      "image/png": "[encoded data removed]",
      "text/plain": [
       "<Figure size 640x480 with 1 Axes>"
      ]
     },
     "metadata": {},
     "output_type": "display_data"
    }
   ],
   "source": [
    "idx = np.arange(len(df['결혼여부'].value_counts().index))\n",
    "plt.bar(idx, df['결혼여부'].value_counts().values)\n",
    "plt.xticks(idx,df['결혼여부'].value_counts().index)"
   ]
  },
  {
   "cell_type": "code",
   "execution_count": 15,
   "id": "c57c046d",
   "metadata": {},
   "outputs": [
    {
     "data": {
      "text/plain": [
       "([<matplotlib.axis.XTick at 0x1badb616550>,\n",
       "  <matplotlib.axis.XTick at 0x1badb616520>,\n",
       "  <matplotlib.axis.XTick at 0x1badb607100>,\n",
       "  <matplotlib.axis.XTick at 0x1badb64bbb0>,\n",
       "  <matplotlib.axis.XTick at 0x1badb64be20>,\n",
       "  <matplotlib.axis.XTick at 0x1badb6566a0>],\n",
       " [Text(0, 0, '3000만원대'),\n",
       "  Text(1, 0, '4000만원대'),\n",
       "  Text(2, 0, '5000만원대'),\n",
       "  Text(3, 0, '6000만원대'),\n",
       "  Text(4, 0, '저소득자'),\n",
       "  Text(5, 0, '고소득자')])"
      ]
     },
     "execution_count": 15,
     "metadata": {},
     "output_type": "execute_result"
    },
    {
     "data": {
      "image/png": "[encoded data removed]",
      "text/plain": [
       "<Figure size 640x480 with 1 Axes>"
      ]
     },
     "metadata": {},
     "output_type": "display_data"
    }
   ],
   "source": [
    "idx = np.arange(len(df['소득수준'].value_counts().index))\n",
    "plt.bar(idx, df['소득수준'].value_counts().values)\n",
    "plt.xticks(idx,df['소득수준'].value_counts().index)"
   ]
  },
  {
   "cell_type": "code",
   "execution_count": null,
   "id": "124ad4dd",
   "metadata": {},
   "outputs": [],
   "source": []
  }
 ],
 "metadata": {
  "kernelspec": {
   "display_name": "Python 3 (ipykernel)",
   "language": "python",
   "name": "python3"
  },
  "language_info": {
   "codemirror_mode": {
    "name": "ipython",
    "version": 3
   },
   "file_extension": ".py",
   "mimetype": "text/x-python",
   "name": "python",
   "nbconvert_exporter": "python",
   "pygments_lexer": "ipython3",
   "version": "3.9.13"
  }
 },
 "nbformat": 4,
 "nbformat_minor": 5
}
