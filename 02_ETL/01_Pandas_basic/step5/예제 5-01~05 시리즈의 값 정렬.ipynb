{
 "cells": [
  {
   "cell_type": "markdown",
   "id": "f075a89f",
   "metadata": {},
   "source": [
    "# 데이터의 재구성\n",
    "* 데이터 분석 목적에 따라 아래 작업을 실시한다.\n",
    "    * 데이터 정렬\n",
    "    * 데이터 재구성"
   ]
  },
  {
   "cell_type": "code",
   "execution_count": 1,
   "id": "9b10f99a",
   "metadata": {},
   "outputs": [],
   "source": [
    "import pandas as pd"
   ]
  },
  {
   "cell_type": "markdown",
   "id": "7a4e237b",
   "metadata": {},
   "source": [
    "## 예제 5-1 시리즈의 값 정렬 "
   ]
  },
  {
   "cell_type": "code",
   "execution_count": null,
   "id": "daa51064",
   "metadata": {},
   "outputs": [],
   "source": [
    "obj1 = pd.Series([40,10,20,30],\n",
    "                index = ['가'])"
   ]
  }
 ],
 "metadata": {
  "kernelspec": {
   "display_name": "Python 3 (ipykernel)",
   "language": "python",
   "name": "python3"
  },
  "language_info": {
   "codemirror_mode": {
    "name": "ipython",
    "version": 3
   },
   "file_extension": ".py",
   "mimetype": "text/x-python",
   "name": "python",
   "nbconvert_exporter": "python",
   "pygments_lexer": "ipython3",
   "version": "3.9.13"
  }
 },
 "nbformat": 4,
 "nbformat_minor": 5
}
