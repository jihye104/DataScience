{
 "cells": [
  {
   "cell_type": "code",
   "execution_count": 58,
   "id": "4e9972db",
   "metadata": {},
   "outputs": [],
   "source": [
    "import pandas as pd"
   ]
  },
  {
   "cell_type": "markdown",
   "id": "0d7c1ef4",
   "metadata": {},
   "source": [
    "## 예제 3-6~7 시리즈만 가지는 메소드"
   ]
  },
  {
   "cell_type": "code",
   "execution_count": 59,
   "id": "f805e538",
   "metadata": {},
   "outputs": [
    {
     "data": {
      "text/html": [
       "<div>\n",
       "<style scoped>\n",
       "    .dataframe tbody tr th:only-of-type {\n",
       "        vertical-align: middle;\n",
       "    }\n",
       "\n",
       "    .dataframe tbody tr th {\n",
       "        vertical-align: top;\n",
       "    }\n",
       "\n",
       "    .dataframe thead th {\n",
       "        text-align: right;\n",
       "    }\n",
       "</style>\n",
       "<table border=\"1\" class=\"dataframe\">\n",
       "  <thead>\n",
       "    <tr style=\"text-align: right;\">\n",
       "      <th></th>\n",
       "      <th>Member</th>\n",
       "      <th>Series</th>\n",
       "      <th>DataFrame</th>\n",
       "    </tr>\n",
       "  </thead>\n",
       "  <tbody>\n",
       "    <tr>\n",
       "      <th>0</th>\n",
       "      <td>T</td>\n",
       "      <td>T</td>\n",
       "      <td>T</td>\n",
       "    </tr>\n",
       "    <tr>\n",
       "      <th>1</th>\n",
       "      <td>abs</td>\n",
       "      <td>abs</td>\n",
       "      <td>abs</td>\n",
       "    </tr>\n",
       "    <tr>\n",
       "      <th>2</th>\n",
       "      <td>add</td>\n",
       "      <td>add</td>\n",
       "      <td>add</td>\n",
       "    </tr>\n",
       "    <tr>\n",
       "      <th>3</th>\n",
       "      <td>add_prefix</td>\n",
       "      <td>add_prefix</td>\n",
       "      <td>add_prefix</td>\n",
       "    </tr>\n",
       "    <tr>\n",
       "      <th>4</th>\n",
       "      <td>add_suffix</td>\n",
       "      <td>add_suffix</td>\n",
       "      <td>add_suffix</td>\n",
       "    </tr>\n",
       "  </tbody>\n",
       "</table>\n",
       "</div>"
      ],
      "text/plain": [
       "       Member      Series   DataFrame\n",
       "0           T           T           T\n",
       "1         abs         abs         abs\n",
       "2         add         add         add\n",
       "3  add_prefix  add_prefix  add_prefix\n",
       "4  add_suffix  add_suffix  add_suffix"
      ]
     },
     "execution_count": 59,
     "metadata": {},
     "output_type": "execute_result"
    }
   ],
   "source": [
    "op = pd.read_csv('../data/series_dataframe.csv')\n",
    "op.head()"
   ]
  },
  {
   "cell_type": "code",
   "execution_count": 60,
   "id": "7579668c",
   "metadata": {},
   "outputs": [
    {
     "data": {
      "text/html": [
       "<div>\n",
       "<style scoped>\n",
       "    .dataframe tbody tr th:only-of-type {\n",
       "        vertical-align: middle;\n",
       "    }\n",
       "\n",
       "    .dataframe tbody tr th {\n",
       "        vertical-align: top;\n",
       "    }\n",
       "\n",
       "    .dataframe thead th {\n",
       "        text-align: right;\n",
       "    }\n",
       "</style>\n",
       "<table border=\"1\" class=\"dataframe\">\n",
       "  <thead>\n",
       "    <tr style=\"text-align: right;\">\n",
       "      <th></th>\n",
       "      <th>Member</th>\n",
       "      <th>Series</th>\n",
       "      <th>DataFrame</th>\n",
       "    </tr>\n",
       "  </thead>\n",
       "  <tbody>\n",
       "    <tr>\n",
       "      <th>12</th>\n",
       "      <td>applymap</td>\n",
       "      <td>NaN</td>\n",
       "      <td>applymap</td>\n",
       "    </tr>\n",
       "    <tr>\n",
       "      <th>13</th>\n",
       "      <td>argmax</td>\n",
       "      <td>argmax</td>\n",
       "      <td>NaN</td>\n",
       "    </tr>\n",
       "    <tr>\n",
       "      <th>14</th>\n",
       "      <td>argmin</td>\n",
       "      <td>argmin</td>\n",
       "      <td>NaN</td>\n",
       "    </tr>\n",
       "    <tr>\n",
       "      <th>15</th>\n",
       "      <td>argsort</td>\n",
       "      <td>argsort</td>\n",
       "      <td>NaN</td>\n",
       "    </tr>\n",
       "    <tr>\n",
       "      <th>19</th>\n",
       "      <td>asobject</td>\n",
       "      <td>asobject</td>\n",
       "      <td>NaN</td>\n",
       "    </tr>\n",
       "  </tbody>\n",
       "</table>\n",
       "</div>"
      ],
      "text/plain": [
       "      Member    Series DataFrame\n",
       "12  applymap       NaN  applymap\n",
       "13    argmax    argmax       NaN\n",
       "14    argmin    argmin       NaN\n",
       "15   argsort   argsort       NaN\n",
       "19  asobject  asobject       NaN"
      ]
     },
     "execution_count": 60,
     "metadata": {},
     "output_type": "execute_result"
    }
   ],
   "source": [
    "op_not = op.loc[op['Series'] != op['DataFrame']]\n",
    "op_not.head()"
   ]
  },
  {
   "cell_type": "code",
   "execution_count": 61,
   "id": "133b0fbf",
   "metadata": {},
   "outputs": [
    {
     "data": {
      "text/plain": [
       "(74, 3)"
      ]
     },
     "execution_count": 61,
     "metadata": {},
     "output_type": "execute_result"
    }
   ],
   "source": [
    "op_not.shape"
   ]
  },
  {
   "cell_type": "markdown",
   "id": "aed2b274",
   "metadata": {},
   "source": [
    "dropna() => 결측행 제거"
   ]
  },
  {
   "cell_type": "code",
   "execution_count": 62,
   "id": "800058a7",
   "metadata": {
    "scrolled": true
   },
   "outputs": [
    {
     "data": {
      "text/plain": [
       "13      argmax\n",
       "14      argmin\n",
       "15     argsort\n",
       "19    asobject\n",
       "25    autocorr\n",
       "Name: Series, dtype: object"
      ]
     },
     "execution_count": 62,
     "metadata": {},
     "output_type": "execute_result"
    }
   ],
   "source": [
    "op_ser = op_not['Series'].dropna()\n",
    "op_ser.head()"
   ]
  },
  {
   "cell_type": "markdown",
   "id": "2886bf06",
   "metadata": {},
   "source": [
    "tolist() => 결과값을 head() 로 볼 수 없음"
   ]
  },
  {
   "cell_type": "code",
   "execution_count": 63,
   "id": "ecf06c6f",
   "metadata": {
    "scrolled": true
   },
   "outputs": [
    {
     "data": {
      "text/plain": [
       "['argmax',\n",
       " 'argmin',\n",
       " 'argsort',\n",
       " 'asobject',\n",
       " 'autocorr',\n",
       " 'base',\n",
       " 'between',\n",
       " 'cat',\n",
       " 'compress',\n",
       " 'data',\n",
       " 'dt',\n",
       " 'dtype',\n",
       " 'factorize',\n",
       " 'flags',\n",
       " 'from_array',\n",
       " 'ftype',\n",
       " 'hasnans',\n",
       " 'imag',\n",
       " 'is_monotonic',\n",
       " 'is_monotonic_decreasing',\n",
       " 'is_monotonic_increasing',\n",
       " 'is_unique',\n",
       " 'item',\n",
       " 'items',\n",
       " 'itemsize',\n",
       " 'iteritems',\n",
       " 'map',\n",
       " 'name',\n",
       " 'nbytes',\n",
       " 'nonzero',\n",
       " 'ptp',\n",
       " 'put',\n",
       " 'ravel',\n",
       " 'real',\n",
       " 'repeat',\n",
       " 'reshape',\n",
       " 'searchsorted',\n",
       " 'str',\n",
       " 'strides',\n",
       " 'to_frame',\n",
       " 'tolist',\n",
       " 'unique',\n",
       " 'valid',\n",
       " 'value_counts',\n",
       " 'view']"
      ]
     },
     "execution_count": 63,
     "metadata": {},
     "output_type": "execute_result"
    }
   ],
   "source": [
    "op_ser_list = op_ser.tolist()\n",
    "op_ser_list"
   ]
  },
  {
   "cell_type": "code",
   "execution_count": 64,
   "id": "39055765",
   "metadata": {},
   "outputs": [],
   "source": [
    "import types"
   ]
  },
  {
   "cell_type": "markdown",
   "id": "15a17418",
   "metadata": {},
   "source": [
    "FunctionType 이면 출력"
   ]
  },
  {
   "cell_type": "code",
   "execution_count": 65,
   "id": "b87c624f",
   "metadata": {},
   "outputs": [
    {
     "name": "stdout",
     "output_type": "stream",
     "text": [
      "argsort,  autocorr,  between,  items,  iteritems,  \n",
      "map,  ravel,  repeat,  searchsorted,  to_frame,  \n",
      "unique,  view,  "
     ]
    }
   ],
   "source": [
    "count = 0\n",
    "for i in op_ser_list :     \n",
    "    try :\n",
    "        \n",
    "        if type(pd.Series.__dict__[i])  ==  types.FunctionType :\n",
    "            print(i, end=',  ')\n",
    "            count += 1\n",
    "            if count % 5 == 0 :\n",
    "                print()\n",
    "    except Exception as e :\n",
    "        pass"
   ]
  },
  {
   "cell_type": "code",
   "execution_count": 66,
   "id": "b555e41c",
   "metadata": {},
   "outputs": [],
   "source": [
    "import seaborn as sns"
   ]
  },
  {
   "cell_type": "code",
   "execution_count": 67,
   "id": "2d4ecda5",
   "metadata": {},
   "outputs": [
    {
     "data": {
      "text/plain": [
       "Index(['sepal_length', 'sepal_width', 'petal_length', 'petal_width',\n",
       "       'species'],\n",
       "      dtype='object')"
      ]
     },
     "execution_count": 67,
     "metadata": {},
     "output_type": "execute_result"
    }
   ],
   "source": [
    "iris = sns.load_dataset('iris')\n",
    "iris.columns"
   ]
  },
  {
   "cell_type": "code",
   "execution_count": 68,
   "id": "440e2d61",
   "metadata": {},
   "outputs": [
    {
     "data": {
      "text/html": [
       "<div>\n",
       "<style scoped>\n",
       "    .dataframe tbody tr th:only-of-type {\n",
       "        vertical-align: middle;\n",
       "    }\n",
       "\n",
       "    .dataframe tbody tr th {\n",
       "        vertical-align: top;\n",
       "    }\n",
       "\n",
       "    .dataframe thead th {\n",
       "        text-align: right;\n",
       "    }\n",
       "</style>\n",
       "<table border=\"1\" class=\"dataframe\">\n",
       "  <thead>\n",
       "    <tr style=\"text-align: right;\">\n",
       "      <th></th>\n",
       "      <th>sepal_length</th>\n",
       "      <th>sepal_width</th>\n",
       "      <th>petal_length</th>\n",
       "      <th>petal_width</th>\n",
       "      <th>species</th>\n",
       "    </tr>\n",
       "  </thead>\n",
       "  <tbody>\n",
       "    <tr>\n",
       "      <th>0</th>\n",
       "      <td>5.1</td>\n",
       "      <td>3.5</td>\n",
       "      <td>1.4</td>\n",
       "      <td>0.2</td>\n",
       "      <td>setosa</td>\n",
       "    </tr>\n",
       "    <tr>\n",
       "      <th>1</th>\n",
       "      <td>4.9</td>\n",
       "      <td>3.0</td>\n",
       "      <td>1.4</td>\n",
       "      <td>0.2</td>\n",
       "      <td>setosa</td>\n",
       "    </tr>\n",
       "    <tr>\n",
       "      <th>2</th>\n",
       "      <td>4.7</td>\n",
       "      <td>3.2</td>\n",
       "      <td>1.3</td>\n",
       "      <td>0.2</td>\n",
       "      <td>setosa</td>\n",
       "    </tr>\n",
       "    <tr>\n",
       "      <th>3</th>\n",
       "      <td>4.6</td>\n",
       "      <td>3.1</td>\n",
       "      <td>1.5</td>\n",
       "      <td>0.2</td>\n",
       "      <td>setosa</td>\n",
       "    </tr>\n",
       "    <tr>\n",
       "      <th>4</th>\n",
       "      <td>5.0</td>\n",
       "      <td>3.6</td>\n",
       "      <td>1.4</td>\n",
       "      <td>0.2</td>\n",
       "      <td>setosa</td>\n",
       "    </tr>\n",
       "  </tbody>\n",
       "</table>\n",
       "</div>"
      ],
      "text/plain": [
       "   sepal_length  sepal_width  petal_length  petal_width species\n",
       "0           5.1          3.5           1.4          0.2  setosa\n",
       "1           4.9          3.0           1.4          0.2  setosa\n",
       "2           4.7          3.2           1.3          0.2  setosa\n",
       "3           4.6          3.1           1.5          0.2  setosa\n",
       "4           5.0          3.6           1.4          0.2  setosa"
      ]
     },
     "execution_count": 68,
     "metadata": {},
     "output_type": "execute_result"
    }
   ],
   "source": [
    "iris.head()"
   ]
  },
  {
   "cell_type": "markdown",
   "id": "f33b4cdf",
   "metadata": {},
   "source": [
    "## 예제 3-8 인덱스 변경 및 대체"
   ]
  },
  {
   "cell_type": "code",
   "execution_count": 69,
   "id": "8d2a2b3c",
   "metadata": {
    "scrolled": true
   },
   "outputs": [
    {
     "data": {
      "text/plain": [
       "0    1\n",
       "1    2\n",
       "2    3\n",
       "3    4\n",
       "dtype: int64"
      ]
     },
     "execution_count": 69,
     "metadata": {},
     "output_type": "execute_result"
    }
   ],
   "source": [
    "s = pd.Series([1,2,3,4])\n",
    "s"
   ]
  },
  {
   "cell_type": "markdown",
   "id": "143fd3af",
   "metadata": {},
   "source": [
    "rename({기존의 키 : 변경할 키값}]"
   ]
  },
  {
   "cell_type": "code",
   "execution_count": 70,
   "id": "8b8863d9",
   "metadata": {
    "scrolled": true
   },
   "outputs": [
    {
     "data": {
      "text/plain": [
       "a    1\n",
       "b    2\n",
       "c    3\n",
       "d    4\n",
       "dtype: int64"
      ]
     },
     "execution_count": 70,
     "metadata": {},
     "output_type": "execute_result"
    }
   ],
   "source": [
    "s_re = s.rename({0:'a',1:'b',2:'c',3:'d'})\n",
    "s_re"
   ]
  },
  {
   "cell_type": "markdown",
   "id": "1fb9b275",
   "metadata": {},
   "source": [
    "reindex 에 지정되지 않은 행 인덱스의 값은 NaN 으로 표기  \n",
    "reindex 에 있는 인덱스로 데이터를 재구성  \n",
    "기존에 없는 인덱스로 reindex 했다면 해당 인덱스의 값은 추후 재설정하겠다는 의미"
   ]
  },
  {
   "cell_type": "code",
   "execution_count": 71,
   "id": "b12d001d",
   "metadata": {},
   "outputs": [
    {
     "data": {
      "text/plain": [
       "a    1.0\n",
       "b    2.0\n",
       "c    3.0\n",
       "e    NaN\n",
       "dtype: float64"
      ]
     },
     "execution_count": 71,
     "metadata": {},
     "output_type": "execute_result"
    }
   ],
   "source": [
    "s_re.reindex(['a','b','c','e'])"
   ]
  },
  {
   "cell_type": "markdown",
   "id": "b5bcafa6",
   "metadata": {},
   "source": [
    "reindex 에 지정된 행만 필터링"
   ]
  },
  {
   "cell_type": "code",
   "execution_count": 72,
   "id": "898817e7",
   "metadata": {
    "scrolled": true
   },
   "outputs": [
    {
     "data": {
      "text/plain": [
       "a    1\n",
       "b    2\n",
       "c    3\n",
       "dtype: int64"
      ]
     },
     "execution_count": 72,
     "metadata": {},
     "output_type": "execute_result"
    }
   ],
   "source": [
    "s_re.reindex(['a','b','c'])"
   ]
  },
  {
   "cell_type": "markdown",
   "id": "36c4fbd8",
   "metadata": {},
   "source": [
    "reindex 로 지정된 행 인덱스 순서로 정렬"
   ]
  },
  {
   "cell_type": "code",
   "execution_count": 73,
   "id": "90674020",
   "metadata": {},
   "outputs": [
    {
     "data": {
      "text/plain": [
       "c    3\n",
       "b    2\n",
       "a    1\n",
       "dtype: int64"
      ]
     },
     "execution_count": 73,
     "metadata": {},
     "output_type": "execute_result"
    }
   ],
   "source": [
    "s_re.reindex(['c','b','a'])"
   ]
  },
  {
   "cell_type": "code",
   "execution_count": 74,
   "id": "09c440e8",
   "metadata": {
    "scrolled": false
   },
   "outputs": [
    {
     "data": {
      "text/plain": [
       "0    10\n",
       "1    20\n",
       "2    30\n",
       "dtype: int64"
      ]
     },
     "execution_count": 74,
     "metadata": {},
     "output_type": "execute_result"
    }
   ],
   "source": [
    "s1 = pd.Series([10,20,30], index=[0,1,2])\n",
    "s1"
   ]
  },
  {
   "cell_type": "code",
   "execution_count": 75,
   "id": "dca68d10",
   "metadata": {},
   "outputs": [
    {
     "data": {
      "text/plain": [
       "dtype('int64')"
      ]
     },
     "execution_count": 75,
     "metadata": {},
     "output_type": "execute_result"
    }
   ],
   "source": [
    "s1.index.dtype"
   ]
  },
  {
   "cell_type": "code",
   "execution_count": 76,
   "id": "6b3ea8e9",
   "metadata": {},
   "outputs": [
    {
     "data": {
      "text/plain": [
       "0    1\n",
       "1    2\n",
       "2    3\n",
       "dtype: int64"
      ]
     },
     "execution_count": 76,
     "metadata": {},
     "output_type": "execute_result"
    }
   ],
   "source": [
    "s2 = pd.Series([1,2,3],index = list('012'))\n",
    "s2"
   ]
  },
  {
   "cell_type": "code",
   "execution_count": 77,
   "id": "aee4168e",
   "metadata": {},
   "outputs": [
    {
     "data": {
      "text/plain": [
       "dtype('O')"
      ]
     },
     "execution_count": 77,
     "metadata": {},
     "output_type": "execute_result"
    }
   ],
   "source": [
    "s2.index.dtype"
   ]
  },
  {
   "cell_type": "markdown",
   "id": "accf1c25",
   "metadata": {},
   "source": [
    "인덱스 타입이 맞지 않으면 정상적인 연산이 불가"
   ]
  },
  {
   "cell_type": "code",
   "execution_count": 78,
   "id": "a081b597",
   "metadata": {},
   "outputs": [
    {
     "data": {
      "text/plain": [
       "0   NaN\n",
       "1   NaN\n",
       "2   NaN\n",
       "0   NaN\n",
       "1   NaN\n",
       "2   NaN\n",
       "dtype: float64"
      ]
     },
     "execution_count": 78,
     "metadata": {},
     "output_type": "execute_result"
    }
   ],
   "source": [
    "s1+s2"
   ]
  },
  {
   "cell_type": "markdown",
   "id": "69c32d1d",
   "metadata": {},
   "source": [
    "s2 의 index 를 재할당"
   ]
  },
  {
   "cell_type": "code",
   "execution_count": 79,
   "id": "b73cd020",
   "metadata": {},
   "outputs": [],
   "source": [
    "s2.index=[0,1,2]"
   ]
  },
  {
   "cell_type": "markdown",
   "id": "a461713e",
   "metadata": {},
   "source": [
    "인덱스타입이 동일해서 연산가능"
   ]
  },
  {
   "cell_type": "code",
   "execution_count": 80,
   "id": "55828c8c",
   "metadata": {
    "scrolled": true
   },
   "outputs": [
    {
     "data": {
      "text/plain": [
       "0    11\n",
       "1    22\n",
       "2    33\n",
       "dtype: int64"
      ]
     },
     "execution_count": 80,
     "metadata": {},
     "output_type": "execute_result"
    }
   ],
   "source": [
    "s1+s2"
   ]
  },
  {
   "cell_type": "code",
   "execution_count": 81,
   "id": "47baf652",
   "metadata": {
    "scrolled": true
   },
   "outputs": [
    {
     "data": {
      "text/plain": [
       "0    11\n",
       "1    12\n",
       "2    13\n",
       "dtype: int64"
      ]
     },
     "execution_count": 81,
     "metadata": {},
     "output_type": "execute_result"
    }
   ],
   "source": [
    "s3 = pd.Series([11,12,13], index=list('012'))\n",
    "s3"
   ]
  },
  {
   "cell_type": "code",
   "execution_count": 82,
   "id": "4f403db7",
   "metadata": {},
   "outputs": [
    {
     "data": {
      "text/plain": [
       "Index(['0', '1', '2'], dtype='object')"
      ]
     },
     "execution_count": 82,
     "metadata": {},
     "output_type": "execute_result"
    }
   ],
   "source": [
    "s3.index"
   ]
  },
  {
   "cell_type": "markdown",
   "id": "04b70403",
   "metadata": {},
   "source": [
    "인덱스를 rename 함수를 통해 정수로 변경"
   ]
  },
  {
   "cell_type": "code",
   "execution_count": 83,
   "id": "3343fb13",
   "metadata": {},
   "outputs": [],
   "source": [
    "s3 = s3.rename({'0':0, '1':1,'2':2})"
   ]
  },
  {
   "cell_type": "code",
   "execution_count": 84,
   "id": "6ac50736",
   "metadata": {},
   "outputs": [
    {
     "data": {
      "text/plain": [
       "0    10\n",
       "1    20\n",
       "2    30\n",
       "dtype: int64"
      ]
     },
     "execution_count": 84,
     "metadata": {},
     "output_type": "execute_result"
    }
   ],
   "source": [
    "s1"
   ]
  },
  {
   "cell_type": "code",
   "execution_count": 85,
   "id": "6db07f6a",
   "metadata": {},
   "outputs": [
    {
     "data": {
      "text/plain": [
       "0    11\n",
       "1    12\n",
       "2    13\n",
       "dtype: int64"
      ]
     },
     "execution_count": 85,
     "metadata": {},
     "output_type": "execute_result"
    }
   ],
   "source": [
    "s3"
   ]
  },
  {
   "cell_type": "code",
   "execution_count": 86,
   "id": "087c93c2",
   "metadata": {},
   "outputs": [
    {
     "data": {
      "text/plain": [
       "0    21\n",
       "1    32\n",
       "2    43\n",
       "dtype: int64"
      ]
     },
     "execution_count": 86,
     "metadata": {},
     "output_type": "execute_result"
    }
   ],
   "source": [
    "s1+s3"
   ]
  },
  {
   "cell_type": "code",
   "execution_count": 87,
   "id": "eb10457c",
   "metadata": {
    "scrolled": true
   },
   "outputs": [
    {
     "data": {
      "text/plain": [
       "0    11\n",
       "1    12\n",
       "2    13\n",
       "dtype: int64"
      ]
     },
     "execution_count": 87,
     "metadata": {},
     "output_type": "execute_result"
    }
   ],
   "source": [
    "s4 = pd.Series([11,12,13], index=list('012'))\n",
    "s4"
   ]
  },
  {
   "cell_type": "code",
   "execution_count": 88,
   "id": "38d33aa6",
   "metadata": {},
   "outputs": [
    {
     "data": {
      "text/plain": [
       "array([11, 12, 13], dtype=int64)"
      ]
     },
     "execution_count": 88,
     "metadata": {},
     "output_type": "execute_result"
    }
   ],
   "source": [
    "s4.values"
   ]
  },
  {
   "cell_type": "code",
   "execution_count": 89,
   "id": "236b15f0",
   "metadata": {},
   "outputs": [
    {
     "data": {
      "text/plain": [
       "Index(['0', '1', '2'], dtype='object')"
      ]
     },
     "execution_count": 89,
     "metadata": {},
     "output_type": "execute_result"
    }
   ],
   "source": [
    "s4.index"
   ]
  },
  {
   "cell_type": "markdown",
   "id": "58e183c7",
   "metadata": {},
   "source": [
    "index.values  \n",
    "인덱스를 밸류로"
   ]
  },
  {
   "cell_type": "code",
   "execution_count": 90,
   "id": "2e2b0801",
   "metadata": {
    "scrolled": true
   },
   "outputs": [
    {
     "data": {
      "text/plain": [
       "array(['0', '1', '2'], dtype=object)"
      ]
     },
     "execution_count": 90,
     "metadata": {},
     "output_type": "execute_result"
    }
   ],
   "source": [
    "s4.index.values"
   ]
  },
  {
   "cell_type": "markdown",
   "id": "2d5c9664",
   "metadata": {},
   "source": [
    "인덱스 형변환"
   ]
  },
  {
   "cell_type": "code",
   "execution_count": 91,
   "id": "e8047283",
   "metadata": {},
   "outputs": [],
   "source": [
    "s4.index = s4.index.astype('int64')"
   ]
  },
  {
   "cell_type": "code",
   "execution_count": 92,
   "id": "55bbe816",
   "metadata": {},
   "outputs": [
    {
     "data": {
      "text/plain": [
       "0    21\n",
       "1    32\n",
       "2    43\n",
       "dtype: int64"
      ]
     },
     "execution_count": 92,
     "metadata": {},
     "output_type": "execute_result"
    }
   ],
   "source": [
    "s1+s4"
   ]
  },
  {
   "cell_type": "code",
   "execution_count": 93,
   "id": "4a4f16b3",
   "metadata": {},
   "outputs": [],
   "source": [
    "s4.index = s4.index.values.astype('int64')"
   ]
  },
  {
   "cell_type": "code",
   "execution_count": 94,
   "id": "0012bda8",
   "metadata": {},
   "outputs": [
    {
     "data": {
      "text/plain": [
       "0    21\n",
       "1    32\n",
       "2    43\n",
       "dtype: int64"
      ]
     },
     "execution_count": 94,
     "metadata": {},
     "output_type": "execute_result"
    }
   ],
   "source": [
    "s1+s4"
   ]
  }
 ],
 "metadata": {
  "kernelspec": {
   "display_name": "Python 3 (ipykernel)",
   "language": "python",
   "name": "python3"
  },
  "language_info": {
   "codemirror_mode": {
    "name": "ipython",
    "version": 3
   },
   "file_extension": ".py",
   "mimetype": "text/x-python",
   "name": "python",
   "nbconvert_exporter": "python",
   "pygments_lexer": "ipython3",
   "version": "3.9.13"
  }
 },
 "nbformat": 4,
 "nbformat_minor": 5
}
