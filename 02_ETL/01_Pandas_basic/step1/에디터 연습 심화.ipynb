{
 "cells": [
  {
   "cell_type": "markdown",
   "id": "5cdfc9c5",
   "metadata": {},
   "source": [
    "# 키보드 단축키\n",
    "\n",
    "단축키는 아래 모드에서 각각 다르게 동작한다.\n",
    "* 편집모드\n",
    "* 명령모드"
   ]
  },
  {
   "cell_type": "markdown",
   "id": "3b194cf6",
   "metadata": {},
   "source": [
    "# 두 모드 모두에서 사용할 수 있는 단축키\n",
    "* Ctrl+Enter : 셀 실행  \n",
    "* Shift+Enter : 셀 실행하고 아래의 셀을 선택  \n",
    "* Alt+Enter : 셀 실행하고 아래에 새 셀 추가  \n",
    "* Ctrl+s : 저장"
   ]
  },
  {
   "cell_type": "code",
   "execution_count": 4,
   "id": "7b0398ad",
   "metadata": {},
   "outputs": [],
   "source": [
    "number1 = 10\n",
    "number2 = 20\n",
    "result = number1+number2"
   ]
  },
  {
   "cell_type": "code",
   "execution_count": 5,
   "id": "fa1bf7ce",
   "metadata": {},
   "outputs": [
    {
     "data": {
      "text/plain": [
       "30"
      ]
     },
     "execution_count": 5,
     "metadata": {},
     "output_type": "execute_result"
    }
   ],
   "source": [
    "result"
   ]
  },
  {
   "cell_type": "markdown",
   "id": "a307da9f",
   "metadata": {},
   "source": [
    "# 편집 모드에서만 사용할 수 있는 키보드 단축키"
   ]
  },
  {
   "cell_type": "markdown",
   "id": "803a804f",
   "metadata": {},
   "source": [
    "* Esc : 명령모드로 전환  \n",
    "* Ctrl+Shift+- : 셀 분할  \n",
    "* Ctrl+z : Undo  \n",
    "* Ctrl+/ : 주석(Comment) 추가"
   ]
  },
  {
   "cell_type": "code",
   "execution_count": 7,
   "id": "a97a1937",
   "metadata": {},
   "outputs": [],
   "source": [
    "number1 = 10\n",
    "number2 = 20\n",
    "result = number1+number2"
   ]
  },
  {
   "cell_type": "code",
   "execution_count": 8,
   "id": "07723da2",
   "metadata": {},
   "outputs": [
    {
     "data": {
      "text/plain": [
       "30"
      ]
     },
     "execution_count": 8,
     "metadata": {},
     "output_type": "execute_result"
    }
   ],
   "source": [
    "result"
   ]
  },
  {
   "cell_type": "markdown",
   "id": "70f80d6d",
   "metadata": {},
   "source": [
    "# 명령 모드에서만 사용할 수 있는 키보드 단축키\n",
    "* Enter : 편집 모드로 전환\n",
    "* k : 이전 셀 선택\n",
    "* j : 다음 셀 선택\n",
    "* y/m/r :  코드 셀/ 마크다운 셀/ Raw 셀로 타입 전환\n",
    "* a/b : 현재 셀의 위/아래에 새 셀 추가\n",
    "* dd : 현재 셀 삭제\n",
    "* x/c/v : 현재 셀에 대한 cut/copy/paste\n",
    "* Shift+m : 아래셀과 병합\n",
    "* z : 삭제한 셀에 대한 복원\n",
    "* f : find and replace\n",
    "* l : 셀의 라인을 Toggle\n",
    "* Shift+l : 전체 셀 라인을 Toggle\n",
    "* o : 셀의 아웃풋을 Toggle\n",
    "* Space : 화면 단위 스크롤 다운\n",
    "* Shift+Space : 화면 단위 스크롤 업\n",
    "* h : 키보드 단축키 전체 목록 조회"
   ]
  },
  {
   "cell_type": "code",
   "execution_count": 7,
   "id": "0f9ebd6f",
   "metadata": {},
   "outputs": [],
   "source": [
    "number1 = 10\n",
    "number2 = 20\n",
    "result = number1+number2"
   ]
  },
  {
   "cell_type": "code",
   "execution_count": 11,
   "id": "9f2ec6f7",
   "metadata": {
    "collapsed": true
   },
   "outputs": [
    {
     "data": {
      "text/plain": [
       "30"
      ]
     },
     "execution_count": 11,
     "metadata": {},
     "output_type": "execute_result"
    }
   ],
   "source": [
    "result"
   ]
  }
 ],
 "metadata": {
  "kernelspec": {
   "display_name": "Python 3 (ipykernel)",
   "language": "python",
   "name": "python3"
  },
  "language_info": {
   "codemirror_mode": {
    "name": "ipython",
    "version": 3
   },
   "file_extension": ".py",
   "mimetype": "text/x-python",
   "name": "python",
   "nbconvert_exporter": "python",
   "pygments_lexer": "ipython3",
   "version": "3.9.13"
  }
 },
 "nbformat": 4,
 "nbformat_minor": 5
}
