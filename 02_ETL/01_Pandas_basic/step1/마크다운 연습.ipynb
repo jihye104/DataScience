{
 "cells": [
  {
   "cell_type": "code",
   "execution_count": null,
   "id": "24974763",
   "metadata": {},
   "outputs": [],
   "source": [
    "y : 코드모드"
   ]
  },
  {
   "cell_type": "markdown",
   "id": "e92d0b05",
   "metadata": {},
   "source": [
    "m : 마크다운모드"
   ]
  },
  {
   "cell_type": "raw",
   "id": "7df7d87f",
   "metadata": {},
   "source": [
    "r : row모드"
   ]
  },
  {
   "cell_type": "markdown",
   "id": "26a43245",
   "metadata": {},
   "source": [
    "# 제목 크기 별 표시"
   ]
  },
  {
   "cell_type": "markdown",
   "id": "cd25a07a",
   "metadata": {},
   "source": [
    "## (최대 6단계 까지 표시)"
   ]
  },
  {
   "cell_type": "raw",
   "id": "f2bccece",
   "metadata": {},
   "source": [
    "# 첫 번째 큰 제목\n",
    "## 두 번째 큰 제목\n",
    "### 세 번째 큰 제목\n",
    "#### 네 번째 큰 제목\n",
    "##### 다섯 번째 큰 제목\n",
    "###### 여섯 번째 큰 제목"
   ]
  },
  {
   "cell_type": "markdown",
   "id": "24bf795d",
   "metadata": {},
   "source": [
    "# 첫 번째 큰 제목\n",
    "## 두 번째 큰 제목\n",
    "### 세 번째 큰 제목\n",
    "#### 네 번째 큰 제목\n",
    "##### 다섯 번째 큰 제목\n",
    "###### 여섯 번째 큰 제목"
   ]
  },
  {
   "cell_type": "markdown",
   "id": "a6429f7b",
   "metadata": {},
   "source": [
    "# 단축키 1~6으로 크기 조정"
   ]
  },
  {
   "cell_type": "markdown",
   "id": "5a3cbbb0",
   "metadata": {},
   "source": [
    "# 이 문장의 크기를 단축키로 바꿔보세요"
   ]
  },
  {
   "cell_type": "markdown",
   "id": "a4d5e40a",
   "metadata": {},
   "source": [
    "# 파이썬 Code 입력"
   ]
  },
  {
   "cell_type": "raw",
   "id": "529ceb22",
   "metadata": {},
   "source": [
    "~~~python\n",
    "파이썬코드입력\n",
    "~~~"
   ]
  },
  {
   "cell_type": "markdown",
   "id": "9253de67",
   "metadata": {},
   "source": [
    "~~~python\n",
    "num1 = 10\n",
    "num2 = 20\n",
    "result = num1+num2\n",
    "result\n",
    "~~~"
   ]
  },
  {
   "cell_type": "markdown",
   "id": "5a7ae65c",
   "metadata": {},
   "source": [
    "# 수평선"
   ]
  },
  {
   "cell_type": "raw",
   "id": "2e0013a3",
   "metadata": {},
   "source": [
    "마크다운 상태에서 *** or --- 하고 실행"
   ]
  },
  {
   "cell_type": "markdown",
   "id": "b33c5060",
   "metadata": {},
   "source": [
    "***"
   ]
  },
  {
   "cell_type": "markdown",
   "id": "9090a4cd",
   "metadata": {},
   "source": [
    "---"
   ]
  },
  {
   "cell_type": "markdown",
   "id": "a5f84560",
   "metadata": {},
   "source": [
    "# 목록"
   ]
  },
  {
   "cell_type": "raw",
   "id": "9f47c777",
   "metadata": {},
   "source": [
    "+ 첫번째\n",
    "+ 두번째\n",
    "+ 세번째"
   ]
  },
  {
   "cell_type": "markdown",
   "id": "56e4eafc",
   "metadata": {},
   "source": [
    "+ 첫번째\n",
    "+ 두번째\n",
    "+ 세번째"
   ]
  },
  {
   "cell_type": "raw",
   "id": "5ef92b08",
   "metadata": {},
   "source": [
    "- 첫번째\n",
    "- 두번째\n",
    "- 세번째"
   ]
  },
  {
   "cell_type": "markdown",
   "id": "26cade7f",
   "metadata": {},
   "source": [
    "- 첫번째\n",
    "- 두번째\n",
    "- 세번째"
   ]
  },
  {
   "cell_type": "raw",
   "id": "e54acd29",
   "metadata": {},
   "source": [
    "* 첫번째\n",
    "* 두번째\n",
    "* 세번째"
   ]
  },
  {
   "cell_type": "markdown",
   "id": "dadb8609",
   "metadata": {},
   "source": [
    "* 첫번째\n",
    "* 두번째\n",
    "* 세번째"
   ]
  },
  {
   "cell_type": "markdown",
   "id": "100dcac1",
   "metadata": {},
   "source": [
    "# 블릿 계층화"
   ]
  },
  {
   "cell_type": "raw",
   "id": "c03b0a1d",
   "metadata": {},
   "source": [
    "+ 첫번째 계층 목록\n",
    "    + 두번째 계층 목록\n",
    "        + 세번째 계층 목록"
   ]
  },
  {
   "cell_type": "markdown",
   "id": "b50d1c8c",
   "metadata": {},
   "source": [
    "+ 첫번째 계층 목록\n",
    "    + 두번째 계층 목록\n",
    "        + 세번째 계층 목록"
   ]
  },
  {
   "cell_type": "raw",
   "id": "e4c4f419",
   "metadata": {},
   "source": [
    "- 첫번째 계층 목록\n",
    "    - 두번째 계층 목록\n",
    "        - 세번째 계층 목록"
   ]
  },
  {
   "cell_type": "markdown",
   "id": "231132bd",
   "metadata": {},
   "source": [
    "- 첫번째 계층 목록\n",
    "    - 두번째 계층 목록\n",
    "        - 세번째 계층 목록"
   ]
  },
  {
   "cell_type": "raw",
   "id": "f5e844b5",
   "metadata": {},
   "source": [
    "* 첫번째 계층 목록\n",
    "    * 두번째 계층 목록\n",
    "        * 세번째 계층 목록"
   ]
  },
  {
   "cell_type": "markdown",
   "id": "2d89d006",
   "metadata": {},
   "source": [
    "* 첫번째 계층 목록\n",
    "    * 두번째 계층 목록\n",
    "        * 세번째 계층 목록"
   ]
  },
  {
   "cell_type": "markdown",
   "id": "434ac0f9",
   "metadata": {},
   "source": [
    "# 글씨 효과"
   ]
  },
  {
   "cell_type": "raw",
   "id": "5b8b1555",
   "metadata": {},
   "source": [
    "*기울어진 글씨*"
   ]
  },
  {
   "cell_type": "markdown",
   "id": "f0d58f25",
   "metadata": {},
   "source": [
    "*기울어진 글씨*"
   ]
  },
  {
   "cell_type": "raw",
   "id": "bacd366d",
   "metadata": {},
   "source": [
    "_기울어진 글씨_"
   ]
  },
  {
   "cell_type": "markdown",
   "id": "ea77e549",
   "metadata": {},
   "source": [
    "_기울어진 글씨_"
   ]
  },
  {
   "cell_type": "raw",
   "id": "a173a371",
   "metadata": {},
   "source": [
    "**굵은 글씨**"
   ]
  },
  {
   "cell_type": "markdown",
   "id": "bab4ea79",
   "metadata": {},
   "source": [
    "**굵은 글씨**"
   ]
  },
  {
   "cell_type": "raw",
   "id": "44978d69",
   "metadata": {},
   "source": [
    "__굵은 글씨__"
   ]
  },
  {
   "cell_type": "markdown",
   "id": "e0746b3b",
   "metadata": {},
   "source": [
    "__굵은 글씨__"
   ]
  },
  {
   "cell_type": "raw",
   "id": "d03d619c",
   "metadata": {},
   "source": [
    "~~줄그어진 글씨~~"
   ]
  },
  {
   "cell_type": "markdown",
   "id": "f5a4efb4",
   "metadata": {},
   "source": [
    "~~줄그어진 글씨~~"
   ]
  },
  {
   "cell_type": "markdown",
   "id": "0e371f69",
   "metadata": {},
   "source": [
    "# 하이퍼링크"
   ]
  },
  {
   "cell_type": "raw",
   "id": "46ffb499",
   "metadata": {},
   "source": [
    "[홈페이지이름](URL)\n",
    "예)\n",
    "[네이버](http://www.naver.com)"
   ]
  },
  {
   "cell_type": "markdown",
   "id": "48ec2fe4",
   "metadata": {},
   "source": [
    "[네이버](http://www.naver.com)"
   ]
  },
  {
   "cell_type": "markdown",
   "id": "1203f7fe",
   "metadata": {},
   "source": [
    "# 줄바꿈"
   ]
  },
  {
   "cell_type": "markdown",
   "id": "e59995d4",
   "metadata": {},
   "source": [
    "나는 자랑스러운 태극기 앞에\n",
    "조국과 민족의 무궁한 영광을 위해"
   ]
  },
  {
   "cell_type": "raw",
   "id": "06effe2a",
   "metadata": {},
   "source": [
    "나는 자랑스러운 태극기 앞에[공백(Space)문자 2개 입력]\n",
    "조국과 민족의 무궁한 영광을 위해"
   ]
  },
  {
   "cell_type": "markdown",
   "id": "eda27f79",
   "metadata": {},
   "source": [
    "나는 자랑스러운 태극기 앞에  \n",
    "조국과 민족의 무궁한 영광을 위해"
   ]
  },
  {
   "cell_type": "markdown",
   "id": "f2379b33",
   "metadata": {},
   "source": [
    "# 테이블"
   ]
  },
  {
   "cell_type": "raw",
   "id": "09e5d142",
   "metadata": {},
   "source": [
    "|  이름  | 국어성적 | 영어성적 | 수학성적 |\n",
    "|--------|----------|----------|----------|\n",
    "| 홍길동 |    90    |    79    |    80    |\n",
    "| 이순신 |    90    |    79    |    90    |\n",
    "| 임꺽정 |    80    |    79    |    80    |"
   ]
  },
  {
   "cell_type": "markdown",
   "id": "1a561857",
   "metadata": {},
   "source": [
    "|  이름  | 국어성적 | 영어성적 | 수학성적 |\n",
    "|--------|----------|----------|----------|\n",
    "| 홍길동 |    90    |    79    |    80    |\n",
    "| 이순신 |    90    |    79    |    90    |\n",
    "| 임꺽정 |    80    |    79    |    80    |"
   ]
  },
  {
   "cell_type": "markdown",
   "id": "992b8ed7",
   "metadata": {},
   "source": [
    "# 수식(수학공식) 입력"
   ]
  },
  {
   "cell_type": "markdown",
   "id": "808882b8",
   "metadata": {},
   "source": [
    "[LaTex 문법](https://ko.wikipedia.org/wiki/%EC%9C%84%ED%82%A4%EB%B0%B1%EA%B3%BC:TeX_%EB%AC%B8%EB%B2%95) 을 따름"
   ]
  },
  {
   "cell_type": "raw",
   "id": "80f7443e",
   "metadata": {},
   "source": [
    "사용예)\n",
    "$$\\sqrt{x^3+y^3 \\over 2}$$"
   ]
  },
  {
   "cell_type": "markdown",
   "id": "776e1c49",
   "metadata": {},
   "source": [
    "$$\\sqrt{x^3+y^3 \\over 2}$$"
   ]
  },
  {
   "cell_type": "markdown",
   "id": "415663b9",
   "metadata": {},
   "source": [
    "# HTML 코드"
   ]
  },
  {
   "cell_type": "markdown",
   "id": "3f89f82b",
   "metadata": {},
   "source": [
    "## 글자색상"
   ]
  },
  {
   "cell_type": "raw",
   "id": "b821cee4",
   "metadata": {},
   "source": [
    "<span style = 'color:red'>빨간색 글씨</span>\n",
    "<span style = 'color:blue'>파란색 글씨</span>\n",
    "<span style = 'color:#F8766D'>색상코드색의 글씨</span>"
   ]
  },
  {
   "cell_type": "markdown",
   "id": "c9747098",
   "metadata": {},
   "source": [
    "<span style = 'color:red'>빨간색 글씨</span>  \n",
    "<span style = 'color:blue'>파란색 글씨</span>  \n",
    "<span style = 'color:#F8766D'>색상코드색의 글씨</span>"
   ]
  },
  {
   "cell_type": "markdown",
   "id": "c9a80fc2",
   "metadata": {},
   "source": [
    "## Table"
   ]
  },
  {
   "cell_type": "raw",
   "id": "7a7ee4d2",
   "metadata": {},
   "source": [
    "<table border=\"\">\n",
    "    <th>이름</th><th>나이</th>\n",
    "        <tr>\n",
    "            <td>홍길동</td>\n",
    "            <td>28</td>\n",
    "        </tr>\n",
    "        <tr>\n",
    "            <td>이순신</td>\n",
    "            <td>57</td>\n",
    "        </tr>\n",
    "</table>"
   ]
  },
  {
   "cell_type": "markdown",
   "id": "6a96bdee",
   "metadata": {},
   "source": [
    "<table border=\"\">\n",
    "    <th>이름</th><th>나이</th>\n",
    "        <tr>\n",
    "            <td>홍길동</td>\n",
    "            <td>28</td>\n",
    "        </tr>\n",
    "         <tr>\n",
    "            <td>이순신</td>\n",
    "            <td>57</td>\n",
    "        </tr>\n",
    "</table>"
   ]
  },
  {
   "cell_type": "code",
   "execution_count": null,
   "id": "066fe59b",
   "metadata": {},
   "outputs": [],
   "source": []
  }
 ],
 "metadata": {
  "kernelspec": {
   "display_name": "Python 3 (ipykernel)",
   "language": "python",
   "name": "python3"
  },
  "language_info": {
   "codemirror_mode": {
    "name": "ipython",
    "version": 3
   },
   "file_extension": ".py",
   "mimetype": "text/x-python",
   "name": "python",
   "nbconvert_exporter": "python",
   "pygments_lexer": "ipython3",
   "version": "3.9.13"
  }
 },
 "nbformat": 4,
 "nbformat_minor": 5
}
