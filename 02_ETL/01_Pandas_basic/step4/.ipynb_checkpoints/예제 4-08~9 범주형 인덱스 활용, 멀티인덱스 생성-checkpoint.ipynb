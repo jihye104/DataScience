{
 "cells": [
  {
   "cell_type": "code",
   "execution_count": 1,
   "id": "ba9bb185",
   "metadata": {},
   "outputs": [],
   "source": [
    "import pandas as pd"
   ]
  },
  {
   "cell_type": "markdown",
   "id": "b55c0cf4",
   "metadata": {},
   "source": [
    "## 예제 4-8 범주형 인덱스 활용하기\n",
    "CategoricalIndex => 데이터의 인덱스를 범주형으로 하겠다는 의미"
   ]
  },
  {
   "cell_type": "code",
   "execution_count": 3,
   "id": "b2702e8a",
   "metadata": {},
   "outputs": [],
   "source": [
    "inx_i = pd.CategoricalIndex([1,2,3,4])"
   ]
  },
  {
   "cell_type": "code",
   "execution_count": 5,
   "id": "06cd20ce",
   "metadata": {},
   "outputs": [
    {
     "data": {
      "text/plain": [
       "1    1\n",
       "2    2\n",
       "3    3\n",
       "4    4\n",
       "dtype: int64"
      ]
     },
     "execution_count": 5,
     "metadata": {},
     "output_type": "execute_result"
    }
   ],
   "source": [
    "s = pd.Series([1,2,3,4],index=inx_i)\n",
    "s"
   ]
  },
  {
   "cell_type": "code",
   "execution_count": 6,
   "id": "08cf96e7",
   "metadata": {},
   "outputs": [
    {
     "data": {
      "text/plain": [
       "CategoricalIndex([1, 2, 3, 4], categories=[1, 2, 3, 4], ordered=False, dtype='category')"
      ]
     },
     "execution_count": 6,
     "metadata": {},
     "output_type": "execute_result"
    }
   ],
   "source": [
    "s.index"
   ]
  },
  {
   "cell_type": "code",
   "execution_count": 7,
   "id": "5ebb2b18",
   "metadata": {
    "scrolled": true
   },
   "outputs": [
    {
     "data": {
      "text/plain": [
       "1      1\n",
       "2      2\n",
       "3    100\n",
       "4      4\n",
       "dtype: int64"
      ]
     },
     "execution_count": 7,
     "metadata": {},
     "output_type": "execute_result"
    }
   ],
   "source": [
    "s[3] = 100\n",
    "s"
   ]
  },
  {
   "cell_type": "markdown",
   "id": "5e24eac3",
   "metadata": {},
   "source": [
    "인덱스의 카테고리(범위)를 넘어선 지점에 값을 입력하려 하기 때문에 에러 발생"
   ]
  },
  {
   "cell_type": "code",
   "execution_count": 8,
   "id": "147f9823",
   "metadata": {
    "scrolled": true
   },
   "outputs": [
    {
     "name": "stdout",
     "output_type": "stream",
     "text": [
      "index 5 is out of bounds for axis 0 with size 4\n"
     ]
    },
    {
     "name": "stderr",
     "output_type": "stream",
     "text": [
      "C:\\Users\\TJ\\AppData\\Local\\Temp\\ipykernel_6568\\1416996987.py:2: FutureWarning: Treating integers as positional in Series.__setitem__ with a Float64Index is deprecated. In a future version, `series[an_int] = val` will insert a new key into the Series. Use `series.iloc[an_int] = val` to treat the key as positional.\n",
      "  s[5] = 100\n"
     ]
    }
   ],
   "source": [
    "try :\n",
    "    s[5] = 100\n",
    "except Exception as e :\n",
    "    print(e)"
   ]
  },
  {
   "cell_type": "markdown",
   "id": "d21f8cb4",
   "metadata": {},
   "source": [
    "loc 를 사용하면 입력가능  \n",
    "범주형 인덱스를 사용한 의도에서 벗어난 것인지 주의가 필요함"
   ]
  },
  {
   "cell_type": "code",
   "execution_count": 10,
   "id": "dc2ed0c2",
   "metadata": {
    "scrolled": true
   },
   "outputs": [
    {
     "data": {
      "text/plain": [
       "1      1\n",
       "2      2\n",
       "3    100\n",
       "4      4\n",
       "5    100\n",
       "dtype: int64"
      ]
     },
     "execution_count": 10,
     "metadata": {},
     "output_type": "execute_result"
    }
   ],
   "source": [
    "s.loc[5]=100\n",
    "s"
   ]
  },
  {
   "cell_type": "markdown",
   "id": "fb28fddf",
   "metadata": {},
   "source": [
    "## 비교 예제 3-15 범주형 데이터 생성"
   ]
  },
  {
   "cell_type": "code",
   "execution_count": 11,
   "id": "e8438584",
   "metadata": {},
   "outputs": [
    {
     "data": {
      "text/plain": [
       "0    a\n",
       "1    b\n",
       "2    c\n",
       "3    a\n",
       "dtype: category\n",
       "Categories (3, object): ['a', 'b', 'c']"
      ]
     },
     "execution_count": 11,
     "metadata": {},
     "output_type": "execute_result"
    }
   ],
   "source": [
    "s = pd.Series([\"a\",\"b\",\"c\",\"a\"], dtype=\"category\")\n",
    "s"
   ]
  },
  {
   "cell_type": "code",
   "execution_count": 12,
   "id": "f17fdda1",
   "metadata": {},
   "outputs": [
    {
     "name": "stdout",
     "output_type": "stream",
     "text": [
      "Cannot setitem on a Categorical with a new category (d), set the categories first\n"
     ]
    }
   ],
   "source": [
    "try : \n",
    "    s[2] = 'd'\n",
    "except Exception as e :\n",
    "    print(e)"
   ]
  },
  {
   "cell_type": "code",
   "execution_count": 15,
   "id": "62158c94",
   "metadata": {},
   "outputs": [
    {
     "data": {
      "text/plain": [
       "0    a\n",
       "1    b\n",
       "2    b\n",
       "3    a\n",
       "dtype: category\n",
       "Categories (3, object): ['a', 'b', 'c']"
      ]
     },
     "execution_count": 15,
     "metadata": {},
     "output_type": "execute_result"
    }
   ],
   "source": [
    "s[2] = 'b'\n",
    "s"
   ]
  },
  {
   "cell_type": "markdown",
   "id": "f855c78a",
   "metadata": {},
   "source": [
    "원래는 경계 값을 넘어서는 곳에 값을 쓰려고 하였기 때문에 에러가 발생해야함(과거 버전에는 에러 발생)  \n",
    "현재는 생성이 되고 데이터 타입도 바뀌게 되므로 주의해야함"
   ]
  },
  {
   "cell_type": "code",
   "execution_count": 16,
   "id": "c768d55e",
   "metadata": {
    "scrolled": true
   },
   "outputs": [
    {
     "data": {
      "text/plain": [
       "0    a\n",
       "1    b\n",
       "2    b\n",
       "3    a\n",
       "4    d\n",
       "dtype: object"
      ]
     },
     "execution_count": 16,
     "metadata": {},
     "output_type": "execute_result"
    }
   ],
   "source": [
    "try : \n",
    "    s[4] = 'd'\n",
    "except Exception as e :\n",
    "    print(e)\n",
    "\n",
    "s"
   ]
  },
  {
   "cell_type": "code",
   "execution_count": 17,
   "id": "f75de97b",
   "metadata": {},
   "outputs": [
    {
     "data": {
      "text/plain": [
       "0    a\n",
       "1    b\n",
       "2    c\n",
       "3    a\n",
       "dtype: category\n",
       "Categories (3, object): ['a', 'b', 'c']"
      ]
     },
     "execution_count": 17,
     "metadata": {},
     "output_type": "execute_result"
    }
   ],
   "source": [
    "s = pd.Series([\"a\",\"b\",\"c\",\"a\"], dtype=\"category\")\n",
    "s"
   ]
  },
  {
   "cell_type": "markdown",
   "id": "29100f50",
   "metadata": {},
   "source": [
    "loc 를 적용하면 가능  \n",
    "타입이 바뀐다는 점 역시 주의해야함"
   ]
  },
  {
   "cell_type": "code",
   "execution_count": 18,
   "id": "2f75af91",
   "metadata": {
    "scrolled": true
   },
   "outputs": [
    {
     "data": {
      "text/plain": [
       "0    a\n",
       "1    b\n",
       "2    c\n",
       "3    a\n",
       "4    d\n",
       "dtype: object"
      ]
     },
     "execution_count": 18,
     "metadata": {},
     "output_type": "execute_result"
    }
   ],
   "source": [
    "s.loc[4] ='d'\n",
    "s"
   ]
  },
  {
   "cell_type": "code",
   "execution_count": 19,
   "id": "2a836813",
   "metadata": {
    "scrolled": true
   },
   "outputs": [
    {
     "data": {
      "text/plain": [
       "['a', 'b', 'c', 'a']"
      ]
     },
     "execution_count": 19,
     "metadata": {},
     "output_type": "execute_result"
    }
   ],
   "source": [
    "my_list=[\"a\",\"b\",\"c\",\"a\"]\n",
    "my_list"
   ]
  },
  {
   "cell_type": "code",
   "execution_count": 20,
   "id": "711f69d0",
   "metadata": {},
   "outputs": [
    {
     "data": {
      "text/plain": [
       "'a'"
      ]
     },
     "execution_count": 20,
     "metadata": {},
     "output_type": "execute_result"
    }
   ],
   "source": [
    "my_list[0]"
   ]
  },
  {
   "cell_type": "markdown",
   "id": "087cf5ce",
   "metadata": {},
   "source": [
    "없는 인덱스 값 호출하면 에러남"
   ]
  },
  {
   "cell_type": "code",
   "execution_count": 21,
   "id": "80b23ef5",
   "metadata": {
    "scrolled": false
   },
   "outputs": [
    {
     "ename": "IndexError",
     "evalue": "list index out of range",
     "output_type": "error",
     "traceback": [
      "\u001b[1;31m---------------------------------------------------------------------------\u001b[0m",
      "\u001b[1;31mIndexError\u001b[0m                                Traceback (most recent call last)",
      "\u001b[1;32m~\\AppData\\Local\\Temp\\ipykernel_6568\\2622421892.py\u001b[0m in \u001b[0;36m<module>\u001b[1;34m\u001b[0m\n\u001b[1;32m----> 1\u001b[1;33m \u001b[0mmy_list\u001b[0m\u001b[1;33m[\u001b[0m\u001b[1;36m4\u001b[0m\u001b[1;33m]\u001b[0m\u001b[1;33m\u001b[0m\u001b[1;33m\u001b[0m\u001b[0m\n\u001b[0m",
      "\u001b[1;31mIndexError\u001b[0m: list index out of range"
     ]
    }
   ],
   "source": [
    "my_list[4]"
   ]
  },
  {
   "cell_type": "markdown",
   "id": "f5c29bf9",
   "metadata": {},
   "source": [
    "기존의 시리즈에서 값 추가 할 경우"
   ]
  },
  {
   "cell_type": "code",
   "execution_count": 22,
   "id": "6d5e7349",
   "metadata": {},
   "outputs": [
    {
     "data": {
      "text/plain": [
       "0    a\n",
       "1    b\n",
       "2    c\n",
       "3    a\n",
       "dtype: object"
      ]
     },
     "execution_count": 22,
     "metadata": {},
     "output_type": "execute_result"
    }
   ],
   "source": [
    "s = pd.Series([\"a\",\"b\",\"c\",\"a\"])\n",
    "s"
   ]
  },
  {
   "cell_type": "markdown",
   "id": "e2dba93f",
   "metadata": {},
   "source": [
    "기존 시리즈에서의 확장방식과 비교  \n",
    "기존의 시리즈에서는 새로운 인덱스에 값을 할당하면 시리즈가 확장된다."
   ]
  },
  {
   "cell_type": "code",
   "execution_count": 23,
   "id": "13425ee9",
   "metadata": {},
   "outputs": [
    {
     "data": {
      "text/plain": [
       "0    a\n",
       "1    b\n",
       "2    c\n",
       "3    a\n",
       "4    d\n",
       "dtype: object"
      ]
     },
     "execution_count": 23,
     "metadata": {},
     "output_type": "execute_result"
    }
   ],
   "source": [
    "s[4] = 'd'\n",
    "s"
   ]
  },
  {
   "cell_type": "code",
   "execution_count": 24,
   "id": "0c91abe2",
   "metadata": {
    "scrolled": true
   },
   "outputs": [
    {
     "data": {
      "text/plain": [
       "0    1\n",
       "1    2\n",
       "2    3\n",
       "3    4\n",
       "dtype: int64"
      ]
     },
     "execution_count": 24,
     "metadata": {},
     "output_type": "execute_result"
    }
   ],
   "source": [
    "s = pd.Series([1,2,3,4])\n",
    "s"
   ]
  },
  {
   "cell_type": "code",
   "execution_count": 25,
   "id": "cfbca0b5",
   "metadata": {
    "scrolled": true
   },
   "outputs": [
    {
     "data": {
      "text/plain": [
       "0    1\n",
       "1    2\n",
       "2    3\n",
       "3    4\n",
       "4    5\n",
       "dtype: int64"
      ]
     },
     "execution_count": 25,
     "metadata": {},
     "output_type": "execute_result"
    }
   ],
   "source": [
    "s[4]=5\n",
    "s"
   ]
  },
  {
   "cell_type": "markdown",
   "id": "dc5805aa",
   "metadata": {},
   "source": [
    "## 예제 4-9 멀티인덱스 생성 \n",
    "### 목적 : 데이터의 검색, 관리 등을 단일 인덱스 보다 더 정교하게 처리하고 싶은 경우에 활용"
   ]
  },
  {
   "cell_type": "raw",
   "id": "887a59a9",
   "metadata": {},
   "source": [
    "numpy 의 np.random. randint vs rand/randn\n",
    "np.random.seed seed를 통한 난수 생성  \n",
    "  \n",
    "np.random.randint 균일 분포의 정수 난수 1개 생성  \n",
    "np.random.rand 0부터 1사이의 균일 분포를 보이는 표준정규분포 난수 matrix array생성  \n",
    "np.random.randn 평균0, 표준편차1의 표준 정규 분포에서 난수 matrix array생성  \n",
    "  \n",
    "* randint  \n",
    "np.random.randint(6) # 0 or 1 or ~ or 5      0부터 5까지 랜덤한 숫자 1개   \n",
    "5  \n",
    "np.random.randint(1, 20) # 1부터 19까지 랜덤숫자 1개  \n",
    "19\n",
    "  \n",
    "  \n",
    "* rand  \n",
    "np.random.rand(6)   \n",
    "array([0.82374834, 0.03504426, 0.19848749, 0.47607174, 0.98983665, 0.63021609])  \n",
    "np.random.rand(3,2)  \n",
    "array([[0.21023055, 0.46075628],  \n",
    "       [0.99993567, 0.29630209],  \n",
    "       [0.79509783, 0.05405658]])  \n",
    "         \n",
    "* randn  \n",
    "np.random.randn(6)  \n",
    "array([ 0.42240858,  0.39214236, -0.05216362, -0.31037385, -1.75930161, 0.04749234])  \n",
    "np.random.randn(3, 2)  \n",
    "array([[ 1.65238965, -0.75137173],  \n",
    "       [-1.59079976, -1.26309433],  \n",
    "       [ 0.20991563,  2.23786713]])  "
   ]
  },
  {
   "cell_type": "code",
   "execution_count": 27,
   "id": "38589baf",
   "metadata": {},
   "outputs": [],
   "source": [
    "import numpy as np"
   ]
  },
  {
   "cell_type": "code",
   "execution_count": 28,
   "id": "2059242a",
   "metadata": {},
   "outputs": [
    {
     "data": {
      "text/plain": [
       "[('강원도', 2017),\n",
       " ('강원도', 2018),\n",
       " ('강원도', 2019),\n",
       " ('경기도', 2017),\n",
       " ('경기도', 2018),\n",
       " ('경기도', 2019),\n",
       " ('서울', 2017),\n",
       " ('서울', 2018),\n",
       " ('서울', 2019)]"
      ]
     },
     "execution_count": 28,
     "metadata": {},
     "output_type": "execute_result"
    }
   ],
   "source": [
    "ind = [\n",
    "    (\"강원도\",2017),\n",
    "    (\"강원도\",2018),\n",
    "    (\"강원도\",2019),\n",
    "    (\"경기도\",2017),\n",
    "    (\"경기도\",2018),\n",
    "    (\"경기도\",2019),\n",
    "    (\"서울\", 2017), \n",
    "    (\"서울\", 2018),\n",
    "    (\"서울\", 2019)    \n",
    "]\n",
    "ind"
   ]
  },
  {
   "cell_type": "code",
   "execution_count": 33,
   "id": "0f6e96f5",
   "metadata": {
    "scrolled": true
   },
   "outputs": [
    {
     "data": {
      "text/plain": [
       "MultiIndex([('강원도', 2017),\n",
       "            ('강원도', 2018),\n",
       "            ('강원도', 2019),\n",
       "            ('경기도', 2017),\n",
       "            ('경기도', 2018),\n",
       "            ('경기도', 2019),\n",
       "            ( '서울', 2017),\n",
       "            ( '서울', 2018),\n",
       "            ( '서울', 2019)],\n",
       "           )"
      ]
     },
     "execution_count": 33,
     "metadata": {},
     "output_type": "execute_result"
    }
   ],
   "source": [
    "index = pd.MultiIndex.from_tuples(ind)\n",
    "index"
   ]
  },
  {
   "cell_type": "code",
   "execution_count": 34,
   "id": "f9b0ee02",
   "metadata": {
    "scrolled": true
   },
   "outputs": [
    {
     "data": {
      "text/plain": [
       "강원도  2017    8\n",
       "     2018    5\n",
       "     2019    8\n",
       "경기도  2017    1\n",
       "     2018    7\n",
       "     2019    5\n",
       "서울   2017    4\n",
       "     2018    6\n",
       "     2019    8\n",
       "dtype: int32"
      ]
     },
     "execution_count": 34,
     "metadata": {},
     "output_type": "execute_result"
    }
   ],
   "source": [
    "s = pd.Series(np.random.randint(1,10,9),index = index)\n",
    "s"
   ]
  },
  {
   "cell_type": "markdown",
   "id": "e4afa548",
   "metadata": {},
   "source": [
    "상위 인덱스를 통해서 모든 하위 인덱스 값을 바로 얻을 수 있다."
   ]
  },
  {
   "cell_type": "code",
   "execution_count": 35,
   "id": "9aeed27d",
   "metadata": {
    "scrolled": true
   },
   "outputs": [
    {
     "data": {
      "text/plain": [
       "2017    4\n",
       "2018    6\n",
       "2019    8\n",
       "dtype: int32"
      ]
     },
     "execution_count": 35,
     "metadata": {},
     "output_type": "execute_result"
    }
   ],
   "source": [
    "s['서울']"
   ]
  },
  {
   "cell_type": "code",
   "execution_count": 36,
   "id": "d7b51b87",
   "metadata": {},
   "outputs": [
    {
     "data": {
      "text/plain": [
       "4"
      ]
     },
     "execution_count": 36,
     "metadata": {},
     "output_type": "execute_result"
    }
   ],
   "source": [
    "s['서울',2017]"
   ]
  },
  {
   "cell_type": "code",
   "execution_count": 37,
   "id": "6cf264cd",
   "metadata": {},
   "outputs": [
    {
     "data": {
      "text/plain": [
       "4"
      ]
     },
     "execution_count": 37,
     "metadata": {},
     "output_type": "execute_result"
    }
   ],
   "source": [
    "s[('서울',2017)]"
   ]
  },
  {
   "cell_type": "code",
   "execution_count": 38,
   "id": "13070492",
   "metadata": {},
   "outputs": [
    {
     "data": {
      "text/plain": [
       "2017    4\n",
       "2018    6\n",
       "2019    8\n",
       "dtype: int32"
      ]
     },
     "execution_count": 38,
     "metadata": {},
     "output_type": "execute_result"
    }
   ],
   "source": [
    "s.loc['서울']"
   ]
  },
  {
   "cell_type": "markdown",
   "id": "dcc8e962",
   "metadata": {},
   "source": [
    "멀티 인덱스 경우  \n",
    "[상위계층,하위계층]  \n",
    "하위 인덱스를 통하여 모든 상위인덱스에 적용 가능"
   ]
  },
  {
   "cell_type": "code",
   "execution_count": 39,
   "id": "eb06aa0e",
   "metadata": {},
   "outputs": [
    {
     "data": {
      "text/plain": [
       "강원도    8\n",
       "경기도    1\n",
       "서울     4\n",
       "dtype: int32"
      ]
     },
     "execution_count": 39,
     "metadata": {},
     "output_type": "execute_result"
    }
   ],
   "source": [
    "s[:,2017]"
   ]
  },
  {
   "cell_type": "code",
   "execution_count": 40,
   "id": "da4c68ff",
   "metadata": {},
   "outputs": [
    {
     "data": {
      "text/plain": [
       "강원도    8\n",
       "경기도    1\n",
       "서울     4\n",
       "dtype: int32"
      ]
     },
     "execution_count": 40,
     "metadata": {},
     "output_type": "execute_result"
    }
   ],
   "source": [
    "s.loc[:,2017]"
   ]
  },
  {
   "cell_type": "markdown",
   "id": "fef716bf",
   "metadata": {},
   "source": [
    "### array 조합을 통한 멀티인덱스 생성"
   ]
  },
  {
   "cell_type": "code",
   "execution_count": 41,
   "id": "09aa8cd8",
   "metadata": {
    "scrolled": false
   },
   "outputs": [
    {
     "data": {
      "text/plain": [
       "[array(['강원도', '경기도', '서울', '강원도', '경기도', '서울', '강원도', '경기도', '서울'],\n",
       "       dtype='<U3'),\n",
       " array([2017, 2018, 2019, 2017, 2018, 2019, 2017, 2018, 2019])]"
      ]
     },
     "execution_count": 41,
     "metadata": {},
     "output_type": "execute_result"
    }
   ],
   "source": [
    "arrays = [\n",
    "    np.array(['강원도','경기도','서울','강원도','경기도','서울','강원도','경기도','서울']),\n",
    "    np.array([2017,2018,2019,2017,2018,2019,2017,2018,2019])\n",
    "]\n",
    "arrays"
   ]
  },
  {
   "cell_type": "code",
   "execution_count": 42,
   "id": "99f94042",
   "metadata": {
    "scrolled": false
   },
   "outputs": [
    {
     "data": {
      "text/plain": [
       "강원도  2017   -1.864787\n",
       "경기도  2018    1.433896\n",
       "서울   2019    1.447996\n",
       "강원도  2017   -0.520386\n",
       "경기도  2018   -0.272307\n",
       "서울   2019   -0.035552\n",
       "강원도  2017    0.384621\n",
       "경기도  2018    0.773696\n",
       "서울   2019    1.923745\n",
       "dtype: float64"
      ]
     },
     "execution_count": 42,
     "metadata": {},
     "output_type": "execute_result"
    }
   ],
   "source": [
    "s = pd.Series(np.random.randn(9),index = arrays)\n",
    "s"
   ]
  },
  {
   "cell_type": "code",
   "execution_count": 43,
   "id": "7b9822a5",
   "metadata": {},
   "outputs": [
    {
     "data": {
      "text/plain": [
       "MultiIndex([('강원도', 2017),\n",
       "            ('경기도', 2018),\n",
       "            ( '서울', 2019),\n",
       "            ('강원도', 2017),\n",
       "            ('경기도', 2018),\n",
       "            ( '서울', 2019),\n",
       "            ('강원도', 2017),\n",
       "            ('경기도', 2018),\n",
       "            ( '서울', 2019)],\n",
       "           )"
      ]
     },
     "execution_count": 43,
     "metadata": {},
     "output_type": "execute_result"
    }
   ],
   "source": [
    "s.index"
   ]
  },
  {
   "cell_type": "markdown",
   "id": "51c49568",
   "metadata": {},
   "source": [
    "from_product 함수를 사용하게 되면 상위인덱스, 하위인덱스의 모든 조합을 자동으로 생성해 준다.  \n",
    "names 인자에 멀티인덱스의 개념적인 이름을 리스트로 지정가능하다."
   ]
  },
  {
   "cell_type": "code",
   "execution_count": 44,
   "id": "80b76942",
   "metadata": {},
   "outputs": [
    {
     "data": {
      "text/plain": [
       "MultiIndex([('강원도', 2017),\n",
       "            ('강원도', 2018),\n",
       "            ('강원도', 2019),\n",
       "            ('경기도', 2017),\n",
       "            ('경기도', 2018),\n",
       "            ('경기도', 2019),\n",
       "            ( '서울', 2017),\n",
       "            ( '서울', 2018),\n",
       "            ( '서울', 2019)],\n",
       "           names=['행정구역', '년도'])"
      ]
     },
     "execution_count": 44,
     "metadata": {},
     "output_type": "execute_result"
    }
   ],
   "source": [
    "iterables = [['강원도','경기도','서울'],[2017,2018,2019]]\n",
    "arrays2 = pd.MultiIndex.from_product(iterables,names=['행정구역','년도'])\n",
    "arrays2"
   ]
  },
  {
   "cell_type": "code",
   "execution_count": 45,
   "id": "b0147ca9",
   "metadata": {},
   "outputs": [
    {
     "data": {
      "text/plain": [
       "행정구역  년도  \n",
       "강원도   2017   -0.384008\n",
       "      2018   -1.274381\n",
       "      2019   -0.755850\n",
       "경기도   2017    0.388568\n",
       "      2018    0.541544\n",
       "      2019    0.708475\n",
       "서울    2017   -0.329283\n",
       "      2018   -0.050010\n",
       "      2019    2.919344\n",
       "dtype: float64"
      ]
     },
     "execution_count": 45,
     "metadata": {},
     "output_type": "execute_result"
    }
   ],
   "source": [
    "s = pd.Series(np.random.randn(9),index = arrays2)\n",
    "s"
   ]
  },
  {
   "cell_type": "code",
   "execution_count": 46,
   "id": "cf4464b6",
   "metadata": {
    "scrolled": true
   },
   "outputs": [
    {
     "data": {
      "text/html": [
       "<div>\n",
       "<style scoped>\n",
       "    .dataframe tbody tr th:only-of-type {\n",
       "        vertical-align: middle;\n",
       "    }\n",
       "\n",
       "    .dataframe tbody tr th {\n",
       "        vertical-align: top;\n",
       "    }\n",
       "\n",
       "    .dataframe thead th {\n",
       "        text-align: right;\n",
       "    }\n",
       "</style>\n",
       "<table border=\"1\" class=\"dataframe\">\n",
       "  <thead>\n",
       "    <tr style=\"text-align: right;\">\n",
       "      <th></th>\n",
       "      <th></th>\n",
       "      <th>더조은 지수A</th>\n",
       "    </tr>\n",
       "    <tr>\n",
       "      <th>행정구역</th>\n",
       "      <th>년도</th>\n",
       "      <th></th>\n",
       "    </tr>\n",
       "  </thead>\n",
       "  <tbody>\n",
       "    <tr>\n",
       "      <th rowspan=\"3\" valign=\"top\">강원도</th>\n",
       "      <th>2017</th>\n",
       "      <td>-0.384008</td>\n",
       "    </tr>\n",
       "    <tr>\n",
       "      <th>2018</th>\n",
       "      <td>-1.274381</td>\n",
       "    </tr>\n",
       "    <tr>\n",
       "      <th>2019</th>\n",
       "      <td>-0.755850</td>\n",
       "    </tr>\n",
       "    <tr>\n",
       "      <th rowspan=\"3\" valign=\"top\">경기도</th>\n",
       "      <th>2017</th>\n",
       "      <td>0.388568</td>\n",
       "    </tr>\n",
       "    <tr>\n",
       "      <th>2018</th>\n",
       "      <td>0.541544</td>\n",
       "    </tr>\n",
       "    <tr>\n",
       "      <th>2019</th>\n",
       "      <td>0.708475</td>\n",
       "    </tr>\n",
       "    <tr>\n",
       "      <th rowspan=\"3\" valign=\"top\">서울</th>\n",
       "      <th>2017</th>\n",
       "      <td>-0.329283</td>\n",
       "    </tr>\n",
       "    <tr>\n",
       "      <th>2018</th>\n",
       "      <td>-0.050010</td>\n",
       "    </tr>\n",
       "    <tr>\n",
       "      <th>2019</th>\n",
       "      <td>2.919344</td>\n",
       "    </tr>\n",
       "  </tbody>\n",
       "</table>\n",
       "</div>"
      ],
      "text/plain": [
       "            더조은 지수A\n",
       "행정구역 년도            \n",
       "강원도  2017 -0.384008\n",
       "     2018 -1.274381\n",
       "     2019 -0.755850\n",
       "경기도  2017  0.388568\n",
       "     2018  0.541544\n",
       "     2019  0.708475\n",
       "서울   2017 -0.329283\n",
       "     2018 -0.050010\n",
       "     2019  2.919344"
      ]
     },
     "execution_count": 46,
     "metadata": {},
     "output_type": "execute_result"
    }
   ],
   "source": [
    "df = pd.DataFrame(s,columns=['더조은 지수A'])\n",
    "df"
   ]
  },
  {
   "cell_type": "code",
   "execution_count": 47,
   "id": "c48674bf",
   "metadata": {
    "scrolled": true
   },
   "outputs": [
    {
     "data": {
      "text/html": [
       "<div>\n",
       "<style scoped>\n",
       "    .dataframe tbody tr th:only-of-type {\n",
       "        vertical-align: middle;\n",
       "    }\n",
       "\n",
       "    .dataframe tbody tr th {\n",
       "        vertical-align: top;\n",
       "    }\n",
       "\n",
       "    .dataframe thead th {\n",
       "        text-align: right;\n",
       "    }\n",
       "</style>\n",
       "<table border=\"1\" class=\"dataframe\">\n",
       "  <thead>\n",
       "    <tr style=\"text-align: right;\">\n",
       "      <th></th>\n",
       "      <th>더조은 지수A</th>\n",
       "    </tr>\n",
       "    <tr>\n",
       "      <th>년도</th>\n",
       "      <th></th>\n",
       "    </tr>\n",
       "  </thead>\n",
       "  <tbody>\n",
       "    <tr>\n",
       "      <th>2017</th>\n",
       "      <td>-0.329283</td>\n",
       "    </tr>\n",
       "    <tr>\n",
       "      <th>2018</th>\n",
       "      <td>-0.050010</td>\n",
       "    </tr>\n",
       "    <tr>\n",
       "      <th>2019</th>\n",
       "      <td>2.919344</td>\n",
       "    </tr>\n",
       "  </tbody>\n",
       "</table>\n",
       "</div>"
      ],
      "text/plain": [
       "       더조은 지수A\n",
       "년도            \n",
       "2017 -0.329283\n",
       "2018 -0.050010\n",
       "2019  2.919344"
      ]
     },
     "execution_count": 47,
     "metadata": {},
     "output_type": "execute_result"
    }
   ],
   "source": [
    "df.loc['서울']"
   ]
  },
  {
   "cell_type": "code",
   "execution_count": 48,
   "id": "9cf6ab2e",
   "metadata": {
    "scrolled": true
   },
   "outputs": [
    {
     "data": {
      "text/plain": [
       "더조은 지수A    0.388568\n",
       "Name: (경기도, 2017), dtype: float64"
      ]
     },
     "execution_count": 48,
     "metadata": {},
     "output_type": "execute_result"
    }
   ],
   "source": [
    "df.loc[('경기도',2017),:]"
   ]
  },
  {
   "cell_type": "code",
   "execution_count": 50,
   "id": "36db8c4a",
   "metadata": {},
   "outputs": [
    {
     "data": {
      "text/plain": [
       "[('서울', 2008),\n",
       " ('서울', 2010),\n",
       " ('부산', 2008),\n",
       " ('부산', 2010),\n",
       " ('인천', 2008),\n",
       " ('인천', 2010)]"
      ]
     },
     "execution_count": 50,
     "metadata": {},
     "output_type": "execute_result"
    }
   ],
   "source": [
    "index = [\n",
    "    ('서울',2008),\n",
    "    ('서울',2010),\n",
    "    ('부산',2008),\n",
    "    ('부산',2010),\n",
    "    ('인천',2008),\n",
    "    ('인천',2010)\n",
    "]\n",
    "index"
   ]
  },
  {
   "cell_type": "code",
   "execution_count": 51,
   "id": "18321301",
   "metadata": {},
   "outputs": [
    {
     "data": {
      "text/plain": [
       "MultiIndex([('서울', 2008),\n",
       "            ('서울', 2010),\n",
       "            ('부산', 2008),\n",
       "            ('부산', 2010),\n",
       "            ('인천', 2008),\n",
       "            ('인천', 2010)],\n",
       "           )"
      ]
     },
     "execution_count": 51,
     "metadata": {},
     "output_type": "execute_result"
    }
   ],
   "source": [
    "mul_index = pd.MultiIndex.from_tuples(index)\n",
    "mul_index"
   ]
  },
  {
   "cell_type": "code",
   "execution_count": 52,
   "id": "c14ec6cf",
   "metadata": {},
   "outputs": [
    {
     "data": {
      "text/plain": [
       "array([('서울', 2008), ('서울', 2010), ('부산', 2008), ('부산', 2010),\n",
       "       ('인천', 2008), ('인천', 2010)], dtype=object)"
      ]
     },
     "execution_count": 52,
     "metadata": {},
     "output_type": "execute_result"
    }
   ],
   "source": [
    "mul_index.values"
   ]
  },
  {
   "cell_type": "code",
   "execution_count": 53,
   "id": "8c852dfb",
   "metadata": {
    "scrolled": true
   },
   "outputs": [
    {
     "data": {
      "text/plain": [
       "(서울, 2008)    1\n",
       "(서울, 2010)    1\n",
       "(부산, 2008)    1\n",
       "(부산, 2010)    1\n",
       "(인천, 2008)    1\n",
       "(인천, 2010)    1\n",
       "dtype: int64"
      ]
     },
     "execution_count": 53,
     "metadata": {},
     "output_type": "execute_result"
    }
   ],
   "source": [
    "mul_index.value_counts()"
   ]
  },
  {
   "cell_type": "code",
   "execution_count": 54,
   "id": "9f2b1600",
   "metadata": {},
   "outputs": [
    {
     "data": {
      "text/plain": [
       "FrozenList([['부산', '서울', '인천'], [2008, 2010]])"
      ]
     },
     "execution_count": 54,
     "metadata": {},
     "output_type": "execute_result"
    }
   ],
   "source": [
    "mul_index.levels"
   ]
  }
 ],
 "metadata": {
  "kernelspec": {
   "display_name": "Python 3 (ipykernel)",
   "language": "python",
   "name": "python3"
  },
  "language_info": {
   "codemirror_mode": {
    "name": "ipython",
    "version": 3
   },
   "file_extension": ".py",
   "mimetype": "text/x-python",
   "name": "python",
   "nbconvert_exporter": "python",
   "pygments_lexer": "ipython3",
   "version": "3.9.13"
  }
 },
 "nbformat": 4,
 "nbformat_minor": 5
}
