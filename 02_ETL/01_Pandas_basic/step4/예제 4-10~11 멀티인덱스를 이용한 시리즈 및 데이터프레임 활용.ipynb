{
 "cells": [
  {
   "cell_type": "code",
   "execution_count": 1,
   "id": "6ae84ea0",
   "metadata": {},
   "outputs": [],
   "source": [
    "import pandas as pd"
   ]
  },
  {
   "cell_type": "markdown",
   "id": "05bf3063",
   "metadata": {},
   "source": [
    "## 예제 4-10 멀티인덱스를 이용한 시리즈 활용 "
   ]
  },
  {
   "cell_type": "code",
   "execution_count": 2,
   "id": "f877870e",
   "metadata": {},
   "outputs": [],
   "source": [
    "index = [\n",
    "    ('서울',2008),\n",
    "    ('서울',2010),\n",
    "    ('부산',2008),\n",
    "    ('부산',2010), \n",
    "    ('인천',2008),\n",
    "    ('인천',2010)\n",
    "]"
   ]
  },
  {
   "cell_type": "code",
   "execution_count": 3,
   "id": "49d22ebe",
   "metadata": {},
   "outputs": [
    {
     "data": {
      "text/plain": [
       "MultiIndex([('서울', 2008),\n",
       "            ('서울', 2010),\n",
       "            ('부산', 2008),\n",
       "            ('부산', 2010),\n",
       "            ('인천', 2008),\n",
       "            ('인천', 2010)],\n",
       "           )"
      ]
     },
     "execution_count": 3,
     "metadata": {},
     "output_type": "execute_result"
    }
   ],
   "source": [
    "mul_index = pd.MultiIndex.from_tuples(index)\n",
    "mul_index"
   ]
  },
  {
   "cell_type": "code",
   "execution_count": 4,
   "id": "bf2ce6d1",
   "metadata": {},
   "outputs": [
    {
     "data": {
      "text/plain": [
       "array([('서울', 2008), ('서울', 2010), ('부산', 2008), ('부산', 2010),\n",
       "       ('인천', 2008), ('인천', 2010)], dtype=object)"
      ]
     },
     "execution_count": 4,
     "metadata": {},
     "output_type": "execute_result"
    }
   ],
   "source": [
    "mul_index.values"
   ]
  },
  {
   "cell_type": "code",
   "execution_count": 5,
   "id": "3dfef484",
   "metadata": {},
   "outputs": [
    {
     "data": {
      "text/plain": [
       "(서울, 2008)    1\n",
       "(서울, 2010)    1\n",
       "(부산, 2008)    1\n",
       "(부산, 2010)    1\n",
       "(인천, 2008)    1\n",
       "(인천, 2010)    1\n",
       "dtype: int64"
      ]
     },
     "execution_count": 5,
     "metadata": {},
     "output_type": "execute_result"
    }
   ],
   "source": [
    "mul_index.value_counts()"
   ]
  },
  {
   "cell_type": "code",
   "execution_count": 6,
   "id": "868a190d",
   "metadata": {},
   "outputs": [
    {
     "data": {
      "text/plain": [
       "FrozenList([['부산', '서울', '인천'], [2008, 2010]])"
      ]
     },
     "execution_count": 6,
     "metadata": {},
     "output_type": "execute_result"
    }
   ],
   "source": [
    "mul_index.levels"
   ]
  },
  {
   "cell_type": "code",
   "execution_count": 7,
   "id": "e48f5e47",
   "metadata": {},
   "outputs": [],
   "source": [
    "populations = [30000,37000,18970,19370,20850,25140]"
   ]
  },
  {
   "cell_type": "code",
   "execution_count": 8,
   "id": "14f12c3a",
   "metadata": {},
   "outputs": [
    {
     "data": {
      "text/plain": [
       "서울  2008    30000\n",
       "    2010    37000\n",
       "부산  2008    18970\n",
       "    2010    19370\n",
       "인천  2008    20850\n",
       "    2010    25140\n",
       "dtype: int64"
      ]
     },
     "execution_count": 8,
     "metadata": {},
     "output_type": "execute_result"
    }
   ],
   "source": [
    "pop = pd.Series(populations,index = mul_index)\n",
    "pop"
   ]
  },
  {
   "cell_type": "code",
   "execution_count": 9,
   "id": "5628a8a7",
   "metadata": {},
   "outputs": [
    {
     "data": {
      "text/plain": [
       "2008    30000\n",
       "2010    37000\n",
       "dtype: int64"
      ]
     },
     "execution_count": 9,
     "metadata": {},
     "output_type": "execute_result"
    }
   ],
   "source": [
    "pop['서울']"
   ]
  },
  {
   "cell_type": "code",
   "execution_count": 10,
   "id": "8d47efa3",
   "metadata": {},
   "outputs": [
    {
     "data": {
      "text/plain": [
       "30000"
      ]
     },
     "execution_count": 10,
     "metadata": {},
     "output_type": "execute_result"
    }
   ],
   "source": [
    "pop['서울',2008]"
   ]
  },
  {
   "cell_type": "code",
   "execution_count": 11,
   "id": "9a093eef",
   "metadata": {},
   "outputs": [
    {
     "data": {
      "text/plain": [
       "서울    37000\n",
       "부산    19370\n",
       "인천    25140\n",
       "dtype: int64"
      ]
     },
     "execution_count": 11,
     "metadata": {},
     "output_type": "execute_result"
    }
   ],
   "source": [
    "pop[ : ,2010]"
   ]
  },
  {
   "cell_type": "markdown",
   "id": "ac16fcbc",
   "metadata": {},
   "source": [
    "문자열 인덱스인 경우 정렬이 되어 있지 않다면 슬라이싱 연산이 불가능하다."
   ]
  },
  {
   "cell_type": "code",
   "execution_count": 12,
   "id": "8a9570b0",
   "metadata": {},
   "outputs": [
    {
     "name": "stdout",
     "output_type": "stream",
     "text": [
      "'Key length (1) was greater than MultiIndex lexsort depth (0)'\n"
     ]
    }
   ],
   "source": [
    "try :\n",
    "    pop[\"서울\" : \"인천\"]\n",
    "except Exception as e :\n",
    "    print(e)"
   ]
  },
  {
   "cell_type": "markdown",
   "id": "724dff0f",
   "metadata": {},
   "source": [
    "슬라이싱 연산을 하려면 인덱스 정렬이 필요!!"
   ]
  },
  {
   "cell_type": "code",
   "execution_count": 13,
   "id": "4bb56baa",
   "metadata": {},
   "outputs": [
    {
     "data": {
      "text/plain": [
       "부산  2008    18970\n",
       "    2010    19370\n",
       "서울  2008    30000\n",
       "    2010    37000\n",
       "인천  2008    20850\n",
       "    2010    25140\n",
       "dtype: int64"
      ]
     },
     "execution_count": 13,
     "metadata": {},
     "output_type": "execute_result"
    }
   ],
   "source": [
    "pop = pop.sort_index()\n",
    "pop"
   ]
  },
  {
   "cell_type": "code",
   "execution_count": 14,
   "id": "17e0eec4",
   "metadata": {},
   "outputs": [
    {
     "data": {
      "text/plain": [
       "서울  2008    30000\n",
       "    2010    37000\n",
       "인천  2008    20850\n",
       "    2010    25140\n",
       "dtype: int64"
      ]
     },
     "execution_count": 14,
     "metadata": {},
     "output_type": "execute_result"
    }
   ],
   "source": [
    "pop['서울':'인천']"
   ]
  },
  {
   "cell_type": "markdown",
   "id": "3dd59a65",
   "metadata": {},
   "source": [
    "행 인덱스 정보를 index.names 에 직접 지정할 수 있다."
   ]
  },
  {
   "cell_type": "code",
   "execution_count": 15,
   "id": "47cf273d",
   "metadata": {},
   "outputs": [
    {
     "data": {
      "text/plain": [
       "시   년도  \n",
       "부산  2008    18970\n",
       "    2010    19370\n",
       "서울  2008    30000\n",
       "    2010    37000\n",
       "인천  2008    20850\n",
       "    2010    25140\n",
       "dtype: int64"
      ]
     },
     "execution_count": 15,
     "metadata": {},
     "output_type": "execute_result"
    }
   ],
   "source": [
    "pop.index.names = ['시','년도']\n",
    "pop"
   ]
  },
  {
   "cell_type": "code",
   "execution_count": 16,
   "id": "f81dadd4",
   "metadata": {},
   "outputs": [
    {
     "data": {
      "text/html": [
       "<div>\n",
       "<style scoped>\n",
       "    .dataframe tbody tr th:only-of-type {\n",
       "        vertical-align: middle;\n",
       "    }\n",
       "\n",
       "    .dataframe tbody tr th {\n",
       "        vertical-align: top;\n",
       "    }\n",
       "\n",
       "    .dataframe thead th {\n",
       "        text-align: right;\n",
       "    }\n",
       "</style>\n",
       "<table border=\"1\" class=\"dataframe\">\n",
       "  <thead>\n",
       "    <tr style=\"text-align: right;\">\n",
       "      <th></th>\n",
       "      <th></th>\n",
       "      <th>인구수</th>\n",
       "    </tr>\n",
       "    <tr>\n",
       "      <th>시</th>\n",
       "      <th>년도</th>\n",
       "      <th></th>\n",
       "    </tr>\n",
       "  </thead>\n",
       "  <tbody>\n",
       "    <tr>\n",
       "      <th rowspan=\"2\" valign=\"top\">부산</th>\n",
       "      <th>2008</th>\n",
       "      <td>18970</td>\n",
       "    </tr>\n",
       "    <tr>\n",
       "      <th>2010</th>\n",
       "      <td>19370</td>\n",
       "    </tr>\n",
       "    <tr>\n",
       "      <th rowspan=\"2\" valign=\"top\">서울</th>\n",
       "      <th>2008</th>\n",
       "      <td>30000</td>\n",
       "    </tr>\n",
       "    <tr>\n",
       "      <th>2010</th>\n",
       "      <td>37000</td>\n",
       "    </tr>\n",
       "    <tr>\n",
       "      <th rowspan=\"2\" valign=\"top\">인천</th>\n",
       "      <th>2008</th>\n",
       "      <td>20850</td>\n",
       "    </tr>\n",
       "    <tr>\n",
       "      <th>2010</th>\n",
       "      <td>25140</td>\n",
       "    </tr>\n",
       "  </tbody>\n",
       "</table>\n",
       "</div>"
      ],
      "text/plain": [
       "           인구수\n",
       "시  년도         \n",
       "부산 2008  18970\n",
       "   2010  19370\n",
       "서울 2008  30000\n",
       "   2010  37000\n",
       "인천 2008  20850\n",
       "   2010  25140"
      ]
     },
     "execution_count": 16,
     "metadata": {},
     "output_type": "execute_result"
    }
   ],
   "source": [
    "df = pd.DataFrame(pop,columns=['인구수'])\n",
    "df"
   ]
  },
  {
   "cell_type": "code",
   "execution_count": 17,
   "id": "a988ab30",
   "metadata": {
    "scrolled": true
   },
   "outputs": [
    {
     "data": {
      "text/html": [
       "<div>\n",
       "<style scoped>\n",
       "    .dataframe tbody tr th:only-of-type {\n",
       "        vertical-align: middle;\n",
       "    }\n",
       "\n",
       "    .dataframe tbody tr th {\n",
       "        vertical-align: top;\n",
       "    }\n",
       "\n",
       "    .dataframe thead th {\n",
       "        text-align: right;\n",
       "    }\n",
       "</style>\n",
       "<table border=\"1\" class=\"dataframe\">\n",
       "  <thead>\n",
       "    <tr style=\"text-align: right;\">\n",
       "      <th></th>\n",
       "      <th>인구수</th>\n",
       "    </tr>\n",
       "    <tr>\n",
       "      <th>년도</th>\n",
       "      <th></th>\n",
       "    </tr>\n",
       "  </thead>\n",
       "  <tbody>\n",
       "    <tr>\n",
       "      <th>2008</th>\n",
       "      <td>18970</td>\n",
       "    </tr>\n",
       "    <tr>\n",
       "      <th>2010</th>\n",
       "      <td>19370</td>\n",
       "    </tr>\n",
       "  </tbody>\n",
       "</table>\n",
       "</div>"
      ],
      "text/plain": [
       "        인구수\n",
       "년도         \n",
       "2008  18970\n",
       "2010  19370"
      ]
     },
     "execution_count": 17,
     "metadata": {},
     "output_type": "execute_result"
    }
   ],
   "source": [
    "df.loc['부산', : ]"
   ]
  },
  {
   "cell_type": "markdown",
   "id": "b6ed2c3a",
   "metadata": {},
   "source": [
    "2010년도 인구수 집계하려면?  \n",
    "데이터 프레임워크에서는 2010 인덱스로 바로 접근이 불가능하다  \n",
    "시리즈로 가져와서 부분합을 구할 수 있다."
   ]
  },
  {
   "cell_type": "code",
   "execution_count": 18,
   "id": "d5df1219",
   "metadata": {},
   "outputs": [
    {
     "data": {
      "text/plain": [
       "시\n",
       "부산    19370\n",
       "서울    37000\n",
       "인천    25140\n",
       "Name: 인구수, dtype: int64"
      ]
     },
     "execution_count": 18,
     "metadata": {},
     "output_type": "execute_result"
    }
   ],
   "source": [
    "df['인구수'][ : ,2010]"
   ]
  },
  {
   "cell_type": "markdown",
   "id": "1d3b59c4",
   "metadata": {},
   "source": [
    "데이터 프레임으로 보고싶다면 시리즈의 분석결과를 다시 데이터 프레임으로 만들어 분석할 수 있다."
   ]
  },
  {
   "cell_type": "code",
   "execution_count": 19,
   "id": "63438ea3",
   "metadata": {},
   "outputs": [
    {
     "data": {
      "text/html": [
       "<div>\n",
       "<style scoped>\n",
       "    .dataframe tbody tr th:only-of-type {\n",
       "        vertical-align: middle;\n",
       "    }\n",
       "\n",
       "    .dataframe tbody tr th {\n",
       "        vertical-align: top;\n",
       "    }\n",
       "\n",
       "    .dataframe thead th {\n",
       "        text-align: right;\n",
       "    }\n",
       "</style>\n",
       "<table border=\"1\" class=\"dataframe\">\n",
       "  <thead>\n",
       "    <tr style=\"text-align: right;\">\n",
       "      <th></th>\n",
       "      <th>인구수</th>\n",
       "    </tr>\n",
       "    <tr>\n",
       "      <th>시</th>\n",
       "      <th></th>\n",
       "    </tr>\n",
       "  </thead>\n",
       "  <tbody>\n",
       "    <tr>\n",
       "      <th>부산</th>\n",
       "      <td>19370</td>\n",
       "    </tr>\n",
       "    <tr>\n",
       "      <th>서울</th>\n",
       "      <td>37000</td>\n",
       "    </tr>\n",
       "    <tr>\n",
       "      <th>인천</th>\n",
       "      <td>25140</td>\n",
       "    </tr>\n",
       "  </tbody>\n",
       "</table>\n",
       "</div>"
      ],
      "text/plain": [
       "      인구수\n",
       "시        \n",
       "부산  19370\n",
       "서울  37000\n",
       "인천  25140"
      ]
     },
     "execution_count": 19,
     "metadata": {},
     "output_type": "execute_result"
    }
   ],
   "source": [
    "analysis = pd.DataFrame(df['인구수'][ : ,2010])\n",
    "analysis"
   ]
  },
  {
   "cell_type": "markdown",
   "id": "d95ba8ec",
   "metadata": {},
   "source": [
    "## 예제 4-11 멀티인덱스를 이용한 데이터프레임  활용 "
   ]
  },
  {
   "cell_type": "code",
   "execution_count": 20,
   "id": "1b7693a8",
   "metadata": {
    "scrolled": true
   },
   "outputs": [
    {
     "data": {
      "text/plain": [
       "MultiIndex([(2017, 1),\n",
       "            (2017, 2),\n",
       "            (2018, 1),\n",
       "            (2018, 2)],\n",
       "           names=['년도', '과제점수'])"
      ]
     },
     "execution_count": 20,
     "metadata": {},
     "output_type": "execute_result"
    }
   ],
   "source": [
    "r_inx = pd.MultiIndex.from_product([[2017,2018],[1,2]],\n",
    "                                   names = ['년도','과제점수'])\n",
    "r_inx"
   ]
  },
  {
   "cell_type": "code",
   "execution_count": 21,
   "id": "ef364db5",
   "metadata": {
    "scrolled": false
   },
   "outputs": [
    {
     "data": {
      "text/plain": [
       "MultiIndex([('철수', '컴공'),\n",
       "            ('철수', '경제'),\n",
       "            ('영희', '컴공'),\n",
       "            ('영희', '경제'),\n",
       "            ('지원', '컴공'),\n",
       "            ('지원', '경제')],\n",
       "           names=['학생', '학과'])"
      ]
     },
     "execution_count": 21,
     "metadata": {},
     "output_type": "execute_result"
    }
   ],
   "source": [
    "c_inx = pd.MultiIndex.from_product([['철수','영희','지원'],['컴공','경제']],\n",
    "                                   names = ['학생','학과'])\n",
    "c_inx"
   ]
  },
  {
   "cell_type": "code",
   "execution_count": 22,
   "id": "3242e45e",
   "metadata": {},
   "outputs": [],
   "source": [
    "import numpy as np"
   ]
  },
  {
   "cell_type": "code",
   "execution_count": 23,
   "id": "5125136f",
   "metadata": {
    "scrolled": true
   },
   "outputs": [
    {
     "data": {
      "text/plain": [
       "array([[1.4, 1.6, 0. , 0.3, 0.5, 1.1],\n",
       "       [1. , 1.9, 1.4, 1.3, 0.7, 2.2],\n",
       "       [0.4, 0. , 0.6, 0. , 0.2, 0. ],\n",
       "       [0.8, 0.6, 2.3, 0.2, 1.1, 0.4]])"
      ]
     },
     "execution_count": 23,
     "metadata": {},
     "output_type": "execute_result"
    }
   ],
   "source": [
    "data = np.round(np.abs(np.random.randn(4,6)),1)\n",
    "data"
   ]
  },
  {
   "cell_type": "code",
   "execution_count": 24,
   "id": "b51ba509",
   "metadata": {
    "scrolled": true
   },
   "outputs": [
    {
     "data": {
      "text/html": [
       "<div>\n",
       "<style scoped>\n",
       "    .dataframe tbody tr th:only-of-type {\n",
       "        vertical-align: middle;\n",
       "    }\n",
       "\n",
       "    .dataframe tbody tr th {\n",
       "        vertical-align: top;\n",
       "    }\n",
       "\n",
       "    .dataframe thead tr th {\n",
       "        text-align: left;\n",
       "    }\n",
       "\n",
       "    .dataframe thead tr:last-of-type th {\n",
       "        text-align: right;\n",
       "    }\n",
       "</style>\n",
       "<table border=\"1\" class=\"dataframe\">\n",
       "  <thead>\n",
       "    <tr>\n",
       "      <th></th>\n",
       "      <th>학생</th>\n",
       "      <th colspan=\"2\" halign=\"left\">철수</th>\n",
       "      <th colspan=\"2\" halign=\"left\">영희</th>\n",
       "      <th colspan=\"2\" halign=\"left\">지원</th>\n",
       "    </tr>\n",
       "    <tr>\n",
       "      <th></th>\n",
       "      <th>학과</th>\n",
       "      <th>컴공</th>\n",
       "      <th>경제</th>\n",
       "      <th>컴공</th>\n",
       "      <th>경제</th>\n",
       "      <th>컴공</th>\n",
       "      <th>경제</th>\n",
       "    </tr>\n",
       "    <tr>\n",
       "      <th>년도</th>\n",
       "      <th>과제점수</th>\n",
       "      <th></th>\n",
       "      <th></th>\n",
       "      <th></th>\n",
       "      <th></th>\n",
       "      <th></th>\n",
       "      <th></th>\n",
       "    </tr>\n",
       "  </thead>\n",
       "  <tbody>\n",
       "    <tr>\n",
       "      <th rowspan=\"2\" valign=\"top\">2017</th>\n",
       "      <th>1</th>\n",
       "      <td>1.4</td>\n",
       "      <td>1.6</td>\n",
       "      <td>0.0</td>\n",
       "      <td>0.3</td>\n",
       "      <td>0.5</td>\n",
       "      <td>1.1</td>\n",
       "    </tr>\n",
       "    <tr>\n",
       "      <th>2</th>\n",
       "      <td>1.0</td>\n",
       "      <td>1.9</td>\n",
       "      <td>1.4</td>\n",
       "      <td>1.3</td>\n",
       "      <td>0.7</td>\n",
       "      <td>2.2</td>\n",
       "    </tr>\n",
       "    <tr>\n",
       "      <th rowspan=\"2\" valign=\"top\">2018</th>\n",
       "      <th>1</th>\n",
       "      <td>0.4</td>\n",
       "      <td>0.0</td>\n",
       "      <td>0.6</td>\n",
       "      <td>0.0</td>\n",
       "      <td>0.2</td>\n",
       "      <td>0.0</td>\n",
       "    </tr>\n",
       "    <tr>\n",
       "      <th>2</th>\n",
       "      <td>0.8</td>\n",
       "      <td>0.6</td>\n",
       "      <td>2.3</td>\n",
       "      <td>0.2</td>\n",
       "      <td>1.1</td>\n",
       "      <td>0.4</td>\n",
       "    </tr>\n",
       "  </tbody>\n",
       "</table>\n",
       "</div>"
      ],
      "text/plain": [
       "학생          철수        영희        지원     \n",
       "학과          컴공   경제   컴공   경제   컴공   경제\n",
       "년도   과제점수                              \n",
       "2017 1     1.4  1.6  0.0  0.3  0.5  1.1\n",
       "     2     1.0  1.9  1.4  1.3  0.7  2.2\n",
       "2018 1     0.4  0.0  0.6  0.0  0.2  0.0\n",
       "     2     0.8  0.6  2.3  0.2  1.1  0.4"
      ]
     },
     "execution_count": 24,
     "metadata": {},
     "output_type": "execute_result"
    }
   ],
   "source": [
    "study_data = pd.DataFrame(data,index = r_inx, columns = c_inx)\n",
    "study_data"
   ]
  },
  {
   "cell_type": "code",
   "execution_count": 25,
   "id": "2fd1db3c",
   "metadata": {},
   "outputs": [
    {
     "data": {
      "text/plain": [
       "MultiIndex([(2017, 1),\n",
       "            (2017, 2),\n",
       "            (2018, 1),\n",
       "            (2018, 2)],\n",
       "           names=['년도', '과제점수'])"
      ]
     },
     "execution_count": 25,
     "metadata": {},
     "output_type": "execute_result"
    }
   ],
   "source": [
    "study_data.index"
   ]
  },
  {
   "cell_type": "code",
   "execution_count": 26,
   "id": "8179c2c4",
   "metadata": {},
   "outputs": [
    {
     "data": {
      "text/plain": [
       "MultiIndex([('철수', '컴공'),\n",
       "            ('철수', '경제'),\n",
       "            ('영희', '컴공'),\n",
       "            ('영희', '경제'),\n",
       "            ('지원', '컴공'),\n",
       "            ('지원', '경제')],\n",
       "           names=['학생', '학과'])"
      ]
     },
     "execution_count": 26,
     "metadata": {},
     "output_type": "execute_result"
    }
   ],
   "source": [
    "study_data.columns"
   ]
  },
  {
   "cell_type": "code",
   "execution_count": 28,
   "id": "e9a919a3",
   "metadata": {},
   "outputs": [
    {
     "data": {
      "text/plain": [
       "(2017, 1)"
      ]
     },
     "execution_count": 28,
     "metadata": {},
     "output_type": "execute_result"
    }
   ],
   "source": [
    "study_data.index[0]"
   ]
  },
  {
   "cell_type": "code",
   "execution_count": 29,
   "id": "86a26bab",
   "metadata": {},
   "outputs": [
    {
     "data": {
      "text/plain": [
       "'년도'"
      ]
     },
     "execution_count": 29,
     "metadata": {},
     "output_type": "execute_result"
    }
   ],
   "source": [
    "study_data.index.names[0]"
   ]
  },
  {
   "cell_type": "code",
   "execution_count": 30,
   "id": "42425a2a",
   "metadata": {},
   "outputs": [
    {
     "data": {
      "text/plain": [
       "array([[1.4, 1.6, 0. , 0.3, 0.5, 1.1],\n",
       "       [1. , 1.9, 1.4, 1.3, 0.7, 2.2],\n",
       "       [0.4, 0. , 0.6, 0. , 0.2, 0. ],\n",
       "       [0.8, 0.6, 2.3, 0.2, 1.1, 0.4]])"
      ]
     },
     "execution_count": 30,
     "metadata": {},
     "output_type": "execute_result"
    }
   ],
   "source": [
    "study_data.values"
   ]
  },
  {
   "cell_type": "code",
   "execution_count": 31,
   "id": "357f0207",
   "metadata": {
    "scrolled": true
   },
   "outputs": [
    {
     "data": {
      "text/html": [
       "<div>\n",
       "<style scoped>\n",
       "    .dataframe tbody tr th:only-of-type {\n",
       "        vertical-align: middle;\n",
       "    }\n",
       "\n",
       "    .dataframe tbody tr th {\n",
       "        vertical-align: top;\n",
       "    }\n",
       "\n",
       "    .dataframe thead th {\n",
       "        text-align: right;\n",
       "    }\n",
       "</style>\n",
       "<table border=\"1\" class=\"dataframe\">\n",
       "  <thead>\n",
       "    <tr style=\"text-align: right;\">\n",
       "      <th></th>\n",
       "      <th>학과</th>\n",
       "      <th>컴공</th>\n",
       "      <th>경제</th>\n",
       "    </tr>\n",
       "    <tr>\n",
       "      <th>년도</th>\n",
       "      <th>과제점수</th>\n",
       "      <th></th>\n",
       "      <th></th>\n",
       "    </tr>\n",
       "  </thead>\n",
       "  <tbody>\n",
       "    <tr>\n",
       "      <th rowspan=\"2\" valign=\"top\">2017</th>\n",
       "      <th>1</th>\n",
       "      <td>0.5</td>\n",
       "      <td>1.1</td>\n",
       "    </tr>\n",
       "    <tr>\n",
       "      <th>2</th>\n",
       "      <td>0.7</td>\n",
       "      <td>2.2</td>\n",
       "    </tr>\n",
       "    <tr>\n",
       "      <th rowspan=\"2\" valign=\"top\">2018</th>\n",
       "      <th>1</th>\n",
       "      <td>0.2</td>\n",
       "      <td>0.0</td>\n",
       "    </tr>\n",
       "    <tr>\n",
       "      <th>2</th>\n",
       "      <td>1.1</td>\n",
       "      <td>0.4</td>\n",
       "    </tr>\n",
       "  </tbody>\n",
       "</table>\n",
       "</div>"
      ],
      "text/plain": [
       "학과          컴공   경제\n",
       "년도   과제점수          \n",
       "2017 1     0.5  1.1\n",
       "     2     0.7  2.2\n",
       "2018 1     0.2  0.0\n",
       "     2     1.1  0.4"
      ]
     },
     "execution_count": 31,
     "metadata": {},
     "output_type": "execute_result"
    }
   ],
   "source": [
    "study_data['지원']"
   ]
  },
  {
   "cell_type": "code",
   "execution_count": 34,
   "id": "6680ab6e",
   "metadata": {},
   "outputs": [
    {
     "data": {
      "text/html": [
       "<div>\n",
       "<style scoped>\n",
       "    .dataframe tbody tr th:only-of-type {\n",
       "        vertical-align: middle;\n",
       "    }\n",
       "\n",
       "    .dataframe tbody tr th {\n",
       "        vertical-align: top;\n",
       "    }\n",
       "\n",
       "    .dataframe thead th {\n",
       "        text-align: right;\n",
       "    }\n",
       "</style>\n",
       "<table border=\"1\" class=\"dataframe\">\n",
       "  <thead>\n",
       "    <tr style=\"text-align: right;\">\n",
       "      <th></th>\n",
       "      <th>학과</th>\n",
       "      <th>컴공</th>\n",
       "      <th>경제</th>\n",
       "    </tr>\n",
       "    <tr>\n",
       "      <th>년도</th>\n",
       "      <th>과제점수</th>\n",
       "      <th></th>\n",
       "      <th></th>\n",
       "    </tr>\n",
       "  </thead>\n",
       "  <tbody>\n",
       "    <tr>\n",
       "      <th rowspan=\"2\" valign=\"top\">2017</th>\n",
       "      <th>1</th>\n",
       "      <td>0.5</td>\n",
       "      <td>1.1</td>\n",
       "    </tr>\n",
       "    <tr>\n",
       "      <th>2</th>\n",
       "      <td>0.7</td>\n",
       "      <td>2.2</td>\n",
       "    </tr>\n",
       "    <tr>\n",
       "      <th rowspan=\"2\" valign=\"top\">2018</th>\n",
       "      <th>1</th>\n",
       "      <td>0.2</td>\n",
       "      <td>0.0</td>\n",
       "    </tr>\n",
       "    <tr>\n",
       "      <th>2</th>\n",
       "      <td>1.1</td>\n",
       "      <td>0.4</td>\n",
       "    </tr>\n",
       "  </tbody>\n",
       "</table>\n",
       "</div>"
      ],
      "text/plain": [
       "학과          컴공   경제\n",
       "년도   과제점수          \n",
       "2017 1     0.5  1.1\n",
       "     2     0.7  2.2\n",
       "2018 1     0.2  0.0\n",
       "     2     1.1  0.4"
      ]
     },
     "execution_count": 34,
     "metadata": {},
     "output_type": "execute_result"
    }
   ],
   "source": [
    "study_data.loc[ : , '지원']"
   ]
  },
  {
   "cell_type": "code",
   "execution_count": 32,
   "id": "e8df569d",
   "metadata": {},
   "outputs": [
    {
     "data": {
      "text/plain": [
       "년도    과제점수\n",
       "2017  1       0.5\n",
       "      2       0.7\n",
       "2018  1       0.2\n",
       "      2       1.1\n",
       "Name: (지원, 컴공), dtype: float64"
      ]
     },
     "execution_count": 32,
     "metadata": {},
     "output_type": "execute_result"
    }
   ],
   "source": [
    "study_data['지원','컴공']"
   ]
  },
  {
   "cell_type": "code",
   "execution_count": 33,
   "id": "72cbc54d",
   "metadata": {},
   "outputs": [
    {
     "data": {
      "text/plain": [
       "년도    과제점수\n",
       "2017  1       0.5\n",
       "      2       0.7\n",
       "2018  1       0.2\n",
       "      2       1.1\n",
       "Name: (지원, 컴공), dtype: float64"
      ]
     },
     "execution_count": 33,
     "metadata": {},
     "output_type": "execute_result"
    }
   ],
   "source": [
    "study_data.loc[ : , ('지원','컴공')]"
   ]
  },
  {
   "cell_type": "markdown",
   "id": "333c836b",
   "metadata": {},
   "source": [
    "멀티 인덱스를 사용할 경우 pd.IndexSlice 를 사용해서 슬라이스를 만들어서 처리  \n",
    "* loc[행,열] 로 표시하므로 멀티 인덱스 자체가 행과 열을 구성\n",
    "* 멀티 인덱스 내의 특정 정보를 가져오려고 해도 슬라이스로 처리가 필요"
   ]
  },
  {
   "cell_type": "code",
   "execution_count": 35,
   "id": "06268fe6",
   "metadata": {},
   "outputs": [
    {
     "data": {
      "text/html": [
       "<div>\n",
       "<style scoped>\n",
       "    .dataframe tbody tr th:only-of-type {\n",
       "        vertical-align: middle;\n",
       "    }\n",
       "\n",
       "    .dataframe tbody tr th {\n",
       "        vertical-align: top;\n",
       "    }\n",
       "\n",
       "    .dataframe thead tr th {\n",
       "        text-align: left;\n",
       "    }\n",
       "\n",
       "    .dataframe thead tr:last-of-type th {\n",
       "        text-align: right;\n",
       "    }\n",
       "</style>\n",
       "<table border=\"1\" class=\"dataframe\">\n",
       "  <thead>\n",
       "    <tr>\n",
       "      <th></th>\n",
       "      <th>학생</th>\n",
       "      <th colspan=\"2\" halign=\"left\">철수</th>\n",
       "      <th colspan=\"2\" halign=\"left\">영희</th>\n",
       "      <th colspan=\"2\" halign=\"left\">지원</th>\n",
       "    </tr>\n",
       "    <tr>\n",
       "      <th></th>\n",
       "      <th>학과</th>\n",
       "      <th>컴공</th>\n",
       "      <th>경제</th>\n",
       "      <th>컴공</th>\n",
       "      <th>경제</th>\n",
       "      <th>컴공</th>\n",
       "      <th>경제</th>\n",
       "    </tr>\n",
       "    <tr>\n",
       "      <th>년도</th>\n",
       "      <th>과제점수</th>\n",
       "      <th></th>\n",
       "      <th></th>\n",
       "      <th></th>\n",
       "      <th></th>\n",
       "      <th></th>\n",
       "      <th></th>\n",
       "    </tr>\n",
       "  </thead>\n",
       "  <tbody>\n",
       "    <tr>\n",
       "      <th rowspan=\"2\" valign=\"top\">2017</th>\n",
       "      <th>1</th>\n",
       "      <td>1.4</td>\n",
       "      <td>1.6</td>\n",
       "      <td>0.0</td>\n",
       "      <td>0.3</td>\n",
       "      <td>0.5</td>\n",
       "      <td>1.1</td>\n",
       "    </tr>\n",
       "    <tr>\n",
       "      <th>2</th>\n",
       "      <td>1.0</td>\n",
       "      <td>1.9</td>\n",
       "      <td>1.4</td>\n",
       "      <td>1.3</td>\n",
       "      <td>0.7</td>\n",
       "      <td>2.2</td>\n",
       "    </tr>\n",
       "    <tr>\n",
       "      <th rowspan=\"2\" valign=\"top\">2018</th>\n",
       "      <th>1</th>\n",
       "      <td>0.4</td>\n",
       "      <td>0.0</td>\n",
       "      <td>0.6</td>\n",
       "      <td>0.0</td>\n",
       "      <td>0.2</td>\n",
       "      <td>0.0</td>\n",
       "    </tr>\n",
       "    <tr>\n",
       "      <th>2</th>\n",
       "      <td>0.8</td>\n",
       "      <td>0.6</td>\n",
       "      <td>2.3</td>\n",
       "      <td>0.2</td>\n",
       "      <td>1.1</td>\n",
       "      <td>0.4</td>\n",
       "    </tr>\n",
       "  </tbody>\n",
       "</table>\n",
       "</div>"
      ],
      "text/plain": [
       "학생          철수        영희        지원     \n",
       "학과          컴공   경제   컴공   경제   컴공   경제\n",
       "년도   과제점수                              \n",
       "2017 1     1.4  1.6  0.0  0.3  0.5  1.1\n",
       "     2     1.0  1.9  1.4  1.3  0.7  2.2\n",
       "2018 1     0.4  0.0  0.6  0.0  0.2  0.0\n",
       "     2     0.8  0.6  2.3  0.2  1.1  0.4"
      ]
     },
     "execution_count": 35,
     "metadata": {},
     "output_type": "execute_result"
    }
   ],
   "source": [
    "study_data"
   ]
  },
  {
   "cell_type": "markdown",
   "id": "31786aa7",
   "metadata": {},
   "source": [
    "정렬이 되어있어야 에러안남"
   ]
  },
  {
   "cell_type": "code",
   "execution_count": 36,
   "id": "cbdff8cd",
   "metadata": {},
   "outputs": [
    {
     "name": "stdout",
     "output_type": "stream",
     "text": [
      "'Key length (1) was greater than MultiIndex lexsort depth (0)'\n"
     ]
    },
    {
     "ename": "NameError",
     "evalue": "name 'analysis_ky' is not defined",
     "output_type": "error",
     "traceback": [
      "\u001b[1;31m---------------------------------------------------------------------------\u001b[0m",
      "\u001b[1;31mNameError\u001b[0m                                 Traceback (most recent call last)",
      "\u001b[1;32m~\\AppData\\Local\\Temp\\ipykernel_12888\\2244381071.py\u001b[0m in \u001b[0;36m<module>\u001b[1;34m\u001b[0m\n\u001b[0;32m      3\u001b[0m \u001b[1;32mexcept\u001b[0m \u001b[0mException\u001b[0m \u001b[1;32mas\u001b[0m \u001b[0me\u001b[0m \u001b[1;33m:\u001b[0m\u001b[1;33m\u001b[0m\u001b[1;33m\u001b[0m\u001b[0m\n\u001b[0;32m      4\u001b[0m     \u001b[0mprint\u001b[0m\u001b[1;33m(\u001b[0m\u001b[0me\u001b[0m\u001b[1;33m)\u001b[0m\u001b[1;33m\u001b[0m\u001b[1;33m\u001b[0m\u001b[0m\n\u001b[1;32m----> 5\u001b[1;33m \u001b[0manalysis_ky\u001b[0m\u001b[1;33m\u001b[0m\u001b[1;33m\u001b[0m\u001b[0m\n\u001b[0m",
      "\u001b[1;31mNameError\u001b[0m: name 'analysis_ky' is not defined"
     ]
    }
   ],
   "source": [
    "try :\n",
    "    analysis_ky = study_data.loc[:2018, '철수':'영희']\n",
    "except Exception as e :\n",
    "    print(e)\n",
    "analysis_ky"
   ]
  },
  {
   "cell_type": "code",
   "execution_count": 37,
   "id": "66080894",
   "metadata": {},
   "outputs": [
    {
     "data": {
      "text/html": [
       "<div>\n",
       "<style scoped>\n",
       "    .dataframe tbody tr th:only-of-type {\n",
       "        vertical-align: middle;\n",
       "    }\n",
       "\n",
       "    .dataframe tbody tr th {\n",
       "        vertical-align: top;\n",
       "    }\n",
       "\n",
       "    .dataframe thead tr th {\n",
       "        text-align: left;\n",
       "    }\n",
       "\n",
       "    .dataframe thead tr:last-of-type th {\n",
       "        text-align: right;\n",
       "    }\n",
       "</style>\n",
       "<table border=\"1\" class=\"dataframe\">\n",
       "  <thead>\n",
       "    <tr>\n",
       "      <th></th>\n",
       "      <th>학생</th>\n",
       "      <th colspan=\"2\" halign=\"left\">영희</th>\n",
       "      <th colspan=\"2\" halign=\"left\">지원</th>\n",
       "      <th colspan=\"2\" halign=\"left\">철수</th>\n",
       "    </tr>\n",
       "    <tr>\n",
       "      <th></th>\n",
       "      <th>학과</th>\n",
       "      <th>경제</th>\n",
       "      <th>컴공</th>\n",
       "      <th>경제</th>\n",
       "      <th>컴공</th>\n",
       "      <th>경제</th>\n",
       "      <th>컴공</th>\n",
       "    </tr>\n",
       "    <tr>\n",
       "      <th>년도</th>\n",
       "      <th>과제점수</th>\n",
       "      <th></th>\n",
       "      <th></th>\n",
       "      <th></th>\n",
       "      <th></th>\n",
       "      <th></th>\n",
       "      <th></th>\n",
       "    </tr>\n",
       "  </thead>\n",
       "  <tbody>\n",
       "    <tr>\n",
       "      <th rowspan=\"2\" valign=\"top\">2017</th>\n",
       "      <th>1</th>\n",
       "      <td>0.3</td>\n",
       "      <td>0.0</td>\n",
       "      <td>1.1</td>\n",
       "      <td>0.5</td>\n",
       "      <td>1.6</td>\n",
       "      <td>1.4</td>\n",
       "    </tr>\n",
       "    <tr>\n",
       "      <th>2</th>\n",
       "      <td>1.3</td>\n",
       "      <td>1.4</td>\n",
       "      <td>2.2</td>\n",
       "      <td>0.7</td>\n",
       "      <td>1.9</td>\n",
       "      <td>1.0</td>\n",
       "    </tr>\n",
       "    <tr>\n",
       "      <th rowspan=\"2\" valign=\"top\">2018</th>\n",
       "      <th>1</th>\n",
       "      <td>0.0</td>\n",
       "      <td>0.6</td>\n",
       "      <td>0.0</td>\n",
       "      <td>0.2</td>\n",
       "      <td>0.0</td>\n",
       "      <td>0.4</td>\n",
       "    </tr>\n",
       "    <tr>\n",
       "      <th>2</th>\n",
       "      <td>0.2</td>\n",
       "      <td>2.3</td>\n",
       "      <td>0.4</td>\n",
       "      <td>1.1</td>\n",
       "      <td>0.6</td>\n",
       "      <td>0.8</td>\n",
       "    </tr>\n",
       "  </tbody>\n",
       "</table>\n",
       "</div>"
      ],
      "text/plain": [
       "학생          영희        지원        철수     \n",
       "학과          경제   컴공   경제   컴공   경제   컴공\n",
       "년도   과제점수                              \n",
       "2017 1     0.3  0.0  1.1  0.5  1.6  1.4\n",
       "     2     1.3  1.4  2.2  0.7  1.9  1.0\n",
       "2018 1     0.0  0.6  0.0  0.2  0.0  0.4\n",
       "     2     0.2  2.3  0.4  1.1  0.6  0.8"
      ]
     },
     "execution_count": 37,
     "metadata": {},
     "output_type": "execute_result"
    }
   ],
   "source": [
    "study_data = study_data.sort_index(axis = 1)\n",
    "study_data"
   ]
  },
  {
   "cell_type": "markdown",
   "id": "e8b05ac2",
   "metadata": {},
   "source": [
    "열 이름이 정렬이 되었기 때문에 에러는 안나지만 조회는 되지 않는다."
   ]
  },
  {
   "cell_type": "code",
   "execution_count": 38,
   "id": "3870ca99",
   "metadata": {},
   "outputs": [
    {
     "data": {
      "text/html": [
       "<div>\n",
       "<style scoped>\n",
       "    .dataframe tbody tr th:only-of-type {\n",
       "        vertical-align: middle;\n",
       "    }\n",
       "\n",
       "    .dataframe tbody tr th {\n",
       "        vertical-align: top;\n",
       "    }\n",
       "\n",
       "    .dataframe thead tr th {\n",
       "        text-align: left;\n",
       "    }\n",
       "\n",
       "    .dataframe thead tr:last-of-type th {\n",
       "        text-align: right;\n",
       "    }\n",
       "</style>\n",
       "<table border=\"1\" class=\"dataframe\">\n",
       "  <thead>\n",
       "    <tr>\n",
       "      <th>년도</th>\n",
       "      <th>과제점수</th>\n",
       "    </tr>\n",
       "  </thead>\n",
       "  <tbody>\n",
       "    <tr>\n",
       "      <th rowspan=\"2\" valign=\"top\">2017</th>\n",
       "      <th>1</th>\n",
       "    </tr>\n",
       "    <tr>\n",
       "      <th>2</th>\n",
       "    </tr>\n",
       "    <tr>\n",
       "      <th rowspan=\"2\" valign=\"top\">2018</th>\n",
       "      <th>1</th>\n",
       "    </tr>\n",
       "    <tr>\n",
       "      <th>2</th>\n",
       "    </tr>\n",
       "  </tbody>\n",
       "</table>\n",
       "</div>"
      ],
      "text/plain": [
       "Empty DataFrame\n",
       "Columns: []\n",
       "Index: [(2017, 1), (2017, 2), (2018, 1), (2018, 2)]"
      ]
     },
     "execution_count": 38,
     "metadata": {},
     "output_type": "execute_result"
    }
   ],
   "source": [
    "try :\n",
    "    analysis_ky = study_data.loc[:2018, '철수':'영희']\n",
    "except Exception as e :\n",
    "    print(e)\n",
    "analysis_ky"
   ]
  },
  {
   "cell_type": "code",
   "execution_count": 39,
   "id": "8035dade",
   "metadata": {},
   "outputs": [
    {
     "data": {
      "text/html": [
       "<div>\n",
       "<style scoped>\n",
       "    .dataframe tbody tr th:only-of-type {\n",
       "        vertical-align: middle;\n",
       "    }\n",
       "\n",
       "    .dataframe tbody tr th {\n",
       "        vertical-align: top;\n",
       "    }\n",
       "\n",
       "    .dataframe thead tr th {\n",
       "        text-align: left;\n",
       "    }\n",
       "\n",
       "    .dataframe thead tr:last-of-type th {\n",
       "        text-align: right;\n",
       "    }\n",
       "</style>\n",
       "<table border=\"1\" class=\"dataframe\">\n",
       "  <thead>\n",
       "    <tr>\n",
       "      <th></th>\n",
       "      <th>학생</th>\n",
       "      <th colspan=\"2\" halign=\"left\">영희</th>\n",
       "      <th colspan=\"2\" halign=\"left\">지원</th>\n",
       "    </tr>\n",
       "    <tr>\n",
       "      <th></th>\n",
       "      <th>학과</th>\n",
       "      <th>경제</th>\n",
       "      <th>컴공</th>\n",
       "      <th>경제</th>\n",
       "      <th>컴공</th>\n",
       "    </tr>\n",
       "    <tr>\n",
       "      <th>년도</th>\n",
       "      <th>과제점수</th>\n",
       "      <th></th>\n",
       "      <th></th>\n",
       "      <th></th>\n",
       "      <th></th>\n",
       "    </tr>\n",
       "  </thead>\n",
       "  <tbody>\n",
       "    <tr>\n",
       "      <th rowspan=\"2\" valign=\"top\">2017</th>\n",
       "      <th>1</th>\n",
       "      <td>0.3</td>\n",
       "      <td>0.0</td>\n",
       "      <td>1.1</td>\n",
       "      <td>0.5</td>\n",
       "    </tr>\n",
       "    <tr>\n",
       "      <th>2</th>\n",
       "      <td>1.3</td>\n",
       "      <td>1.4</td>\n",
       "      <td>2.2</td>\n",
       "      <td>0.7</td>\n",
       "    </tr>\n",
       "    <tr>\n",
       "      <th rowspan=\"2\" valign=\"top\">2018</th>\n",
       "      <th>1</th>\n",
       "      <td>0.0</td>\n",
       "      <td>0.6</td>\n",
       "      <td>0.0</td>\n",
       "      <td>0.2</td>\n",
       "    </tr>\n",
       "    <tr>\n",
       "      <th>2</th>\n",
       "      <td>0.2</td>\n",
       "      <td>2.3</td>\n",
       "      <td>0.4</td>\n",
       "      <td>1.1</td>\n",
       "    </tr>\n",
       "  </tbody>\n",
       "</table>\n",
       "</div>"
      ],
      "text/plain": [
       "학생          영희        지원     \n",
       "학과          경제   컴공   경제   컴공\n",
       "년도   과제점수                    \n",
       "2017 1     0.3  0.0  1.1  0.5\n",
       "     2     1.3  1.4  2.2  0.7\n",
       "2018 1     0.0  0.6  0.0  0.2\n",
       "     2     0.2  2.3  0.4  1.1"
      ]
     },
     "execution_count": 39,
     "metadata": {},
     "output_type": "execute_result"
    }
   ],
   "source": [
    "study_data.loc[ :2018,'영희':'지원']"
   ]
  },
  {
   "cell_type": "markdown",
   "id": "ec283da6",
   "metadata": {},
   "source": [
    "IndexSlice 속성을 사용하면 복합인덱스 차원에 맞게 검색이 가능하다.  \n",
    "슬라이싱으로 시작과 끝의 조건을 지정할 수 도 있다."
   ]
  },
  {
   "cell_type": "code",
   "execution_count": 40,
   "id": "20b314c6",
   "metadata": {},
   "outputs": [
    {
     "data": {
      "text/html": [
       "<div>\n",
       "<style scoped>\n",
       "    .dataframe tbody tr th:only-of-type {\n",
       "        vertical-align: middle;\n",
       "    }\n",
       "\n",
       "    .dataframe tbody tr th {\n",
       "        vertical-align: top;\n",
       "    }\n",
       "\n",
       "    .dataframe thead tr th {\n",
       "        text-align: left;\n",
       "    }\n",
       "\n",
       "    .dataframe thead tr:last-of-type th {\n",
       "        text-align: right;\n",
       "    }\n",
       "</style>\n",
       "<table border=\"1\" class=\"dataframe\">\n",
       "  <thead>\n",
       "    <tr>\n",
       "      <th></th>\n",
       "      <th>학생</th>\n",
       "      <th>영희</th>\n",
       "      <th>지원</th>\n",
       "      <th>철수</th>\n",
       "    </tr>\n",
       "    <tr>\n",
       "      <th></th>\n",
       "      <th>학과</th>\n",
       "      <th>컴공</th>\n",
       "      <th>컴공</th>\n",
       "      <th>컴공</th>\n",
       "    </tr>\n",
       "    <tr>\n",
       "      <th>년도</th>\n",
       "      <th>과제점수</th>\n",
       "      <th></th>\n",
       "      <th></th>\n",
       "      <th></th>\n",
       "    </tr>\n",
       "  </thead>\n",
       "  <tbody>\n",
       "    <tr>\n",
       "      <th>2017</th>\n",
       "      <th>1</th>\n",
       "      <td>0.0</td>\n",
       "      <td>0.5</td>\n",
       "      <td>1.4</td>\n",
       "    </tr>\n",
       "    <tr>\n",
       "      <th>2018</th>\n",
       "      <th>1</th>\n",
       "      <td>0.6</td>\n",
       "      <td>0.2</td>\n",
       "      <td>0.4</td>\n",
       "    </tr>\n",
       "  </tbody>\n",
       "</table>\n",
       "</div>"
      ],
      "text/plain": [
       "학생          영희   지원   철수\n",
       "학과          컴공   컴공   컴공\n",
       "년도   과제점수               \n",
       "2017 1     0.0  0.5  1.4\n",
       "2018 1     0.6  0.2  0.4"
      ]
     },
     "execution_count": 40,
     "metadata": {},
     "output_type": "execute_result"
    }
   ],
   "source": [
    "study_data.loc[pd.IndexSlice[ : ,1],pd.IndexSlice[ : ,'컴공']]"
   ]
  },
  {
   "cell_type": "code",
   "execution_count": 41,
   "id": "e3803dac",
   "metadata": {},
   "outputs": [
    {
     "data": {
      "text/html": [
       "<div>\n",
       "<style scoped>\n",
       "    .dataframe tbody tr th:only-of-type {\n",
       "        vertical-align: middle;\n",
       "    }\n",
       "\n",
       "    .dataframe tbody tr th {\n",
       "        vertical-align: top;\n",
       "    }\n",
       "\n",
       "    .dataframe thead tr th {\n",
       "        text-align: left;\n",
       "    }\n",
       "\n",
       "    .dataframe thead tr:last-of-type th {\n",
       "        text-align: right;\n",
       "    }\n",
       "</style>\n",
       "<table border=\"1\" class=\"dataframe\">\n",
       "  <thead>\n",
       "    <tr>\n",
       "      <th></th>\n",
       "      <th>학생</th>\n",
       "      <th>영희</th>\n",
       "      <th>지원</th>\n",
       "      <th>철수</th>\n",
       "    </tr>\n",
       "    <tr>\n",
       "      <th></th>\n",
       "      <th>학과</th>\n",
       "      <th>컴공</th>\n",
       "      <th>컴공</th>\n",
       "      <th>컴공</th>\n",
       "    </tr>\n",
       "    <tr>\n",
       "      <th>년도</th>\n",
       "      <th>과제점수</th>\n",
       "      <th></th>\n",
       "      <th></th>\n",
       "      <th></th>\n",
       "    </tr>\n",
       "  </thead>\n",
       "  <tbody>\n",
       "    <tr>\n",
       "      <th rowspan=\"2\" valign=\"top\">2017</th>\n",
       "      <th>1</th>\n",
       "      <td>0.0</td>\n",
       "      <td>0.5</td>\n",
       "      <td>1.4</td>\n",
       "    </tr>\n",
       "    <tr>\n",
       "      <th>2</th>\n",
       "      <td>1.4</td>\n",
       "      <td>0.7</td>\n",
       "      <td>1.0</td>\n",
       "    </tr>\n",
       "    <tr>\n",
       "      <th rowspan=\"2\" valign=\"top\">2018</th>\n",
       "      <th>1</th>\n",
       "      <td>0.6</td>\n",
       "      <td>0.2</td>\n",
       "      <td>0.4</td>\n",
       "    </tr>\n",
       "    <tr>\n",
       "      <th>2</th>\n",
       "      <td>2.3</td>\n",
       "      <td>1.1</td>\n",
       "      <td>0.8</td>\n",
       "    </tr>\n",
       "  </tbody>\n",
       "</table>\n",
       "</div>"
      ],
      "text/plain": [
       "학생          영희   지원   철수\n",
       "학과          컴공   컴공   컴공\n",
       "년도   과제점수               \n",
       "2017 1     0.0  0.5  1.4\n",
       "     2     1.4  0.7  1.0\n",
       "2018 1     0.6  0.2  0.4\n",
       "     2     2.3  1.1  0.8"
      ]
     },
     "execution_count": 41,
     "metadata": {},
     "output_type": "execute_result"
    }
   ],
   "source": [
    "study_data.loc[pd.IndexSlice[ : ,1:2],pd.IndexSlice[ : ,'컴공']]"
   ]
  },
  {
   "cell_type": "code",
   "execution_count": 42,
   "id": "0b7accc7",
   "metadata": {},
   "outputs": [
    {
     "data": {
      "text/plain": [
       "MultiIndex([(2017, 1),\n",
       "            (2017, 2),\n",
       "            (2018, 1),\n",
       "            (2018, 2)],\n",
       "           names=['년도', '과제점수'])"
      ]
     },
     "execution_count": 42,
     "metadata": {},
     "output_type": "execute_result"
    }
   ],
   "source": [
    "study_data.index"
   ]
  },
  {
   "cell_type": "code",
   "execution_count": 43,
   "id": "ee11eb59",
   "metadata": {},
   "outputs": [
    {
     "data": {
      "text/plain": [
       "dtype('int64')"
      ]
     },
     "execution_count": 43,
     "metadata": {},
     "output_type": "execute_result"
    }
   ],
   "source": [
    "study_data.index.levels[0].dtype"
   ]
  },
  {
   "cell_type": "code",
   "execution_count": 44,
   "id": "92fbbe25",
   "metadata": {},
   "outputs": [
    {
     "data": {
      "text/plain": [
       "년도    과제점수\n",
       "2017  1       0.5\n",
       "      2       0.7\n",
       "2018  1       0.2\n",
       "      2       1.1\n",
       "Name: (지원, 컴공), dtype: float64"
      ]
     },
     "execution_count": 44,
     "metadata": {},
     "output_type": "execute_result"
    }
   ],
   "source": [
    "study_data.xs(('지원','컴공'),axis = 1)"
   ]
  }
 ],
 "metadata": {
  "kernelspec": {
   "display_name": "Python 3 (ipykernel)",
   "language": "python",
   "name": "python3"
  },
  "language_info": {
   "codemirror_mode": {
    "name": "ipython",
    "version": 3
   },
   "file_extension": ".py",
   "mimetype": "text/x-python",
   "name": "python",
   "nbconvert_exporter": "python",
   "pygments_lexer": "ipython3",
   "version": "3.9.13"
  }
 },
 "nbformat": 4,
 "nbformat_minor": 5
}
