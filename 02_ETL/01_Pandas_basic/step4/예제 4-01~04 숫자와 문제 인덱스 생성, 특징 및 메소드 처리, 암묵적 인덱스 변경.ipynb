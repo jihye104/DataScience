{
 "cells": [
  {
   "cell_type": "code",
   "execution_count": 1,
   "id": "8f6781ea",
   "metadata": {},
   "outputs": [],
   "source": [
    "import pandas as pd"
   ]
  },
  {
   "cell_type": "markdown",
   "id": "595be522",
   "metadata": {},
   "source": [
    "## 예제  4-1  숫자와 문자 인덱스 생성"
   ]
  },
  {
   "cell_type": "code",
   "execution_count": 2,
   "id": "c7eb0cb4",
   "metadata": {},
   "outputs": [
    {
     "data": {
      "text/plain": [
       "pandas.core.indexes.base.Index"
      ]
     },
     "execution_count": 2,
     "metadata": {},
     "output_type": "execute_result"
    }
   ],
   "source": [
    "pd.Index"
   ]
  },
  {
   "cell_type": "code",
   "execution_count": 3,
   "id": "f5eff765",
   "metadata": {},
   "outputs": [
    {
     "data": {
      "text/plain": [
       "Int64Index([1, 2, 3, 4], dtype='int64')"
      ]
     },
     "execution_count": 3,
     "metadata": {},
     "output_type": "execute_result"
    }
   ],
   "source": [
    "idx1 = pd.Index([1,2,3,4])\n",
    "idx1"
   ]
  },
  {
   "cell_type": "code",
   "execution_count": 4,
   "id": "379514e5",
   "metadata": {},
   "outputs": [
    {
     "data": {
      "text/plain": [
       "pandas.core.indexes.numeric.Int64Index"
      ]
     },
     "execution_count": 4,
     "metadata": {},
     "output_type": "execute_result"
    }
   ],
   "source": [
    "type(idx1)"
   ]
  },
  {
   "cell_type": "code",
   "execution_count": 6,
   "id": "4b875141",
   "metadata": {},
   "outputs": [
    {
     "data": {
      "text/plain": [
       "RangeIndex(start=1, stop=4, step=1)"
      ]
     },
     "execution_count": 6,
     "metadata": {},
     "output_type": "execute_result"
    }
   ],
   "source": [
    "idx2 = pd.Index(range(1,4))\n",
    "idx2"
   ]
  },
  {
   "cell_type": "code",
   "execution_count": 7,
   "id": "d8e44b78",
   "metadata": {},
   "outputs": [
    {
     "data": {
      "text/plain": [
       "pandas.core.indexes.range.RangeIndex"
      ]
     },
     "execution_count": 7,
     "metadata": {},
     "output_type": "execute_result"
    }
   ],
   "source": [
    "type(idx2)"
   ]
  },
  {
   "cell_type": "code",
   "execution_count": 9,
   "id": "6d360a44",
   "metadata": {},
   "outputs": [
    {
     "data": {
      "text/plain": [
       "(dtype('int64'), dtype('int64'))"
      ]
     },
     "execution_count": 9,
     "metadata": {},
     "output_type": "execute_result"
    }
   ],
   "source": [
    "idx1.dtype, idx2.dtype"
   ]
  },
  {
   "cell_type": "code",
   "execution_count": 10,
   "id": "eca9554f",
   "metadata": {},
   "outputs": [
    {
     "data": {
      "text/plain": [
       "Index(['a', 'b', 'c'], dtype='object')"
      ]
     },
     "execution_count": 10,
     "metadata": {},
     "output_type": "execute_result"
    }
   ],
   "source": [
    "idx_s = pd.Index(['a','b','c'])\n",
    "idx_s"
   ]
  },
  {
   "cell_type": "code",
   "execution_count": 11,
   "id": "9c34d82d",
   "metadata": {},
   "outputs": [
    {
     "data": {
      "text/plain": [
       "pandas.core.indexes.base.Index"
      ]
     },
     "execution_count": 11,
     "metadata": {},
     "output_type": "execute_result"
    }
   ],
   "source": [
    "type(idx_s)"
   ]
  },
  {
   "cell_type": "code",
   "execution_count": 12,
   "id": "85565f0a",
   "metadata": {
    "scrolled": true
   },
   "outputs": [
    {
     "data": {
      "text/plain": [
       "array(['a', 'b', 'c'], dtype=object)"
      ]
     },
     "execution_count": 12,
     "metadata": {},
     "output_type": "execute_result"
    }
   ],
   "source": [
    "idx_s.values"
   ]
  },
  {
   "cell_type": "code",
   "execution_count": 13,
   "id": "d7d03853",
   "metadata": {},
   "outputs": [
    {
     "data": {
      "text/plain": [
       "(3,)"
      ]
     },
     "execution_count": 13,
     "metadata": {},
     "output_type": "execute_result"
    }
   ],
   "source": [
    "idx_s.shape "
   ]
  },
  {
   "cell_type": "code",
   "execution_count": 15,
   "id": "94946d89",
   "metadata": {},
   "outputs": [
    {
     "data": {
      "text/plain": [
       "Float64Index([1.0, 2.0, 3.0, 4.0], dtype='float64')"
      ]
     },
     "execution_count": 15,
     "metadata": {},
     "output_type": "execute_result"
    }
   ],
   "source": [
    "idx_f = pd.Index([1, 2, 3, 4],dtype='float')\n",
    "idx_f"
   ]
  },
  {
   "cell_type": "markdown",
   "id": "b612da01",
   "metadata": {},
   "source": [
    "## 예제  4-2  숫자와 문자  인덱스 특징 "
   ]
  },
  {
   "cell_type": "code",
   "execution_count": 16,
   "id": "7810f27d",
   "metadata": {},
   "outputs": [
    {
     "data": {
      "text/plain": [
       "(Int64Index([1, 2, 3, 4], dtype='int64'),\n",
       " Index(['a', 'b', 'c'], dtype='object'))"
      ]
     },
     "execution_count": 16,
     "metadata": {},
     "output_type": "execute_result"
    }
   ],
   "source": [
    "idx1, idx_s"
   ]
  },
  {
   "cell_type": "code",
   "execution_count": 18,
   "id": "3c3bc40a",
   "metadata": {},
   "outputs": [
    {
     "data": {
      "text/plain": [
       "(1, Int64Index([2, 3], dtype='int64'), Int64Index([1, 2, 3, 4], dtype='int64'))"
      ]
     },
     "execution_count": 18,
     "metadata": {},
     "output_type": "execute_result"
    }
   ],
   "source": [
    "idx1[0],idx1[1:3],idx1[:]"
   ]
  },
  {
   "cell_type": "code",
   "execution_count": 19,
   "id": "921efd15",
   "metadata": {},
   "outputs": [
    {
     "data": {
      "text/plain": [
       "('a',\n",
       " Index(['b', 'c'], dtype='object'),\n",
       " Index(['a', 'b', 'c'], dtype='object'))"
      ]
     },
     "execution_count": 19,
     "metadata": {},
     "output_type": "execute_result"
    }
   ],
   "source": [
    "idx_s[0], idx_s[1:3], idx_s[:]"
   ]
  },
  {
   "cell_type": "code",
   "execution_count": 20,
   "id": "b58f3f8d",
   "metadata": {},
   "outputs": [
    {
     "data": {
      "text/plain": [
       "Int64Index([1], dtype='int64')"
      ]
     },
     "execution_count": 20,
     "metadata": {},
     "output_type": "execute_result"
    }
   ],
   "source": [
    "idx1[[0]]"
   ]
  },
  {
   "cell_type": "code",
   "execution_count": 23,
   "id": "c7ad9f3f",
   "metadata": {},
   "outputs": [
    {
     "data": {
      "text/plain": [
       "Int64Index([1, 2], dtype='int64')"
      ]
     },
     "execution_count": 23,
     "metadata": {},
     "output_type": "execute_result"
    }
   ],
   "source": [
    "idx1[idx1 < 3 ]"
   ]
  },
  {
   "cell_type": "code",
   "execution_count": 24,
   "id": "fab14faa",
   "metadata": {},
   "outputs": [
    {
     "name": "stdout",
     "output_type": "stream",
     "text": [
      "'Int64Index' object has no attribute 'loc'\n"
     ]
    }
   ],
   "source": [
    "try : \n",
    "    idx1.loc[0]\n",
    "except Exception as e :\n",
    "    print(e)"
   ]
  },
  {
   "cell_type": "code",
   "execution_count": 25,
   "id": "b365787f",
   "metadata": {},
   "outputs": [
    {
     "data": {
      "text/plain": [
       "Int64Index([4, 5, 6, 7], dtype='int64')"
      ]
     },
     "execution_count": 25,
     "metadata": {},
     "output_type": "execute_result"
    }
   ],
   "source": [
    "idx4 = pd.Index([4,5,6,7])\n",
    "idx4"
   ]
  },
  {
   "cell_type": "markdown",
   "id": "284e78c2",
   "metadata": {},
   "source": [
    "수정안되고 처음부터 새로 만들어야함"
   ]
  },
  {
   "cell_type": "code",
   "execution_count": 26,
   "id": "aa21a99e",
   "metadata": {},
   "outputs": [
    {
     "name": "stdout",
     "output_type": "stream",
     "text": [
      "Index does not support mutable operations\n"
     ]
    }
   ],
   "source": [
    "try : \n",
    "    idx4[0] = 100\n",
    "except Exception as e :\n",
    "    print(e)"
   ]
  },
  {
   "cell_type": "code",
   "execution_count": 27,
   "id": "abd61c17",
   "metadata": {},
   "outputs": [
    {
     "data": {
      "text/plain": [
       "Int64Index([4, 5, 6, 7], dtype='int64')"
      ]
     },
     "execution_count": 27,
     "metadata": {},
     "output_type": "execute_result"
    }
   ],
   "source": [
    "idx4"
   ]
  },
  {
   "cell_type": "code",
   "execution_count": 28,
   "id": "75fd0431",
   "metadata": {},
   "outputs": [
    {
     "data": {
      "text/plain": [
       "Int64Index([1, 2, 3, 4], dtype='int64')"
      ]
     },
     "execution_count": 28,
     "metadata": {},
     "output_type": "execute_result"
    }
   ],
   "source": [
    "idx4 = pd.Index([1,2,3,4])\n",
    "idx4"
   ]
  },
  {
   "cell_type": "markdown",
   "id": "36275d69",
   "metadata": {},
   "source": [
    "## 예제  4-3  숫자와 문자  인덱스 메소드 처리"
   ]
  },
  {
   "cell_type": "code",
   "execution_count": 29,
   "id": "7565f7af",
   "metadata": {},
   "outputs": [
    {
     "data": {
      "text/plain": [
       "Int64Index([1, 2, 3, 4], dtype='int64')"
      ]
     },
     "execution_count": 29,
     "metadata": {},
     "output_type": "execute_result"
    }
   ],
   "source": [
    "idx1"
   ]
  },
  {
   "cell_type": "code",
   "execution_count": 30,
   "id": "5a92fe64",
   "metadata": {},
   "outputs": [
    {
     "data": {
      "text/plain": [
       "RangeIndex(start=1, stop=4, step=1)"
      ]
     },
     "execution_count": 30,
     "metadata": {},
     "output_type": "execute_result"
    }
   ],
   "source": [
    "idx2"
   ]
  },
  {
   "cell_type": "markdown",
   "id": "a54e0c15",
   "metadata": {},
   "source": [
    "1,2,3,4 - 1,2,3 => 4"
   ]
  },
  {
   "cell_type": "code",
   "execution_count": 31,
   "id": "7611b580",
   "metadata": {},
   "outputs": [
    {
     "data": {
      "text/plain": [
       "Int64Index([4], dtype='int64')"
      ]
     },
     "execution_count": 31,
     "metadata": {},
     "output_type": "execute_result"
    }
   ],
   "source": [
    "idx1.difference(idx2)"
   ]
  },
  {
   "cell_type": "markdown",
   "id": "98671387",
   "metadata": {},
   "source": [
    "기존의 인덱스의 모든 요소에 3을 더하여 새로운 객체로 반환"
   ]
  },
  {
   "cell_type": "code",
   "execution_count": 32,
   "id": "b13c1d8d",
   "metadata": {
    "scrolled": true
   },
   "outputs": [
    {
     "data": {
      "text/plain": [
       "Int64Index([4, 5, 6, 7], dtype='int64')"
      ]
     },
     "execution_count": 32,
     "metadata": {},
     "output_type": "execute_result"
    }
   ],
   "source": [
    "idx1+3"
   ]
  },
  {
   "cell_type": "markdown",
   "id": "f292bf66",
   "metadata": {},
   "source": [
    "인덱스는 immutable 객체이기 때문에 원본에는 영향이 없다."
   ]
  },
  {
   "cell_type": "code",
   "execution_count": 33,
   "id": "16588cac",
   "metadata": {},
   "outputs": [
    {
     "data": {
      "text/plain": [
       "Int64Index([1, 2, 3, 4], dtype='int64')"
      ]
     },
     "execution_count": 33,
     "metadata": {},
     "output_type": "execute_result"
    }
   ],
   "source": [
    "idx1"
   ]
  },
  {
   "cell_type": "markdown",
   "id": "4b00a39e",
   "metadata": {},
   "source": [
    "## 예제  4-4  암묵적 인덱스 변경"
   ]
  },
  {
   "cell_type": "code",
   "execution_count": 34,
   "id": "530961de",
   "metadata": {},
   "outputs": [],
   "source": [
    "import numpy as np"
   ]
  },
  {
   "cell_type": "code",
   "execution_count": 35,
   "id": "c0f2b5a6",
   "metadata": {},
   "outputs": [
    {
     "data": {
      "text/plain": [
       "a    0\n",
       "a    1\n",
       "a    2\n",
       "b    3\n",
       "dtype: int32"
      ]
     },
     "execution_count": 35,
     "metadata": {},
     "output_type": "execute_result"
    }
   ],
   "source": [
    "s1 = pd.Series(data=np.arange(4),index=list('aaab'))\n",
    "s1"
   ]
  },
  {
   "cell_type": "code",
   "execution_count": 36,
   "id": "6c397ad7",
   "metadata": {},
   "outputs": [
    {
     "data": {
      "text/plain": [
       "b    0\n",
       "a    1\n",
       "a    2\n",
       "a    3\n",
       "dtype: int32"
      ]
     },
     "execution_count": 36,
     "metadata": {},
     "output_type": "execute_result"
    }
   ],
   "source": [
    "s2 = pd.Series(index=list('baaa'), data=np.arange(4))\n",
    "s2"
   ]
  },
  {
   "cell_type": "markdown",
   "id": "677c040f",
   "metadata": {},
   "source": [
    "두 개의 시리즈를 더하면 두 개의 레이블이 달라  \n",
    "시리즈 안의 레이블 개수까지 곱한 만큼  \n",
    "카테시언 프로덕트(Cartesian product)를 처리한 레이블이 생긴다."
   ]
  },
  {
   "cell_type": "raw",
   "id": "77f4abf3",
   "metadata": {},
   "source": [
    " s1     s2  \n",
    "a  0 + a  1  \n",
    "     + a  2  \n",
    "     + a  3  \n",
    "a  1 + a  1  \n",
    "     + a  2  \n",
    "     + a  3  \n",
    "a  2 + a  1  \n",
    "     + a  2  \n",
    "     + a  3  \n",
    "b  3 + b  0  "
   ]
  },
  {
   "cell_type": "code",
   "execution_count": 37,
   "id": "808aa2fc",
   "metadata": {},
   "outputs": [
    {
     "data": {
      "text/plain": [
       "a    1\n",
       "a    2\n",
       "a    3\n",
       "a    2\n",
       "a    3\n",
       "a    4\n",
       "a    3\n",
       "a    4\n",
       "a    5\n",
       "b    3\n",
       "dtype: int32"
      ]
     },
     "execution_count": 37,
     "metadata": {},
     "output_type": "execute_result"
    }
   ],
   "source": [
    "s1+s2"
   ]
  },
  {
   "cell_type": "raw",
   "id": "d48b7d2e",
   "metadata": {},
   "source": [
    " s1     s2  \n",
    "a  0 + a  1  \n",
    "a  1 + a  2  \n",
    "a  2 + a  3  \n",
    "b  3 + b  0"
   ]
  },
  {
   "cell_type": "code",
   "execution_count": 38,
   "id": "45158801",
   "metadata": {},
   "outputs": [
    {
     "data": {
      "text/plain": [
       "a    1\n",
       "a    3\n",
       "a    5\n",
       "b    3\n",
       "dtype: int32"
      ]
     },
     "execution_count": 38,
     "metadata": {},
     "output_type": "execute_result"
    }
   ],
   "source": [
    "s1.sort_index() + s2.sort_index()"
   ]
  },
  {
   "cell_type": "code",
   "execution_count": 39,
   "id": "7e36f4d8",
   "metadata": {},
   "outputs": [
    {
     "data": {
      "text/plain": [
       "a    1\n",
       "a    3\n",
       "a    5\n",
       "b    3\n",
       "dtype: int32"
      ]
     },
     "execution_count": 39,
     "metadata": {},
     "output_type": "execute_result"
    }
   ],
   "source": [
    "s1.sort_index().add(s2.sort_index())"
   ]
  },
  {
   "cell_type": "code",
   "execution_count": 40,
   "id": "b1b1bf26",
   "metadata": {},
   "outputs": [
    {
     "data": {
      "text/plain": [
       "a    0\n",
       "a    1\n",
       "a    2\n",
       "b    3\n",
       "dtype: int32"
      ]
     },
     "execution_count": 40,
     "metadata": {},
     "output_type": "execute_result"
    }
   ],
   "source": [
    "s1"
   ]
  },
  {
   "cell_type": "code",
   "execution_count": 41,
   "id": "c640afaa",
   "metadata": {
    "scrolled": true
   },
   "outputs": [
    {
     "data": {
      "text/plain": [
       "a    0\n",
       "a    1\n",
       "a    2\n",
       "b    3\n",
       "dtype: int32"
      ]
     },
     "execution_count": 41,
     "metadata": {},
     "output_type": "execute_result"
    }
   ],
   "source": [
    "s3 = pd.Series(index=list('aaab'), data=np.arange(4))\n",
    "s3"
   ]
  },
  {
   "cell_type": "raw",
   "id": "ffc6d365",
   "metadata": {},
   "source": [
    "index = list(' ') 의 순서랑 값이 동일하면\n",
    " s1     s3  \n",
    "a  0 + a  0  \n",
    "a  1 + a  1  \n",
    "a  2 + a  2  \n",
    "b  3 + b  3"
   ]
  },
  {
   "cell_type": "code",
   "execution_count": 43,
   "id": "1c09fb31",
   "metadata": {},
   "outputs": [
    {
     "data": {
      "text/plain": [
       "a    0\n",
       "a    2\n",
       "a    4\n",
       "b    6\n",
       "dtype: int32"
      ]
     },
     "execution_count": 43,
     "metadata": {},
     "output_type": "execute_result"
    }
   ],
   "source": [
    "s1+s3"
   ]
  }
 ],
 "metadata": {
  "kernelspec": {
   "display_name": "Python 3 (ipykernel)",
   "language": "python",
   "name": "python3"
  },
  "language_info": {
   "codemirror_mode": {
    "name": "ipython",
    "version": 3
   },
   "file_extension": ".py",
   "mimetype": "text/x-python",
   "name": "python",
   "nbconvert_exporter": "python",
   "pygments_lexer": "ipython3",
   "version": "3.9.13"
  }
 },
 "nbformat": 4,
 "nbformat_minor": 5
}
