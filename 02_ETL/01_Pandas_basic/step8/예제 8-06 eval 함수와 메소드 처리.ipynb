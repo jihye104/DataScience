{
 "cells": [
  {
   "cell_type": "code",
   "execution_count": 1,
   "id": "85ee157e",
   "metadata": {},
   "outputs": [],
   "source": [
    "import pandas as pd"
   ]
  },
  {
   "cell_type": "markdown",
   "id": "08fe4d39",
   "metadata": {},
   "source": [
    "### eval 함수 장점"
   ]
  },
  {
   "cell_type": "markdown",
   "id": "560bb56b",
   "metadata": {},
   "source": [
    "대규모 복잡한 데이터프레임워크 간의 연산에서 좋은 성능을 낼 수 있다.  \n",
    "연산시 변수처리를 할 수 있어 대화형(interactive) 검색을 할 수 있다."
   ]
  },
  {
   "cell_type": "markdown",
   "id": "c7ae07be",
   "metadata": {},
   "source": [
    "### eval 함수 단점"
   ]
  },
  {
   "cell_type": "markdown",
   "id": "71f3309f",
   "metadata": {},
   "source": [
    "간단한 연산 수행시 성능상의 차이가 없다. 또는 나쁠 수 있다.  \n",
    "특정 연산에 제약이 있을 수 있다."
   ]
  },
  {
   "cell_type": "code",
   "execution_count": 2,
   "id": "f00707f4",
   "metadata": {},
   "outputs": [],
   "source": [
    "import numpy as np"
   ]
  },
  {
   "cell_type": "code",
   "execution_count": 5,
   "id": "44649747",
   "metadata": {},
   "outputs": [],
   "source": [
    "rng = np.random.RandomState(42)"
   ]
  },
  {
   "cell_type": "code",
   "execution_count": 6,
   "id": "dff6b2d1",
   "metadata": {},
   "outputs": [],
   "source": [
    "nrows, ncols = 100000, 10"
   ]
  },
  {
   "cell_type": "code",
   "execution_count": 7,
   "id": "919a606e",
   "metadata": {},
   "outputs": [
    {
     "name": "stdout",
     "output_type": "stream",
     "text": [
      "<class 'generator'>\n"
     ]
    }
   ],
   "source": [
    "print(type(pd.DataFrame(rng.rand(nrows,ncols)) for i in range(2)))"
   ]
  },
  {
   "cell_type": "markdown",
   "id": "388c6db3",
   "metadata": {},
   "source": [
    "0,1 두번 for문의 루프가 반복되면서 nrows,ncolse 크기의 데이터프레임을 각각 생성한다."
   ]
  },
  {
   "cell_type": "code",
   "execution_count": 8,
   "id": "f687e605",
   "metadata": {},
   "outputs": [],
   "source": [
    "df1,df2 = (pd.DataFrame(rng.rand(nrows, ncols))for i in range(2))"
   ]
  },
  {
   "cell_type": "code",
   "execution_count": 9,
   "id": "656f68dd",
   "metadata": {},
   "outputs": [
    {
     "data": {
      "text/html": [
       "<div>\n",
       "<style scoped>\n",
       "    .dataframe tbody tr th:only-of-type {\n",
       "        vertical-align: middle;\n",
       "    }\n",
       "\n",
       "    .dataframe tbody tr th {\n",
       "        vertical-align: top;\n",
       "    }\n",
       "\n",
       "    .dataframe thead th {\n",
       "        text-align: right;\n",
       "    }\n",
       "</style>\n",
       "<table border=\"1\" class=\"dataframe\">\n",
       "  <thead>\n",
       "    <tr style=\"text-align: right;\">\n",
       "      <th></th>\n",
       "      <th>0</th>\n",
       "      <th>1</th>\n",
       "      <th>2</th>\n",
       "      <th>3</th>\n",
       "      <th>4</th>\n",
       "      <th>5</th>\n",
       "      <th>6</th>\n",
       "      <th>7</th>\n",
       "      <th>8</th>\n",
       "      <th>9</th>\n",
       "    </tr>\n",
       "  </thead>\n",
       "  <tbody>\n",
       "    <tr>\n",
       "      <th>0</th>\n",
       "      <td>0.374540</td>\n",
       "      <td>0.950714</td>\n",
       "      <td>0.731994</td>\n",
       "      <td>0.598658</td>\n",
       "      <td>0.156019</td>\n",
       "      <td>0.155995</td>\n",
       "      <td>0.058084</td>\n",
       "      <td>0.866176</td>\n",
       "      <td>0.601115</td>\n",
       "      <td>0.708073</td>\n",
       "    </tr>\n",
       "    <tr>\n",
       "      <th>1</th>\n",
       "      <td>0.020584</td>\n",
       "      <td>0.969910</td>\n",
       "      <td>0.832443</td>\n",
       "      <td>0.212339</td>\n",
       "      <td>0.181825</td>\n",
       "      <td>0.183405</td>\n",
       "      <td>0.304242</td>\n",
       "      <td>0.524756</td>\n",
       "      <td>0.431945</td>\n",
       "      <td>0.291229</td>\n",
       "    </tr>\n",
       "    <tr>\n",
       "      <th>2</th>\n",
       "      <td>0.611853</td>\n",
       "      <td>0.139494</td>\n",
       "      <td>0.292145</td>\n",
       "      <td>0.366362</td>\n",
       "      <td>0.456070</td>\n",
       "      <td>0.785176</td>\n",
       "      <td>0.199674</td>\n",
       "      <td>0.514234</td>\n",
       "      <td>0.592415</td>\n",
       "      <td>0.046450</td>\n",
       "    </tr>\n",
       "    <tr>\n",
       "      <th>3</th>\n",
       "      <td>0.607545</td>\n",
       "      <td>0.170524</td>\n",
       "      <td>0.065052</td>\n",
       "      <td>0.948886</td>\n",
       "      <td>0.965632</td>\n",
       "      <td>0.808397</td>\n",
       "      <td>0.304614</td>\n",
       "      <td>0.097672</td>\n",
       "      <td>0.684233</td>\n",
       "      <td>0.440152</td>\n",
       "    </tr>\n",
       "    <tr>\n",
       "      <th>4</th>\n",
       "      <td>0.122038</td>\n",
       "      <td>0.495177</td>\n",
       "      <td>0.034389</td>\n",
       "      <td>0.909320</td>\n",
       "      <td>0.258780</td>\n",
       "      <td>0.662522</td>\n",
       "      <td>0.311711</td>\n",
       "      <td>0.520068</td>\n",
       "      <td>0.546710</td>\n",
       "      <td>0.184854</td>\n",
       "    </tr>\n",
       "  </tbody>\n",
       "</table>\n",
       "</div>"
      ],
      "text/plain": [
       "          0         1         2         3         4         5         6  \\\n",
       "0  0.374540  0.950714  0.731994  0.598658  0.156019  0.155995  0.058084   \n",
       "1  0.020584  0.969910  0.832443  0.212339  0.181825  0.183405  0.304242   \n",
       "2  0.611853  0.139494  0.292145  0.366362  0.456070  0.785176  0.199674   \n",
       "3  0.607545  0.170524  0.065052  0.948886  0.965632  0.808397  0.304614   \n",
       "4  0.122038  0.495177  0.034389  0.909320  0.258780  0.662522  0.311711   \n",
       "\n",
       "          7         8         9  \n",
       "0  0.866176  0.601115  0.708073  \n",
       "1  0.524756  0.431945  0.291229  \n",
       "2  0.514234  0.592415  0.046450  \n",
       "3  0.097672  0.684233  0.440152  \n",
       "4  0.520068  0.546710  0.184854  "
      ]
     },
     "execution_count": 9,
     "metadata": {},
     "output_type": "execute_result"
    }
   ],
   "source": [
    "df1.head()"
   ]
  },
  {
   "cell_type": "code",
   "execution_count": 10,
   "id": "e114f87e",
   "metadata": {},
   "outputs": [
    {
     "data": {
      "text/html": [
       "<div>\n",
       "<style scoped>\n",
       "    .dataframe tbody tr th:only-of-type {\n",
       "        vertical-align: middle;\n",
       "    }\n",
       "\n",
       "    .dataframe tbody tr th {\n",
       "        vertical-align: top;\n",
       "    }\n",
       "\n",
       "    .dataframe thead th {\n",
       "        text-align: right;\n",
       "    }\n",
       "</style>\n",
       "<table border=\"1\" class=\"dataframe\">\n",
       "  <thead>\n",
       "    <tr style=\"text-align: right;\">\n",
       "      <th></th>\n",
       "      <th>0</th>\n",
       "      <th>1</th>\n",
       "      <th>2</th>\n",
       "      <th>3</th>\n",
       "      <th>4</th>\n",
       "      <th>5</th>\n",
       "      <th>6</th>\n",
       "      <th>7</th>\n",
       "      <th>8</th>\n",
       "      <th>9</th>\n",
       "    </tr>\n",
       "  </thead>\n",
       "  <tbody>\n",
       "    <tr>\n",
       "      <th>0</th>\n",
       "      <td>0.595156</td>\n",
       "      <td>0.364717</td>\n",
       "      <td>0.005376</td>\n",
       "      <td>0.561088</td>\n",
       "      <td>0.896570</td>\n",
       "      <td>0.531717</td>\n",
       "      <td>0.780488</td>\n",
       "      <td>0.161954</td>\n",
       "      <td>0.137298</td>\n",
       "      <td>0.893944</td>\n",
       "    </tr>\n",
       "    <tr>\n",
       "      <th>1</th>\n",
       "      <td>0.782998</td>\n",
       "      <td>0.347410</td>\n",
       "      <td>0.800172</td>\n",
       "      <td>0.075326</td>\n",
       "      <td>0.517900</td>\n",
       "      <td>0.881456</td>\n",
       "      <td>0.843601</td>\n",
       "      <td>0.371253</td>\n",
       "      <td>0.228849</td>\n",
       "      <td>0.867865</td>\n",
       "    </tr>\n",
       "    <tr>\n",
       "      <th>2</th>\n",
       "      <td>0.266901</td>\n",
       "      <td>0.822025</td>\n",
       "      <td>0.266517</td>\n",
       "      <td>0.984533</td>\n",
       "      <td>0.360120</td>\n",
       "      <td>0.255362</td>\n",
       "      <td>0.599228</td>\n",
       "      <td>0.359710</td>\n",
       "      <td>0.810427</td>\n",
       "      <td>0.732750</td>\n",
       "    </tr>\n",
       "    <tr>\n",
       "      <th>3</th>\n",
       "      <td>0.632495</td>\n",
       "      <td>0.422013</td>\n",
       "      <td>0.834611</td>\n",
       "      <td>0.306137</td>\n",
       "      <td>0.295722</td>\n",
       "      <td>0.091476</td>\n",
       "      <td>0.563500</td>\n",
       "      <td>0.696945</td>\n",
       "      <td>0.712998</td>\n",
       "      <td>0.861404</td>\n",
       "    </tr>\n",
       "    <tr>\n",
       "      <th>4</th>\n",
       "      <td>0.567160</td>\n",
       "      <td>0.025521</td>\n",
       "      <td>0.175390</td>\n",
       "      <td>0.561330</td>\n",
       "      <td>0.317477</td>\n",
       "      <td>0.864216</td>\n",
       "      <td>0.228547</td>\n",
       "      <td>0.255269</td>\n",
       "      <td>0.842986</td>\n",
       "      <td>0.581316</td>\n",
       "    </tr>\n",
       "  </tbody>\n",
       "</table>\n",
       "</div>"
      ],
      "text/plain": [
       "          0         1         2         3         4         5         6  \\\n",
       "0  0.595156  0.364717  0.005376  0.561088  0.896570  0.531717  0.780488   \n",
       "1  0.782998  0.347410  0.800172  0.075326  0.517900  0.881456  0.843601   \n",
       "2  0.266901  0.822025  0.266517  0.984533  0.360120  0.255362  0.599228   \n",
       "3  0.632495  0.422013  0.834611  0.306137  0.295722  0.091476  0.563500   \n",
       "4  0.567160  0.025521  0.175390  0.561330  0.317477  0.864216  0.228547   \n",
       "\n",
       "          7         8         9  \n",
       "0  0.161954  0.137298  0.893944  \n",
       "1  0.371253  0.228849  0.867865  \n",
       "2  0.359710  0.810427  0.732750  \n",
       "3  0.696945  0.712998  0.861404  \n",
       "4  0.255269  0.842986  0.581316  "
      ]
     },
     "execution_count": 10,
     "metadata": {},
     "output_type": "execute_result"
    }
   ],
   "source": [
    "df2.head()"
   ]
  },
  {
   "cell_type": "code",
   "execution_count": 11,
   "id": "3e8ac0bd",
   "metadata": {},
   "outputs": [
    {
     "data": {
      "text/html": [
       "<div>\n",
       "<style scoped>\n",
       "    .dataframe tbody tr th:only-of-type {\n",
       "        vertical-align: middle;\n",
       "    }\n",
       "\n",
       "    .dataframe tbody tr th {\n",
       "        vertical-align: top;\n",
       "    }\n",
       "\n",
       "    .dataframe thead th {\n",
       "        text-align: right;\n",
       "    }\n",
       "</style>\n",
       "<table border=\"1\" class=\"dataframe\">\n",
       "  <thead>\n",
       "    <tr style=\"text-align: right;\">\n",
       "      <th></th>\n",
       "      <th>0</th>\n",
       "      <th>1</th>\n",
       "      <th>2</th>\n",
       "      <th>3</th>\n",
       "      <th>4</th>\n",
       "      <th>5</th>\n",
       "      <th>6</th>\n",
       "      <th>7</th>\n",
       "      <th>8</th>\n",
       "      <th>9</th>\n",
       "    </tr>\n",
       "  </thead>\n",
       "  <tbody>\n",
       "    <tr>\n",
       "      <th>0</th>\n",
       "      <td>0.969696</td>\n",
       "      <td>1.315431</td>\n",
       "      <td>0.737370</td>\n",
       "      <td>1.159746</td>\n",
       "      <td>1.052589</td>\n",
       "      <td>0.687711</td>\n",
       "      <td>0.838571</td>\n",
       "      <td>1.028130</td>\n",
       "      <td>0.738413</td>\n",
       "      <td>1.602016</td>\n",
       "    </tr>\n",
       "    <tr>\n",
       "      <th>1</th>\n",
       "      <td>0.803583</td>\n",
       "      <td>1.317320</td>\n",
       "      <td>1.632615</td>\n",
       "      <td>0.287665</td>\n",
       "      <td>0.699725</td>\n",
       "      <td>1.064861</td>\n",
       "      <td>1.147843</td>\n",
       "      <td>0.896010</td>\n",
       "      <td>0.660794</td>\n",
       "      <td>1.159094</td>\n",
       "    </tr>\n",
       "    <tr>\n",
       "      <th>2</th>\n",
       "      <td>0.878754</td>\n",
       "      <td>0.961518</td>\n",
       "      <td>0.558662</td>\n",
       "      <td>1.350895</td>\n",
       "      <td>0.816190</td>\n",
       "      <td>1.040538</td>\n",
       "      <td>0.798902</td>\n",
       "      <td>0.873944</td>\n",
       "      <td>1.402842</td>\n",
       "      <td>0.779200</td>\n",
       "    </tr>\n",
       "    <tr>\n",
       "      <th>3</th>\n",
       "      <td>1.240040</td>\n",
       "      <td>0.592538</td>\n",
       "      <td>0.899663</td>\n",
       "      <td>1.255023</td>\n",
       "      <td>1.261354</td>\n",
       "      <td>0.899873</td>\n",
       "      <td>0.868114</td>\n",
       "      <td>0.794617</td>\n",
       "      <td>1.397231</td>\n",
       "      <td>1.301557</td>\n",
       "    </tr>\n",
       "    <tr>\n",
       "      <th>4</th>\n",
       "      <td>0.689199</td>\n",
       "      <td>0.520698</td>\n",
       "      <td>0.209779</td>\n",
       "      <td>1.470651</td>\n",
       "      <td>0.576257</td>\n",
       "      <td>1.526738</td>\n",
       "      <td>0.540258</td>\n",
       "      <td>0.775337</td>\n",
       "      <td>1.389696</td>\n",
       "      <td>0.766170</td>\n",
       "    </tr>\n",
       "  </tbody>\n",
       "</table>\n",
       "</div>"
      ],
      "text/plain": [
       "          0         1         2         3         4         5         6  \\\n",
       "0  0.969696  1.315431  0.737370  1.159746  1.052589  0.687711  0.838571   \n",
       "1  0.803583  1.317320  1.632615  0.287665  0.699725  1.064861  1.147843   \n",
       "2  0.878754  0.961518  0.558662  1.350895  0.816190  1.040538  0.798902   \n",
       "3  1.240040  0.592538  0.899663  1.255023  1.261354  0.899873  0.868114   \n",
       "4  0.689199  0.520698  0.209779  1.470651  0.576257  1.526738  0.540258   \n",
       "\n",
       "          7         8         9  \n",
       "0  1.028130  0.738413  1.602016  \n",
       "1  0.896010  0.660794  1.159094  \n",
       "2  0.873944  1.402842  0.779200  \n",
       "3  0.794617  1.397231  1.301557  \n",
       "4  0.775337  1.389696  0.766170  "
      ]
     },
     "execution_count": 11,
     "metadata": {},
     "output_type": "execute_result"
    }
   ],
   "source": [
    "(df1+df2).head(5)"
   ]
  },
  {
   "cell_type": "code",
   "execution_count": 12,
   "id": "9c2fb9e9",
   "metadata": {},
   "outputs": [
    {
     "data": {
      "text/html": [
       "<div>\n",
       "<style scoped>\n",
       "    .dataframe tbody tr th:only-of-type {\n",
       "        vertical-align: middle;\n",
       "    }\n",
       "\n",
       "    .dataframe tbody tr th {\n",
       "        vertical-align: top;\n",
       "    }\n",
       "\n",
       "    .dataframe thead th {\n",
       "        text-align: right;\n",
       "    }\n",
       "</style>\n",
       "<table border=\"1\" class=\"dataframe\">\n",
       "  <thead>\n",
       "    <tr style=\"text-align: right;\">\n",
       "      <th></th>\n",
       "      <th>0</th>\n",
       "      <th>1</th>\n",
       "      <th>2</th>\n",
       "      <th>3</th>\n",
       "      <th>4</th>\n",
       "      <th>5</th>\n",
       "      <th>6</th>\n",
       "      <th>7</th>\n",
       "      <th>8</th>\n",
       "      <th>9</th>\n",
       "    </tr>\n",
       "  </thead>\n",
       "  <tbody>\n",
       "    <tr>\n",
       "      <th>0</th>\n",
       "      <td>0.969696</td>\n",
       "      <td>1.315431</td>\n",
       "      <td>0.737370</td>\n",
       "      <td>1.159746</td>\n",
       "      <td>1.052589</td>\n",
       "      <td>0.687711</td>\n",
       "      <td>0.838571</td>\n",
       "      <td>1.028130</td>\n",
       "      <td>0.738413</td>\n",
       "      <td>1.602016</td>\n",
       "    </tr>\n",
       "    <tr>\n",
       "      <th>1</th>\n",
       "      <td>0.803583</td>\n",
       "      <td>1.317320</td>\n",
       "      <td>1.632615</td>\n",
       "      <td>0.287665</td>\n",
       "      <td>0.699725</td>\n",
       "      <td>1.064861</td>\n",
       "      <td>1.147843</td>\n",
       "      <td>0.896010</td>\n",
       "      <td>0.660794</td>\n",
       "      <td>1.159094</td>\n",
       "    </tr>\n",
       "    <tr>\n",
       "      <th>2</th>\n",
       "      <td>0.878754</td>\n",
       "      <td>0.961518</td>\n",
       "      <td>0.558662</td>\n",
       "      <td>1.350895</td>\n",
       "      <td>0.816190</td>\n",
       "      <td>1.040538</td>\n",
       "      <td>0.798902</td>\n",
       "      <td>0.873944</td>\n",
       "      <td>1.402842</td>\n",
       "      <td>0.779200</td>\n",
       "    </tr>\n",
       "    <tr>\n",
       "      <th>3</th>\n",
       "      <td>1.240040</td>\n",
       "      <td>0.592538</td>\n",
       "      <td>0.899663</td>\n",
       "      <td>1.255023</td>\n",
       "      <td>1.261354</td>\n",
       "      <td>0.899873</td>\n",
       "      <td>0.868114</td>\n",
       "      <td>0.794617</td>\n",
       "      <td>1.397231</td>\n",
       "      <td>1.301557</td>\n",
       "    </tr>\n",
       "    <tr>\n",
       "      <th>4</th>\n",
       "      <td>0.689199</td>\n",
       "      <td>0.520698</td>\n",
       "      <td>0.209779</td>\n",
       "      <td>1.470651</td>\n",
       "      <td>0.576257</td>\n",
       "      <td>1.526738</td>\n",
       "      <td>0.540258</td>\n",
       "      <td>0.775337</td>\n",
       "      <td>1.389696</td>\n",
       "      <td>0.766170</td>\n",
       "    </tr>\n",
       "  </tbody>\n",
       "</table>\n",
       "</div>"
      ],
      "text/plain": [
       "          0         1         2         3         4         5         6  \\\n",
       "0  0.969696  1.315431  0.737370  1.159746  1.052589  0.687711  0.838571   \n",
       "1  0.803583  1.317320  1.632615  0.287665  0.699725  1.064861  1.147843   \n",
       "2  0.878754  0.961518  0.558662  1.350895  0.816190  1.040538  0.798902   \n",
       "3  1.240040  0.592538  0.899663  1.255023  1.261354  0.899873  0.868114   \n",
       "4  0.689199  0.520698  0.209779  1.470651  0.576257  1.526738  0.540258   \n",
       "\n",
       "          7         8         9  \n",
       "0  1.028130  0.738413  1.602016  \n",
       "1  0.896010  0.660794  1.159094  \n",
       "2  0.873944  1.402842  0.779200  \n",
       "3  0.794617  1.397231  1.301557  \n",
       "4  0.775337  1.389696  0.766170  "
      ]
     },
     "execution_count": 12,
     "metadata": {},
     "output_type": "execute_result"
    }
   ],
   "source": [
    " pd.eval('df1 + df2').head(5)"
   ]
  },
  {
   "cell_type": "code",
   "execution_count": 13,
   "id": "38b5ad16",
   "metadata": {},
   "outputs": [
    {
     "name": "stdout",
     "output_type": "stream",
     "text": [
      "3.47 ms ± 188 µs per loop (mean ± std. dev. of 7 runs, 100 loops each)\n"
     ]
    }
   ],
   "source": [
    "%timeit df1 + df2"
   ]
  },
  {
   "cell_type": "code",
   "execution_count": 14,
   "id": "0f413f02",
   "metadata": {},
   "outputs": [
    {
     "name": "stdout",
     "output_type": "stream",
     "text": [
      "4.12 ms ± 96 µs per loop (mean ± std. dev. of 7 runs, 100 loops each)\n"
     ]
    }
   ],
   "source": [
    "%timeit pd.eval('df1 + df2')"
   ]
  },
  {
   "cell_type": "markdown",
   "id": "99d7e46e",
   "metadata": {},
   "source": [
    "allclose => 두 연산의 결과가 같은지 판단하여 true/false 를 반환"
   ]
  },
  {
   "cell_type": "code",
   "execution_count": 15,
   "id": "680452b8",
   "metadata": {},
   "outputs": [
    {
     "data": {
      "text/plain": [
       "True"
      ]
     },
     "execution_count": 15,
     "metadata": {},
     "output_type": "execute_result"
    }
   ],
   "source": [
    "np.allclose(df1+df2, pd.eval('df1+df2'))"
   ]
  },
  {
   "cell_type": "code",
   "execution_count": 16,
   "id": "7c8f4caf",
   "metadata": {},
   "outputs": [],
   "source": [
    "nrows1, ncols1 = 100000, 100"
   ]
  },
  {
   "cell_type": "code",
   "execution_count": 17,
   "id": "3411558e",
   "metadata": {},
   "outputs": [],
   "source": [
    "df11,df12,df13,df14 = (pd.DataFrame(rng.rand(nrows1, ncols1))for i in range(4))"
   ]
  },
  {
   "cell_type": "code",
   "execution_count": 18,
   "id": "64bbac82",
   "metadata": {},
   "outputs": [
    {
     "name": "stdout",
     "output_type": "stream",
     "text": [
      "87.6 ms ± 3.92 ms per loop (mean ± std. dev. of 7 runs, 10 loops each)\n"
     ]
    }
   ],
   "source": [
    "%timeit df11 + df12 + df13 + df14"
   ]
  },
  {
   "cell_type": "markdown",
   "id": "51c42b53",
   "metadata": {},
   "source": [
    "보다 많은 데이터를 생성하고 데이터프레임도 확대대는 경우 좋은 성능을 낼 수 있다."
   ]
  },
  {
   "cell_type": "code",
   "execution_count": 19,
   "id": "6d419e7f",
   "metadata": {},
   "outputs": [
    {
     "name": "stdout",
     "output_type": "stream",
     "text": [
      "40.2 ms ± 1.55 ms per loop (mean ± std. dev. of 7 runs, 10 loops each)\n"
     ]
    }
   ],
   "source": [
    "%timeit pd.eval('df11 + df12 + df13 + df14')"
   ]
  },
  {
   "cell_type": "code",
   "execution_count": 20,
   "id": "7c86d658",
   "metadata": {},
   "outputs": [
    {
     "data": {
      "text/html": [
       "<div>\n",
       "<style scoped>\n",
       "    .dataframe tbody tr th:only-of-type {\n",
       "        vertical-align: middle;\n",
       "    }\n",
       "\n",
       "    .dataframe tbody tr th {\n",
       "        vertical-align: top;\n",
       "    }\n",
       "\n",
       "    .dataframe thead th {\n",
       "        text-align: right;\n",
       "    }\n",
       "</style>\n",
       "<table border=\"1\" class=\"dataframe\">\n",
       "  <thead>\n",
       "    <tr style=\"text-align: right;\">\n",
       "      <th></th>\n",
       "      <th>평균</th>\n",
       "      <th>분산</th>\n",
       "    </tr>\n",
       "  </thead>\n",
       "  <tbody>\n",
       "    <tr>\n",
       "      <th>0</th>\n",
       "      <td>-1.595176</td>\n",
       "      <td>0.991119</td>\n",
       "    </tr>\n",
       "    <tr>\n",
       "      <th>1</th>\n",
       "      <td>-0.250873</td>\n",
       "      <td>-0.856129</td>\n",
       "    </tr>\n",
       "    <tr>\n",
       "      <th>2</th>\n",
       "      <td>1.983995</td>\n",
       "      <td>0.651479</td>\n",
       "    </tr>\n",
       "    <tr>\n",
       "      <th>3</th>\n",
       "      <td>-1.291590</td>\n",
       "      <td>-1.522356</td>\n",
       "    </tr>\n",
       "    <tr>\n",
       "      <th>4</th>\n",
       "      <td>1.649737</td>\n",
       "      <td>-0.668447</td>\n",
       "    </tr>\n",
       "    <tr>\n",
       "      <th>5</th>\n",
       "      <td>-0.394527</td>\n",
       "      <td>0.141497</td>\n",
       "    </tr>\n",
       "    <tr>\n",
       "      <th>6</th>\n",
       "      <td>1.021316</td>\n",
       "      <td>0.199125</td>\n",
       "    </tr>\n",
       "    <tr>\n",
       "      <th>7</th>\n",
       "      <td>-1.229653</td>\n",
       "      <td>-0.077137</td>\n",
       "    </tr>\n",
       "    <tr>\n",
       "      <th>8</th>\n",
       "      <td>-2.821669</td>\n",
       "      <td>1.236230</td>\n",
       "    </tr>\n",
       "    <tr>\n",
       "      <th>9</th>\n",
       "      <td>-1.373782</td>\n",
       "      <td>-1.431676</td>\n",
       "    </tr>\n",
       "  </tbody>\n",
       "</table>\n",
       "</div>"
      ],
      "text/plain": [
       "         평균        분산\n",
       "0 -1.595176  0.991119\n",
       "1 -0.250873 -0.856129\n",
       "2  1.983995  0.651479\n",
       "3 -1.291590 -1.522356\n",
       "4  1.649737 -0.668447\n",
       "5 -0.394527  0.141497\n",
       "6  1.021316  0.199125\n",
       "7 -1.229653 -0.077137\n",
       "8 -2.821669  1.236230\n",
       "9 -1.373782 -1.431676"
      ]
     },
     "execution_count": 20,
     "metadata": {},
     "output_type": "execute_result"
    }
   ],
   "source": [
    "dfa1 = pd. DataFrame(np.random.randn(10, 2), columns=['평균','분산'])\n",
    "dfa1"
   ]
  },
  {
   "cell_type": "code",
   "execution_count": 21,
   "id": "896d0d38",
   "metadata": {},
   "outputs": [
    {
     "data": {
      "text/plain": [
       "0   -0.604057\n",
       "1   -1.107002\n",
       "2    2.635474\n",
       "3   -2.813945\n",
       "4    0.981291\n",
       "5   -0.253030\n",
       "6    1.220440\n",
       "7   -1.306790\n",
       "8   -1.585439\n",
       "9   -2.805457\n",
       "dtype: float64"
      ]
     },
     "execution_count": 21,
     "metadata": {},
     "output_type": "execute_result"
    }
   ],
   "source": [
    "dfa1.eval( '평균 + 분산 ')"
   ]
  },
  {
   "cell_type": "code",
   "execution_count": 22,
   "id": "ee023a2b",
   "metadata": {},
   "outputs": [
    {
     "data": {
      "text/html": [
       "<div>\n",
       "<style scoped>\n",
       "    .dataframe tbody tr th:only-of-type {\n",
       "        vertical-align: middle;\n",
       "    }\n",
       "\n",
       "    .dataframe tbody tr th {\n",
       "        vertical-align: top;\n",
       "    }\n",
       "\n",
       "    .dataframe thead th {\n",
       "        text-align: right;\n",
       "    }\n",
       "</style>\n",
       "<table border=\"1\" class=\"dataframe\">\n",
       "  <thead>\n",
       "    <tr style=\"text-align: right;\">\n",
       "      <th></th>\n",
       "      <th>평균</th>\n",
       "      <th>분산</th>\n",
       "      <th>편차</th>\n",
       "    </tr>\n",
       "  </thead>\n",
       "  <tbody>\n",
       "    <tr>\n",
       "      <th>0</th>\n",
       "      <td>-1.595176</td>\n",
       "      <td>0.991119</td>\n",
       "      <td>-2.586295</td>\n",
       "    </tr>\n",
       "    <tr>\n",
       "      <th>1</th>\n",
       "      <td>-0.250873</td>\n",
       "      <td>-0.856129</td>\n",
       "      <td>0.605257</td>\n",
       "    </tr>\n",
       "    <tr>\n",
       "      <th>2</th>\n",
       "      <td>1.983995</td>\n",
       "      <td>0.651479</td>\n",
       "      <td>1.332515</td>\n",
       "    </tr>\n",
       "    <tr>\n",
       "      <th>3</th>\n",
       "      <td>-1.291590</td>\n",
       "      <td>-1.522356</td>\n",
       "      <td>0.230766</td>\n",
       "    </tr>\n",
       "    <tr>\n",
       "      <th>4</th>\n",
       "      <td>1.649737</td>\n",
       "      <td>-0.668447</td>\n",
       "      <td>2.318184</td>\n",
       "    </tr>\n",
       "    <tr>\n",
       "      <th>5</th>\n",
       "      <td>-0.394527</td>\n",
       "      <td>0.141497</td>\n",
       "      <td>-0.536024</td>\n",
       "    </tr>\n",
       "    <tr>\n",
       "      <th>6</th>\n",
       "      <td>1.021316</td>\n",
       "      <td>0.199125</td>\n",
       "      <td>0.822191</td>\n",
       "    </tr>\n",
       "    <tr>\n",
       "      <th>7</th>\n",
       "      <td>-1.229653</td>\n",
       "      <td>-0.077137</td>\n",
       "      <td>-1.152517</td>\n",
       "    </tr>\n",
       "    <tr>\n",
       "      <th>8</th>\n",
       "      <td>-2.821669</td>\n",
       "      <td>1.236230</td>\n",
       "      <td>-4.057899</td>\n",
       "    </tr>\n",
       "    <tr>\n",
       "      <th>9</th>\n",
       "      <td>-1.373782</td>\n",
       "      <td>-1.431676</td>\n",
       "      <td>0.057894</td>\n",
       "    </tr>\n",
       "  </tbody>\n",
       "</table>\n",
       "</div>"
      ],
      "text/plain": [
       "         평균        분산        편차\n",
       "0 -1.595176  0.991119 -2.586295\n",
       "1 -0.250873 -0.856129  0.605257\n",
       "2  1.983995  0.651479  1.332515\n",
       "3 -1.291590 -1.522356  0.230766\n",
       "4  1.649737 -0.668447  2.318184\n",
       "5 -0.394527  0.141497 -0.536024\n",
       "6  1.021316  0.199125  0.822191\n",
       "7 -1.229653 -0.077137 -1.152517\n",
       "8 -2.821669  1.236230 -4.057899\n",
       "9 -1.373782 -1.431676  0.057894"
      ]
     },
     "execution_count": 22,
     "metadata": {},
     "output_type": "execute_result"
    }
   ],
   "source": [
    "dfa1.eval( '편차  = 평균 - 분산 ')"
   ]
  },
  {
   "cell_type": "markdown",
   "id": "8dd436c6",
   "metadata": {},
   "source": [
    "원본은 그대로"
   ]
  },
  {
   "cell_type": "code",
   "execution_count": 23,
   "id": "9b08a725",
   "metadata": {},
   "outputs": [
    {
     "data": {
      "text/html": [
       "<div>\n",
       "<style scoped>\n",
       "    .dataframe tbody tr th:only-of-type {\n",
       "        vertical-align: middle;\n",
       "    }\n",
       "\n",
       "    .dataframe tbody tr th {\n",
       "        vertical-align: top;\n",
       "    }\n",
       "\n",
       "    .dataframe thead th {\n",
       "        text-align: right;\n",
       "    }\n",
       "</style>\n",
       "<table border=\"1\" class=\"dataframe\">\n",
       "  <thead>\n",
       "    <tr style=\"text-align: right;\">\n",
       "      <th></th>\n",
       "      <th>평균</th>\n",
       "      <th>분산</th>\n",
       "    </tr>\n",
       "  </thead>\n",
       "  <tbody>\n",
       "    <tr>\n",
       "      <th>0</th>\n",
       "      <td>-1.595176</td>\n",
       "      <td>0.991119</td>\n",
       "    </tr>\n",
       "    <tr>\n",
       "      <th>1</th>\n",
       "      <td>-0.250873</td>\n",
       "      <td>-0.856129</td>\n",
       "    </tr>\n",
       "    <tr>\n",
       "      <th>2</th>\n",
       "      <td>1.983995</td>\n",
       "      <td>0.651479</td>\n",
       "    </tr>\n",
       "    <tr>\n",
       "      <th>3</th>\n",
       "      <td>-1.291590</td>\n",
       "      <td>-1.522356</td>\n",
       "    </tr>\n",
       "    <tr>\n",
       "      <th>4</th>\n",
       "      <td>1.649737</td>\n",
       "      <td>-0.668447</td>\n",
       "    </tr>\n",
       "    <tr>\n",
       "      <th>5</th>\n",
       "      <td>-0.394527</td>\n",
       "      <td>0.141497</td>\n",
       "    </tr>\n",
       "    <tr>\n",
       "      <th>6</th>\n",
       "      <td>1.021316</td>\n",
       "      <td>0.199125</td>\n",
       "    </tr>\n",
       "    <tr>\n",
       "      <th>7</th>\n",
       "      <td>-1.229653</td>\n",
       "      <td>-0.077137</td>\n",
       "    </tr>\n",
       "    <tr>\n",
       "      <th>8</th>\n",
       "      <td>-2.821669</td>\n",
       "      <td>1.236230</td>\n",
       "    </tr>\n",
       "    <tr>\n",
       "      <th>9</th>\n",
       "      <td>-1.373782</td>\n",
       "      <td>-1.431676</td>\n",
       "    </tr>\n",
       "  </tbody>\n",
       "</table>\n",
       "</div>"
      ],
      "text/plain": [
       "         평균        분산\n",
       "0 -1.595176  0.991119\n",
       "1 -0.250873 -0.856129\n",
       "2  1.983995  0.651479\n",
       "3 -1.291590 -1.522356\n",
       "4  1.649737 -0.668447\n",
       "5 -0.394527  0.141497\n",
       "6  1.021316  0.199125\n",
       "7 -1.229653 -0.077137\n",
       "8 -2.821669  1.236230\n",
       "9 -1.373782 -1.431676"
      ]
     },
     "execution_count": 23,
     "metadata": {},
     "output_type": "execute_result"
    }
   ],
   "source": [
    "dfa1"
   ]
  },
  {
   "cell_type": "markdown",
   "id": "fb57ac38",
   "metadata": {},
   "source": [
    "수정한 값 원본에 저장"
   ]
  },
  {
   "cell_type": "code",
   "execution_count": 24,
   "id": "fc2050a6",
   "metadata": {},
   "outputs": [
    {
     "data": {
      "text/html": [
       "<div>\n",
       "<style scoped>\n",
       "    .dataframe tbody tr th:only-of-type {\n",
       "        vertical-align: middle;\n",
       "    }\n",
       "\n",
       "    .dataframe tbody tr th {\n",
       "        vertical-align: top;\n",
       "    }\n",
       "\n",
       "    .dataframe thead th {\n",
       "        text-align: right;\n",
       "    }\n",
       "</style>\n",
       "<table border=\"1\" class=\"dataframe\">\n",
       "  <thead>\n",
       "    <tr style=\"text-align: right;\">\n",
       "      <th></th>\n",
       "      <th>평균</th>\n",
       "      <th>분산</th>\n",
       "      <th>편차</th>\n",
       "    </tr>\n",
       "  </thead>\n",
       "  <tbody>\n",
       "    <tr>\n",
       "      <th>0</th>\n",
       "      <td>-1.595176</td>\n",
       "      <td>0.991119</td>\n",
       "      <td>-2.586295</td>\n",
       "    </tr>\n",
       "    <tr>\n",
       "      <th>1</th>\n",
       "      <td>-0.250873</td>\n",
       "      <td>-0.856129</td>\n",
       "      <td>0.605257</td>\n",
       "    </tr>\n",
       "    <tr>\n",
       "      <th>2</th>\n",
       "      <td>1.983995</td>\n",
       "      <td>0.651479</td>\n",
       "      <td>1.332515</td>\n",
       "    </tr>\n",
       "    <tr>\n",
       "      <th>3</th>\n",
       "      <td>-1.291590</td>\n",
       "      <td>-1.522356</td>\n",
       "      <td>0.230766</td>\n",
       "    </tr>\n",
       "    <tr>\n",
       "      <th>4</th>\n",
       "      <td>1.649737</td>\n",
       "      <td>-0.668447</td>\n",
       "      <td>2.318184</td>\n",
       "    </tr>\n",
       "    <tr>\n",
       "      <th>5</th>\n",
       "      <td>-0.394527</td>\n",
       "      <td>0.141497</td>\n",
       "      <td>-0.536024</td>\n",
       "    </tr>\n",
       "    <tr>\n",
       "      <th>6</th>\n",
       "      <td>1.021316</td>\n",
       "      <td>0.199125</td>\n",
       "      <td>0.822191</td>\n",
       "    </tr>\n",
       "    <tr>\n",
       "      <th>7</th>\n",
       "      <td>-1.229653</td>\n",
       "      <td>-0.077137</td>\n",
       "      <td>-1.152517</td>\n",
       "    </tr>\n",
       "    <tr>\n",
       "      <th>8</th>\n",
       "      <td>-2.821669</td>\n",
       "      <td>1.236230</td>\n",
       "      <td>-4.057899</td>\n",
       "    </tr>\n",
       "    <tr>\n",
       "      <th>9</th>\n",
       "      <td>-1.373782</td>\n",
       "      <td>-1.431676</td>\n",
       "      <td>0.057894</td>\n",
       "    </tr>\n",
       "  </tbody>\n",
       "</table>\n",
       "</div>"
      ],
      "text/plain": [
       "         평균        분산        편차\n",
       "0 -1.595176  0.991119 -2.586295\n",
       "1 -0.250873 -0.856129  0.605257\n",
       "2  1.983995  0.651479  1.332515\n",
       "3 -1.291590 -1.522356  0.230766\n",
       "4  1.649737 -0.668447  2.318184\n",
       "5 -0.394527  0.141497 -0.536024\n",
       "6  1.021316  0.199125  0.822191\n",
       "7 -1.229653 -0.077137 -1.152517\n",
       "8 -2.821669  1.236230 -4.057899\n",
       "9 -1.373782 -1.431676  0.057894"
      ]
     },
     "execution_count": 24,
     "metadata": {},
     "output_type": "execute_result"
    }
   ],
   "source": [
    "dfa1.eval( '편차 = 평균 - 분산 ', inplace=True)\n",
    "dfa1"
   ]
  },
  {
   "cell_type": "code",
   "execution_count": 25,
   "id": "d24e2027",
   "metadata": {},
   "outputs": [
    {
     "data": {
      "text/html": [
       "<div>\n",
       "<style scoped>\n",
       "    .dataframe tbody tr th:only-of-type {\n",
       "        vertical-align: middle;\n",
       "    }\n",
       "\n",
       "    .dataframe tbody tr th {\n",
       "        vertical-align: top;\n",
       "    }\n",
       "\n",
       "    .dataframe thead th {\n",
       "        text-align: right;\n",
       "    }\n",
       "</style>\n",
       "<table border=\"1\" class=\"dataframe\">\n",
       "  <thead>\n",
       "    <tr style=\"text-align: right;\">\n",
       "      <th></th>\n",
       "      <th>0</th>\n",
       "      <th>1</th>\n",
       "    </tr>\n",
       "  </thead>\n",
       "  <tbody>\n",
       "    <tr>\n",
       "      <th>0</th>\n",
       "      <td>-1.034243</td>\n",
       "      <td>0.281773</td>\n",
       "    </tr>\n",
       "    <tr>\n",
       "      <th>1</th>\n",
       "      <td>0.225927</td>\n",
       "      <td>0.367802</td>\n",
       "    </tr>\n",
       "    <tr>\n",
       "      <th>2</th>\n",
       "      <td>0.231941</td>\n",
       "      <td>0.391112</td>\n",
       "    </tr>\n",
       "    <tr>\n",
       "      <th>3</th>\n",
       "      <td>-0.062383</td>\n",
       "      <td>-0.216530</td>\n",
       "    </tr>\n",
       "    <tr>\n",
       "      <th>4</th>\n",
       "      <td>0.735096</td>\n",
       "      <td>-0.460369</td>\n",
       "    </tr>\n",
       "    <tr>\n",
       "      <th>5</th>\n",
       "      <td>1.769831</td>\n",
       "      <td>-0.947468</td>\n",
       "    </tr>\n",
       "    <tr>\n",
       "      <th>6</th>\n",
       "      <td>-1.107906</td>\n",
       "      <td>0.742290</td>\n",
       "    </tr>\n",
       "    <tr>\n",
       "      <th>7</th>\n",
       "      <td>0.110620</td>\n",
       "      <td>1.701852</td>\n",
       "    </tr>\n",
       "    <tr>\n",
       "      <th>8</th>\n",
       "      <td>-0.136002</td>\n",
       "      <td>-0.630108</td>\n",
       "    </tr>\n",
       "    <tr>\n",
       "      <th>9</th>\n",
       "      <td>-1.904393</td>\n",
       "      <td>0.859944</td>\n",
       "    </tr>\n",
       "  </tbody>\n",
       "</table>\n",
       "</div>"
      ],
      "text/plain": [
       "          0         1\n",
       "0 -1.034243  0.281773\n",
       "1  0.225927  0.367802\n",
       "2  0.231941  0.391112\n",
       "3 -0.062383 -0.216530\n",
       "4  0.735096 -0.460369\n",
       "5  1.769831 -0.947468\n",
       "6 -1.107906  0.742290\n",
       "7  0.110620  1.701852\n",
       "8 -0.136002 -0.630108\n",
       "9 -1.904393  0.859944"
      ]
     },
     "execution_count": 25,
     "metadata": {},
     "output_type": "execute_result"
    }
   ],
   "source": [
    "dfa2 = pd. DataFrame(np.random.randn(10, 2), columns=range(0,2))\n",
    "dfa2"
   ]
  },
  {
   "cell_type": "markdown",
   "id": "5b169804",
   "metadata": {},
   "source": [
    "열이름을 사용하여 연산을 할 수 있을까?"
   ]
  },
  {
   "cell_type": "code",
   "execution_count": 26,
   "id": "e7139442",
   "metadata": {},
   "outputs": [
    {
     "data": {
      "text/plain": [
       "1"
      ]
     },
     "execution_count": 26,
     "metadata": {},
     "output_type": "execute_result"
    }
   ],
   "source": [
    "dfa2.eval( '0 +1 ')"
   ]
  },
  {
   "cell_type": "markdown",
   "id": "a9adc457",
   "metadata": {},
   "source": [
    ".을 통해 열 접근은?"
   ]
  },
  {
   "cell_type": "code",
   "execution_count": 27,
   "id": "54839720",
   "metadata": {},
   "outputs": [
    {
     "name": "stdout",
     "output_type": "stream",
     "text": [
      "exception  invalid syntax (<unknown>, line 1)\n"
     ]
    }
   ],
   "source": [
    "try:\n",
    "    pd.eval('dfa2.0 + dfa2.1')\n",
    "except Exception as e:\n",
    "    print(\"exception \", e)"
   ]
  },
  {
   "cell_type": "markdown",
   "id": "8f56878d",
   "metadata": {},
   "source": [
    "올바른 사용 예"
   ]
  },
  {
   "cell_type": "code",
   "execution_count": 28,
   "id": "da23cbf2",
   "metadata": {},
   "outputs": [],
   "source": [
    "try :\n",
    "    df_add = pd.eval('dfa2[0] + dfa2[1]')\n",
    "except Exception as e  :\n",
    "    print(\"exception \", e)"
   ]
  },
  {
   "cell_type": "code",
   "execution_count": 29,
   "id": "5105109d",
   "metadata": {},
   "outputs": [
    {
     "data": {
      "text/plain": [
       "0   -0.752470\n",
       "1    0.593729\n",
       "2    0.623053\n",
       "3   -0.278913\n",
       "4    0.274726\n",
       "5    0.822363\n",
       "6   -0.365616\n",
       "7    1.812473\n",
       "8   -0.766111\n",
       "9   -1.044450\n",
       "dtype: float64"
      ]
     },
     "execution_count": 29,
     "metadata": {},
     "output_type": "execute_result"
    }
   ],
   "source": [
    "df_add"
   ]
  },
  {
   "cell_type": "code",
   "execution_count": 30,
   "id": "fcb88391",
   "metadata": {},
   "outputs": [],
   "source": [
    "df1, df2, df3, df4, df5 = (pd.DataFrame(rng.randint(0, 1000, (100, 3)))\n",
    "                           for i in range(5))"
   ]
  },
  {
   "cell_type": "code",
   "execution_count": 37,
   "id": "67fe9276",
   "metadata": {},
   "outputs": [
    {
     "data": {
      "text/html": [
       "<div>\n",
       "<style scoped>\n",
       "    .dataframe tbody tr th:only-of-type {\n",
       "        vertical-align: middle;\n",
       "    }\n",
       "\n",
       "    .dataframe tbody tr th {\n",
       "        vertical-align: top;\n",
       "    }\n",
       "\n",
       "    .dataframe thead th {\n",
       "        text-align: right;\n",
       "    }\n",
       "</style>\n",
       "<table border=\"1\" class=\"dataframe\">\n",
       "  <thead>\n",
       "    <tr style=\"text-align: right;\">\n",
       "      <th></th>\n",
       "      <th>0</th>\n",
       "      <th>1</th>\n",
       "      <th>2</th>\n",
       "    </tr>\n",
       "  </thead>\n",
       "  <tbody>\n",
       "    <tr>\n",
       "      <th>0</th>\n",
       "      <td>-572.348754</td>\n",
       "      <td>-974.080479</td>\n",
       "      <td>-488.160055</td>\n",
       "    </tr>\n",
       "    <tr>\n",
       "      <th>1</th>\n",
       "      <td>-880.555699</td>\n",
       "      <td>-1505.816327</td>\n",
       "      <td>-874.009346</td>\n",
       "    </tr>\n",
       "    <tr>\n",
       "      <th>2</th>\n",
       "      <td>-795.468354</td>\n",
       "      <td>-568.731673</td>\n",
       "      <td>-1239.764706</td>\n",
       "    </tr>\n",
       "    <tr>\n",
       "      <th>3</th>\n",
       "      <td>-911.075275</td>\n",
       "      <td>-721.391773</td>\n",
       "      <td>-771.392575</td>\n",
       "    </tr>\n",
       "    <tr>\n",
       "      <th>4</th>\n",
       "      <td>-657.334501</td>\n",
       "      <td>-886.487668</td>\n",
       "      <td>-703.666667</td>\n",
       "    </tr>\n",
       "    <tr>\n",
       "      <th>...</th>\n",
       "      <td>...</td>\n",
       "      <td>...</td>\n",
       "      <td>...</td>\n",
       "    </tr>\n",
       "    <tr>\n",
       "      <th>95</th>\n",
       "      <td>-1001.337143</td>\n",
       "      <td>-404.619681</td>\n",
       "      <td>-3129.936937</td>\n",
       "    </tr>\n",
       "    <tr>\n",
       "      <th>96</th>\n",
       "      <td>-2644.270386</td>\n",
       "      <td>-845.731986</td>\n",
       "      <td>-648.072041</td>\n",
       "    </tr>\n",
       "    <tr>\n",
       "      <th>97</th>\n",
       "      <td>-701.121081</td>\n",
       "      <td>-373.861163</td>\n",
       "      <td>-173.316456</td>\n",
       "    </tr>\n",
       "    <tr>\n",
       "      <th>98</th>\n",
       "      <td>-970.757522</td>\n",
       "      <td>-918.941292</td>\n",
       "      <td>-379.006993</td>\n",
       "    </tr>\n",
       "    <tr>\n",
       "      <th>99</th>\n",
       "      <td>-877.746411</td>\n",
       "      <td>-417.555814</td>\n",
       "      <td>-757.590361</td>\n",
       "    </tr>\n",
       "  </tbody>\n",
       "</table>\n",
       "<p>100 rows × 3 columns</p>\n",
       "</div>"
      ],
      "text/plain": [
       "              0            1            2\n",
       "0   -572.348754  -974.080479  -488.160055\n",
       "1   -880.555699 -1505.816327  -874.009346\n",
       "2   -795.468354  -568.731673 -1239.764706\n",
       "3   -911.075275  -721.391773  -771.392575\n",
       "4   -657.334501  -886.487668  -703.666667\n",
       "..          ...          ...          ...\n",
       "95 -1001.337143  -404.619681 -3129.936937\n",
       "96 -2644.270386  -845.731986  -648.072041\n",
       "97  -701.121081  -373.861163  -173.316456\n",
       "98  -970.757522  -918.941292  -379.006993\n",
       "99  -877.746411  -417.555814  -757.590361\n",
       "\n",
       "[100 rows x 3 columns]"
      ]
     },
     "execution_count": 37,
     "metadata": {},
     "output_type": "execute_result"
    }
   ],
   "source": [
    "result1 = -df1 * df2 / (df3 + df4) - df5\n",
    "result1"
   ]
  },
  {
   "cell_type": "code",
   "execution_count": 38,
   "id": "52958776",
   "metadata": {},
   "outputs": [
    {
     "data": {
      "text/html": [
       "<div>\n",
       "<style scoped>\n",
       "    .dataframe tbody tr th:only-of-type {\n",
       "        vertical-align: middle;\n",
       "    }\n",
       "\n",
       "    .dataframe tbody tr th {\n",
       "        vertical-align: top;\n",
       "    }\n",
       "\n",
       "    .dataframe thead th {\n",
       "        text-align: right;\n",
       "    }\n",
       "</style>\n",
       "<table border=\"1\" class=\"dataframe\">\n",
       "  <thead>\n",
       "    <tr style=\"text-align: right;\">\n",
       "      <th></th>\n",
       "      <th>0</th>\n",
       "      <th>1</th>\n",
       "      <th>2</th>\n",
       "    </tr>\n",
       "  </thead>\n",
       "  <tbody>\n",
       "    <tr>\n",
       "      <th>0</th>\n",
       "      <td>-572.348754</td>\n",
       "      <td>-974.080479</td>\n",
       "      <td>-488.160055</td>\n",
       "    </tr>\n",
       "    <tr>\n",
       "      <th>1</th>\n",
       "      <td>-880.555699</td>\n",
       "      <td>-1505.816327</td>\n",
       "      <td>-874.009346</td>\n",
       "    </tr>\n",
       "    <tr>\n",
       "      <th>2</th>\n",
       "      <td>-795.468354</td>\n",
       "      <td>-568.731673</td>\n",
       "      <td>-1239.764706</td>\n",
       "    </tr>\n",
       "    <tr>\n",
       "      <th>3</th>\n",
       "      <td>-911.075275</td>\n",
       "      <td>-721.391773</td>\n",
       "      <td>-771.392575</td>\n",
       "    </tr>\n",
       "    <tr>\n",
       "      <th>4</th>\n",
       "      <td>-657.334501</td>\n",
       "      <td>-886.487668</td>\n",
       "      <td>-703.666667</td>\n",
       "    </tr>\n",
       "    <tr>\n",
       "      <th>...</th>\n",
       "      <td>...</td>\n",
       "      <td>...</td>\n",
       "      <td>...</td>\n",
       "    </tr>\n",
       "    <tr>\n",
       "      <th>95</th>\n",
       "      <td>-1001.337143</td>\n",
       "      <td>-404.619681</td>\n",
       "      <td>-3129.936937</td>\n",
       "    </tr>\n",
       "    <tr>\n",
       "      <th>96</th>\n",
       "      <td>-2644.270386</td>\n",
       "      <td>-845.731986</td>\n",
       "      <td>-648.072041</td>\n",
       "    </tr>\n",
       "    <tr>\n",
       "      <th>97</th>\n",
       "      <td>-701.121081</td>\n",
       "      <td>-373.861163</td>\n",
       "      <td>-173.316456</td>\n",
       "    </tr>\n",
       "    <tr>\n",
       "      <th>98</th>\n",
       "      <td>-970.757522</td>\n",
       "      <td>-918.941292</td>\n",
       "      <td>-379.006993</td>\n",
       "    </tr>\n",
       "    <tr>\n",
       "      <th>99</th>\n",
       "      <td>-877.746411</td>\n",
       "      <td>-417.555814</td>\n",
       "      <td>-757.590361</td>\n",
       "    </tr>\n",
       "  </tbody>\n",
       "</table>\n",
       "<p>100 rows × 3 columns</p>\n",
       "</div>"
      ],
      "text/plain": [
       "              0            1            2\n",
       "0   -572.348754  -974.080479  -488.160055\n",
       "1   -880.555699 -1505.816327  -874.009346\n",
       "2   -795.468354  -568.731673 -1239.764706\n",
       "3   -911.075275  -721.391773  -771.392575\n",
       "4   -657.334501  -886.487668  -703.666667\n",
       "..          ...          ...          ...\n",
       "95 -1001.337143  -404.619681 -3129.936937\n",
       "96 -2644.270386  -845.731986  -648.072041\n",
       "97  -701.121081  -373.861163  -173.316456\n",
       "98  -970.757522  -918.941292  -379.006993\n",
       "99  -877.746411  -417.555814  -757.590361\n",
       "\n",
       "[100 rows x 3 columns]"
      ]
     },
     "execution_count": 38,
     "metadata": {},
     "output_type": "execute_result"
    }
   ],
   "source": [
    "result2 = pd.eval('-df1 * df2 / (df3 + df4) - df5')\n",
    "result2"
   ]
  },
  {
   "cell_type": "code",
   "execution_count": 33,
   "id": "e9b56beb",
   "metadata": {},
   "outputs": [
    {
     "data": {
      "text/plain": [
       "True"
      ]
     },
     "execution_count": 33,
     "metadata": {},
     "output_type": "execute_result"
    }
   ],
   "source": [
    "np.allclose(result1, result2)"
   ]
  },
  {
   "cell_type": "markdown",
   "id": "88df4931",
   "metadata": {},
   "source": [
    "브로드캐스팅을 통한 비교연산"
   ]
  },
  {
   "cell_type": "code",
   "execution_count": 39,
   "id": "126dd6b2",
   "metadata": {},
   "outputs": [
    {
     "data": {
      "text/html": [
       "<div>\n",
       "<style scoped>\n",
       "    .dataframe tbody tr th:only-of-type {\n",
       "        vertical-align: middle;\n",
       "    }\n",
       "\n",
       "    .dataframe tbody tr th {\n",
       "        vertical-align: top;\n",
       "    }\n",
       "\n",
       "    .dataframe thead th {\n",
       "        text-align: right;\n",
       "    }\n",
       "</style>\n",
       "<table border=\"1\" class=\"dataframe\">\n",
       "  <thead>\n",
       "    <tr style=\"text-align: right;\">\n",
       "      <th></th>\n",
       "      <th>0</th>\n",
       "      <th>1</th>\n",
       "      <th>2</th>\n",
       "    </tr>\n",
       "  </thead>\n",
       "  <tbody>\n",
       "    <tr>\n",
       "      <th>0</th>\n",
       "      <td>False</td>\n",
       "      <td>False</td>\n",
       "      <td>False</td>\n",
       "    </tr>\n",
       "    <tr>\n",
       "      <th>1</th>\n",
       "      <td>False</td>\n",
       "      <td>True</td>\n",
       "      <td>False</td>\n",
       "    </tr>\n",
       "    <tr>\n",
       "      <th>2</th>\n",
       "      <td>True</td>\n",
       "      <td>True</td>\n",
       "      <td>False</td>\n",
       "    </tr>\n",
       "    <tr>\n",
       "      <th>3</th>\n",
       "      <td>True</td>\n",
       "      <td>True</td>\n",
       "      <td>False</td>\n",
       "    </tr>\n",
       "    <tr>\n",
       "      <th>4</th>\n",
       "      <td>False</td>\n",
       "      <td>False</td>\n",
       "      <td>True</td>\n",
       "    </tr>\n",
       "    <tr>\n",
       "      <th>...</th>\n",
       "      <td>...</td>\n",
       "      <td>...</td>\n",
       "      <td>...</td>\n",
       "    </tr>\n",
       "    <tr>\n",
       "      <th>95</th>\n",
       "      <td>True</td>\n",
       "      <td>False</td>\n",
       "      <td>True</td>\n",
       "    </tr>\n",
       "    <tr>\n",
       "      <th>96</th>\n",
       "      <td>True</td>\n",
       "      <td>False</td>\n",
       "      <td>False</td>\n",
       "    </tr>\n",
       "    <tr>\n",
       "      <th>97</th>\n",
       "      <td>False</td>\n",
       "      <td>False</td>\n",
       "      <td>False</td>\n",
       "    </tr>\n",
       "    <tr>\n",
       "      <th>98</th>\n",
       "      <td>False</td>\n",
       "      <td>False</td>\n",
       "      <td>True</td>\n",
       "    </tr>\n",
       "    <tr>\n",
       "      <th>99</th>\n",
       "      <td>True</td>\n",
       "      <td>False</td>\n",
       "      <td>False</td>\n",
       "    </tr>\n",
       "  </tbody>\n",
       "</table>\n",
       "<p>100 rows × 3 columns</p>\n",
       "</div>"
      ],
      "text/plain": [
       "        0      1      2\n",
       "0   False  False  False\n",
       "1   False   True  False\n",
       "2    True   True  False\n",
       "3    True   True  False\n",
       "4   False  False   True\n",
       "..    ...    ...    ...\n",
       "95   True  False   True\n",
       "96   True  False  False\n",
       "97  False  False  False\n",
       "98  False  False   True\n",
       "99   True  False  False\n",
       "\n",
       "[100 rows x 3 columns]"
      ]
     },
     "execution_count": 39,
     "metadata": {},
     "output_type": "execute_result"
    }
   ],
   "source": [
    "result1 = (df1 < 0.5) & (df2 < 0.5) | (df3 < df4)\n",
    "result1"
   ]
  },
  {
   "cell_type": "code",
   "execution_count": 40,
   "id": "d13baa3b",
   "metadata": {},
   "outputs": [
    {
     "data": {
      "text/html": [
       "<div>\n",
       "<style scoped>\n",
       "    .dataframe tbody tr th:only-of-type {\n",
       "        vertical-align: middle;\n",
       "    }\n",
       "\n",
       "    .dataframe tbody tr th {\n",
       "        vertical-align: top;\n",
       "    }\n",
       "\n",
       "    .dataframe thead th {\n",
       "        text-align: right;\n",
       "    }\n",
       "</style>\n",
       "<table border=\"1\" class=\"dataframe\">\n",
       "  <thead>\n",
       "    <tr style=\"text-align: right;\">\n",
       "      <th></th>\n",
       "      <th>0</th>\n",
       "      <th>1</th>\n",
       "      <th>2</th>\n",
       "    </tr>\n",
       "  </thead>\n",
       "  <tbody>\n",
       "    <tr>\n",
       "      <th>0</th>\n",
       "      <td>False</td>\n",
       "      <td>False</td>\n",
       "      <td>False</td>\n",
       "    </tr>\n",
       "    <tr>\n",
       "      <th>1</th>\n",
       "      <td>False</td>\n",
       "      <td>True</td>\n",
       "      <td>False</td>\n",
       "    </tr>\n",
       "    <tr>\n",
       "      <th>2</th>\n",
       "      <td>True</td>\n",
       "      <td>True</td>\n",
       "      <td>False</td>\n",
       "    </tr>\n",
       "    <tr>\n",
       "      <th>3</th>\n",
       "      <td>True</td>\n",
       "      <td>True</td>\n",
       "      <td>False</td>\n",
       "    </tr>\n",
       "    <tr>\n",
       "      <th>4</th>\n",
       "      <td>False</td>\n",
       "      <td>False</td>\n",
       "      <td>True</td>\n",
       "    </tr>\n",
       "    <tr>\n",
       "      <th>...</th>\n",
       "      <td>...</td>\n",
       "      <td>...</td>\n",
       "      <td>...</td>\n",
       "    </tr>\n",
       "    <tr>\n",
       "      <th>95</th>\n",
       "      <td>True</td>\n",
       "      <td>False</td>\n",
       "      <td>True</td>\n",
       "    </tr>\n",
       "    <tr>\n",
       "      <th>96</th>\n",
       "      <td>True</td>\n",
       "      <td>False</td>\n",
       "      <td>False</td>\n",
       "    </tr>\n",
       "    <tr>\n",
       "      <th>97</th>\n",
       "      <td>False</td>\n",
       "      <td>False</td>\n",
       "      <td>False</td>\n",
       "    </tr>\n",
       "    <tr>\n",
       "      <th>98</th>\n",
       "      <td>False</td>\n",
       "      <td>False</td>\n",
       "      <td>True</td>\n",
       "    </tr>\n",
       "    <tr>\n",
       "      <th>99</th>\n",
       "      <td>True</td>\n",
       "      <td>False</td>\n",
       "      <td>False</td>\n",
       "    </tr>\n",
       "  </tbody>\n",
       "</table>\n",
       "<p>100 rows × 3 columns</p>\n",
       "</div>"
      ],
      "text/plain": [
       "        0      1      2\n",
       "0   False  False  False\n",
       "1   False   True  False\n",
       "2    True   True  False\n",
       "3    True   True  False\n",
       "4   False  False   True\n",
       "..    ...    ...    ...\n",
       "95   True  False   True\n",
       "96   True  False  False\n",
       "97  False  False  False\n",
       "98  False  False   True\n",
       "99   True  False  False\n",
       "\n",
       "[100 rows x 3 columns]"
      ]
     },
     "execution_count": 40,
     "metadata": {},
     "output_type": "execute_result"
    }
   ],
   "source": [
    "result2 = pd.eval('(df1 < 0.5) & (df2 < 0.5) | (df3 < df4)')\n",
    "result2"
   ]
  },
  {
   "cell_type": "code",
   "execution_count": 36,
   "id": "33b635ad",
   "metadata": {},
   "outputs": [
    {
     "data": {
      "text/plain": [
       "True"
      ]
     },
     "execution_count": 36,
     "metadata": {},
     "output_type": "execute_result"
    }
   ],
   "source": [
    "np.allclose(result1, result2)"
   ]
  },
  {
   "cell_type": "code",
   "execution_count": 41,
   "id": "1513cec0",
   "metadata": {},
   "outputs": [
    {
     "data": {
      "text/html": [
       "<div>\n",
       "<style scoped>\n",
       "    .dataframe tbody tr th:only-of-type {\n",
       "        vertical-align: middle;\n",
       "    }\n",
       "\n",
       "    .dataframe tbody tr th {\n",
       "        vertical-align: top;\n",
       "    }\n",
       "\n",
       "    .dataframe thead th {\n",
       "        text-align: right;\n",
       "    }\n",
       "</style>\n",
       "<table border=\"1\" class=\"dataframe\">\n",
       "  <thead>\n",
       "    <tr style=\"text-align: right;\">\n",
       "      <th></th>\n",
       "      <th>0</th>\n",
       "      <th>1</th>\n",
       "      <th>2</th>\n",
       "    </tr>\n",
       "  </thead>\n",
       "  <tbody>\n",
       "    <tr>\n",
       "      <th>0</th>\n",
       "      <td>False</td>\n",
       "      <td>False</td>\n",
       "      <td>False</td>\n",
       "    </tr>\n",
       "    <tr>\n",
       "      <th>1</th>\n",
       "      <td>False</td>\n",
       "      <td>True</td>\n",
       "      <td>False</td>\n",
       "    </tr>\n",
       "    <tr>\n",
       "      <th>2</th>\n",
       "      <td>True</td>\n",
       "      <td>True</td>\n",
       "      <td>False</td>\n",
       "    </tr>\n",
       "    <tr>\n",
       "      <th>3</th>\n",
       "      <td>True</td>\n",
       "      <td>True</td>\n",
       "      <td>False</td>\n",
       "    </tr>\n",
       "    <tr>\n",
       "      <th>4</th>\n",
       "      <td>False</td>\n",
       "      <td>False</td>\n",
       "      <td>True</td>\n",
       "    </tr>\n",
       "    <tr>\n",
       "      <th>...</th>\n",
       "      <td>...</td>\n",
       "      <td>...</td>\n",
       "      <td>...</td>\n",
       "    </tr>\n",
       "    <tr>\n",
       "      <th>95</th>\n",
       "      <td>True</td>\n",
       "      <td>False</td>\n",
       "      <td>True</td>\n",
       "    </tr>\n",
       "    <tr>\n",
       "      <th>96</th>\n",
       "      <td>True</td>\n",
       "      <td>False</td>\n",
       "      <td>False</td>\n",
       "    </tr>\n",
       "    <tr>\n",
       "      <th>97</th>\n",
       "      <td>False</td>\n",
       "      <td>False</td>\n",
       "      <td>False</td>\n",
       "    </tr>\n",
       "    <tr>\n",
       "      <th>98</th>\n",
       "      <td>False</td>\n",
       "      <td>False</td>\n",
       "      <td>True</td>\n",
       "    </tr>\n",
       "    <tr>\n",
       "      <th>99</th>\n",
       "      <td>True</td>\n",
       "      <td>False</td>\n",
       "      <td>False</td>\n",
       "    </tr>\n",
       "  </tbody>\n",
       "</table>\n",
       "<p>100 rows × 3 columns</p>\n",
       "</div>"
      ],
      "text/plain": [
       "        0      1      2\n",
       "0   False  False  False\n",
       "1   False   True  False\n",
       "2    True   True  False\n",
       "3    True   True  False\n",
       "4   False  False   True\n",
       "..    ...    ...    ...\n",
       "95   True  False   True\n",
       "96   True  False  False\n",
       "97  False  False  False\n",
       "98  False  False   True\n",
       "99   True  False  False\n",
       "\n",
       "[100 rows x 3 columns]"
      ]
     },
     "execution_count": 41,
     "metadata": {},
     "output_type": "execute_result"
    }
   ],
   "source": [
    "result3 = pd.eval('(df1 < 0.5) and (df2 < 0.5) or (df3 < df4)')\n",
    "result3"
   ]
  },
  {
   "cell_type": "code",
   "execution_count": 42,
   "id": "dee714b7",
   "metadata": {},
   "outputs": [
    {
     "data": {
      "text/plain": [
       "True"
      ]
     },
     "execution_count": 42,
     "metadata": {},
     "output_type": "execute_result"
    }
   ],
   "source": [
    "np.allclose(result1, result3)"
   ]
  },
  {
   "cell_type": "code",
   "execution_count": 43,
   "id": "040bc2a4",
   "metadata": {},
   "outputs": [
    {
     "data": {
      "text/html": [
       "<div>\n",
       "<style scoped>\n",
       "    .dataframe tbody tr th:only-of-type {\n",
       "        vertical-align: middle;\n",
       "    }\n",
       "\n",
       "    .dataframe tbody tr th {\n",
       "        vertical-align: top;\n",
       "    }\n",
       "\n",
       "    .dataframe thead th {\n",
       "        text-align: right;\n",
       "    }\n",
       "</style>\n",
       "<table border=\"1\" class=\"dataframe\">\n",
       "  <thead>\n",
       "    <tr style=\"text-align: right;\">\n",
       "      <th></th>\n",
       "      <th>A</th>\n",
       "      <th>B</th>\n",
       "    </tr>\n",
       "  </thead>\n",
       "  <tbody>\n",
       "    <tr>\n",
       "      <th>0</th>\n",
       "      <td>-1.121827</td>\n",
       "      <td>-0.542750</td>\n",
       "    </tr>\n",
       "    <tr>\n",
       "      <th>1</th>\n",
       "      <td>1.311574</td>\n",
       "      <td>1.417933</td>\n",
       "    </tr>\n",
       "    <tr>\n",
       "      <th>2</th>\n",
       "      <td>-0.140663</td>\n",
       "      <td>-0.426193</td>\n",
       "    </tr>\n",
       "    <tr>\n",
       "      <th>3</th>\n",
       "      <td>1.019200</td>\n",
       "      <td>-0.080342</td>\n",
       "    </tr>\n",
       "    <tr>\n",
       "      <th>4</th>\n",
       "      <td>-1.582840</td>\n",
       "      <td>-0.364597</td>\n",
       "    </tr>\n",
       "    <tr>\n",
       "      <th>5</th>\n",
       "      <td>0.625446</td>\n",
       "      <td>-2.063651</td>\n",
       "    </tr>\n",
       "    <tr>\n",
       "      <th>6</th>\n",
       "      <td>0.507872</td>\n",
       "      <td>-0.177140</td>\n",
       "    </tr>\n",
       "    <tr>\n",
       "      <th>7</th>\n",
       "      <td>-2.212896</td>\n",
       "      <td>-0.015931</td>\n",
       "    </tr>\n",
       "    <tr>\n",
       "      <th>8</th>\n",
       "      <td>1.060322</td>\n",
       "      <td>1.224984</td>\n",
       "    </tr>\n",
       "    <tr>\n",
       "      <th>9</th>\n",
       "      <td>2.879722</td>\n",
       "      <td>-0.368686</td>\n",
       "    </tr>\n",
       "  </tbody>\n",
       "</table>\n",
       "</div>"
      ],
      "text/plain": [
       "          A         B\n",
       "0 -1.121827 -0.542750\n",
       "1  1.311574  1.417933\n",
       "2 -0.140663 -0.426193\n",
       "3  1.019200 -0.080342\n",
       "4 -1.582840 -0.364597\n",
       "5  0.625446 -2.063651\n",
       "6  0.507872 -0.177140\n",
       "7 -2.212896 -0.015931\n",
       "8  1.060322  1.224984\n",
       "9  2.879722 -0.368686"
      ]
     },
     "execution_count": 43,
     "metadata": {},
     "output_type": "execute_result"
    }
   ],
   "source": [
    "df = pd. DataFrame(np.random.randn(10, 2), columns=list('AB'))\n",
    "df"
   ]
  },
  {
   "cell_type": "code",
   "execution_count": 44,
   "id": "4ae32c51",
   "metadata": {},
   "outputs": [
    {
     "data": {
      "text/plain": [
       "0   -0.832288\n",
       "1    1.364753\n",
       "2   -0.283428\n",
       "3    0.469429\n",
       "4   -0.973719\n",
       "dtype: float64"
      ]
     },
     "execution_count": 44,
     "metadata": {},
     "output_type": "execute_result"
    }
   ],
   "source": [
    "column_mean = df.mean(axis=1)\n",
    "column_mean.head()"
   ]
  },
  {
   "cell_type": "code",
   "execution_count": 45,
   "id": "dcec9f4a",
   "metadata": {},
   "outputs": [
    {
     "data": {
      "text/plain": [
       "0   -1.954115\n",
       "1    2.676328\n",
       "2   -0.424091\n",
       "3    1.488628\n",
       "4   -2.556559\n",
       "5   -0.093656\n",
       "6    0.673239\n",
       "7   -3.327310\n",
       "8    2.202975\n",
       "9    4.135240\n",
       "dtype: float64"
      ]
     },
     "execution_count": 45,
     "metadata": {},
     "output_type": "execute_result"
    }
   ],
   "source": [
    "result1 = df['A'] + column_mean\n",
    "result1"
   ]
  },
  {
   "cell_type": "code",
   "execution_count": 46,
   "id": "79d30cd1",
   "metadata": {},
   "outputs": [
    {
     "data": {
      "text/plain": [
       "0   -1.954115\n",
       "1    2.676328\n",
       "2   -0.424091\n",
       "3    1.488628\n",
       "4   -2.556559\n",
       "5   -0.093656\n",
       "6    0.673239\n",
       "7   -3.327310\n",
       "8    2.202975\n",
       "9    4.135240\n",
       "dtype: float64"
      ]
     },
     "execution_count": 46,
     "metadata": {},
     "output_type": "execute_result"
    }
   ],
   "source": [
    "result2 = df.eval('A + @column_mean')\n",
    "result2"
   ]
  },
  {
   "cell_type": "code",
   "execution_count": 47,
   "id": "ca30e31d",
   "metadata": {},
   "outputs": [
    {
     "data": {
      "text/plain": [
       "True"
      ]
     },
     "execution_count": 47,
     "metadata": {},
     "output_type": "execute_result"
    }
   ],
   "source": [
    "np.allclose(result1, result2)"
   ]
  }
 ],
 "metadata": {
  "kernelspec": {
   "display_name": "Python 3 (ipykernel)",
   "language": "python",
   "name": "python3"
  },
  "language_info": {
   "codemirror_mode": {
    "name": "ipython",
    "version": 3
   },
   "file_extension": ".py",
   "mimetype": "text/x-python",
   "name": "python",
   "nbconvert_exporter": "python",
   "pygments_lexer": "ipython3",
   "version": "3.9.13"
  }
 },
 "nbformat": 4,
 "nbformat_minor": 5
}
