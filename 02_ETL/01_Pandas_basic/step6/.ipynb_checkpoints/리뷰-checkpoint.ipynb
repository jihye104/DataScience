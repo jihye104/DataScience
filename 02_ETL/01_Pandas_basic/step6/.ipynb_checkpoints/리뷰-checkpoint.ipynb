{
 "cells": [
  {
   "cell_type": "code",
   "execution_count": 5,
   "id": "7c95af55",
   "metadata": {},
   "outputs": [],
   "source": [
    "import pandas as pd\n",
    "import numpy as np"
   ]
  },
  {
   "cell_type": "markdown",
   "id": "d19e65bf",
   "metadata": {},
   "source": [
    "# 1. 반려견, 이름 열을 병합하세요."
   ]
  },
  {
   "cell_type": "code",
   "execution_count": 6,
   "id": "a6993cef",
   "metadata": {},
   "outputs": [
    {
     "data": {
      "text/html": [
       "<div>\n",
       "<style scoped>\n",
       "    .dataframe tbody tr th:only-of-type {\n",
       "        vertical-align: middle;\n",
       "    }\n",
       "\n",
       "    .dataframe tbody tr th {\n",
       "        vertical-align: top;\n",
       "    }\n",
       "\n",
       "    .dataframe thead th {\n",
       "        text-align: right;\n",
       "    }\n",
       "</style>\n",
       "<table border=\"1\" class=\"dataframe\">\n",
       "  <thead>\n",
       "    <tr style=\"text-align: right;\">\n",
       "      <th></th>\n",
       "      <th>반려견</th>\n",
       "      <th>개월수</th>\n",
       "      <th>몸무게</th>\n",
       "    </tr>\n",
       "  </thead>\n",
       "  <tbody>\n",
       "    <tr>\n",
       "      <th>0</th>\n",
       "      <td>뽀짝</td>\n",
       "      <td>26</td>\n",
       "      <td>3.2</td>\n",
       "    </tr>\n",
       "    <tr>\n",
       "      <th>1</th>\n",
       "      <td>겨울</td>\n",
       "      <td>14</td>\n",
       "      <td>4.5</td>\n",
       "    </tr>\n",
       "    <tr>\n",
       "      <th>2</th>\n",
       "      <td>쏘니</td>\n",
       "      <td>20</td>\n",
       "      <td>3.5</td>\n",
       "    </tr>\n",
       "  </tbody>\n",
       "</table>\n",
       "</div>"
      ],
      "text/plain": [
       "  반려견  개월수  몸무게\n",
       "0  뽀짝   26  3.2\n",
       "1  겨울   14  4.5\n",
       "2  쏘니   20  3.5"
      ]
     },
     "execution_count": 6,
     "metadata": {},
     "output_type": "execute_result"
    }
   ],
   "source": [
    "dog = pd.DataFrame([[\"뽀짝\", 26, 3.2],\n",
    "                  [\"겨울\", 14, 4.5],\n",
    "                  [\"쏘니\", 20, 3.5]],\n",
    "                  columns = ['반려견','개월수','몸무게'])\n",
    "dog"
   ]
  },
  {
   "cell_type": "code",
   "execution_count": 10,
   "id": "1f15849d",
   "metadata": {
    "scrolled": false
   },
   "outputs": [
    {
     "data": {
      "text/html": [
       "<div>\n",
       "<style scoped>\n",
       "    .dataframe tbody tr th:only-of-type {\n",
       "        vertical-align: middle;\n",
       "    }\n",
       "\n",
       "    .dataframe tbody tr th {\n",
       "        vertical-align: top;\n",
       "    }\n",
       "\n",
       "    .dataframe thead th {\n",
       "        text-align: right;\n",
       "    }\n",
       "</style>\n",
       "<table border=\"1\" class=\"dataframe\">\n",
       "  <thead>\n",
       "    <tr style=\"text-align: right;\">\n",
       "      <th></th>\n",
       "      <th>이름</th>\n",
       "      <th>견종</th>\n",
       "      <th>중성화</th>\n",
       "    </tr>\n",
       "  </thead>\n",
       "  <tbody>\n",
       "    <tr>\n",
       "      <th>0</th>\n",
       "      <td>뽀짝</td>\n",
       "      <td>말티즈</td>\n",
       "      <td>O</td>\n",
       "    </tr>\n",
       "    <tr>\n",
       "      <th>1</th>\n",
       "      <td>겨울</td>\n",
       "      <td>말티푸</td>\n",
       "      <td>O</td>\n",
       "    </tr>\n",
       "    <tr>\n",
       "      <th>2</th>\n",
       "      <td>쏘니</td>\n",
       "      <td>몰키</td>\n",
       "      <td>X</td>\n",
       "    </tr>\n",
       "  </tbody>\n",
       "</table>\n",
       "</div>"
      ],
      "text/plain": [
       "   이름   견종 중성화\n",
       "0  뽀짝  말티즈   O\n",
       "1  겨울  말티푸   O\n",
       "2  쏘니   몰키   X"
      ]
     },
     "execution_count": 10,
     "metadata": {},
     "output_type": "execute_result"
    }
   ],
   "source": [
    "dog_p = pd.DataFrame([[\"뽀짝\",\"말티즈\",\"O\"],\n",
    "                     [\"겨울\",\"말티푸\",\"O\"],\n",
    "                     [\"쏘니\",\"몰키\",\"X\"]],\n",
    "                    columns = ['이름','견종','중성화'])\n",
    "dog_p"
   ]
  },
  {
   "cell_type": "code",
   "execution_count": 12,
   "id": "9bf0b6ad",
   "metadata": {
    "scrolled": true
   },
   "outputs": [
    {
     "data": {
      "text/html": [
       "<div>\n",
       "<style scoped>\n",
       "    .dataframe tbody tr th:only-of-type {\n",
       "        vertical-align: middle;\n",
       "    }\n",
       "\n",
       "    .dataframe tbody tr th {\n",
       "        vertical-align: top;\n",
       "    }\n",
       "\n",
       "    .dataframe thead th {\n",
       "        text-align: right;\n",
       "    }\n",
       "</style>\n",
       "<table border=\"1\" class=\"dataframe\">\n",
       "  <thead>\n",
       "    <tr style=\"text-align: right;\">\n",
       "      <th></th>\n",
       "      <th>반려견</th>\n",
       "      <th>개월수</th>\n",
       "      <th>몸무게</th>\n",
       "      <th>이름</th>\n",
       "      <th>견종</th>\n",
       "      <th>중성화</th>\n",
       "    </tr>\n",
       "  </thead>\n",
       "  <tbody>\n",
       "    <tr>\n",
       "      <th>0</th>\n",
       "      <td>뽀짝</td>\n",
       "      <td>26</td>\n",
       "      <td>3.2</td>\n",
       "      <td>뽀짝</td>\n",
       "      <td>말티즈</td>\n",
       "      <td>O</td>\n",
       "    </tr>\n",
       "    <tr>\n",
       "      <th>1</th>\n",
       "      <td>겨울</td>\n",
       "      <td>14</td>\n",
       "      <td>4.5</td>\n",
       "      <td>겨울</td>\n",
       "      <td>말티푸</td>\n",
       "      <td>O</td>\n",
       "    </tr>\n",
       "    <tr>\n",
       "      <th>2</th>\n",
       "      <td>쏘니</td>\n",
       "      <td>20</td>\n",
       "      <td>3.5</td>\n",
       "      <td>쏘니</td>\n",
       "      <td>몰키</td>\n",
       "      <td>X</td>\n",
       "    </tr>\n",
       "  </tbody>\n",
       "</table>\n",
       "</div>"
      ],
      "text/plain": [
       "  반려견  개월수  몸무게  이름   견종 중성화\n",
       "0  뽀짝   26  3.2  뽀짝  말티즈   O\n",
       "1  겨울   14  4.5  겨울  말티푸   O\n",
       "2  쏘니   20  3.5  쏘니   몰키   X"
      ]
     },
     "execution_count": 12,
     "metadata": {},
     "output_type": "execute_result"
    }
   ],
   "source": [
    "pd.merge(dog,dog_p, left_on = '반려견', right_on = '이름')"
   ]
  },
  {
   "cell_type": "code",
   "execution_count": 13,
   "id": "141d77e8",
   "metadata": {
    "scrolled": true
   },
   "outputs": [
    {
     "data": {
      "text/html": [
       "<div>\n",
       "<style scoped>\n",
       "    .dataframe tbody tr th:only-of-type {\n",
       "        vertical-align: middle;\n",
       "    }\n",
       "\n",
       "    .dataframe tbody tr th {\n",
       "        vertical-align: top;\n",
       "    }\n",
       "\n",
       "    .dataframe thead th {\n",
       "        text-align: right;\n",
       "    }\n",
       "</style>\n",
       "<table border=\"1\" class=\"dataframe\">\n",
       "  <thead>\n",
       "    <tr style=\"text-align: right;\">\n",
       "      <th></th>\n",
       "      <th>반려견</th>\n",
       "      <th>개월수</th>\n",
       "      <th>몸무게</th>\n",
       "      <th>견종</th>\n",
       "      <th>중성화</th>\n",
       "    </tr>\n",
       "  </thead>\n",
       "  <tbody>\n",
       "    <tr>\n",
       "      <th>0</th>\n",
       "      <td>뽀짝</td>\n",
       "      <td>26</td>\n",
       "      <td>3.2</td>\n",
       "      <td>말티즈</td>\n",
       "      <td>O</td>\n",
       "    </tr>\n",
       "    <tr>\n",
       "      <th>1</th>\n",
       "      <td>겨울</td>\n",
       "      <td>14</td>\n",
       "      <td>4.5</td>\n",
       "      <td>말티푸</td>\n",
       "      <td>O</td>\n",
       "    </tr>\n",
       "    <tr>\n",
       "      <th>2</th>\n",
       "      <td>쏘니</td>\n",
       "      <td>20</td>\n",
       "      <td>3.5</td>\n",
       "      <td>몰키</td>\n",
       "      <td>X</td>\n",
       "    </tr>\n",
       "  </tbody>\n",
       "</table>\n",
       "</div>"
      ],
      "text/plain": [
       "  반려견  개월수  몸무게   견종 중성화\n",
       "0  뽀짝   26  3.2  말티즈   O\n",
       "1  겨울   14  4.5  말티푸   O\n",
       "2  쏘니   20  3.5   몰키   X"
      ]
     },
     "execution_count": 13,
     "metadata": {},
     "output_type": "execute_result"
    }
   ],
   "source": [
    "pd.merge(dog,dog_p, left_on = '반려견', right_on = '이름').drop('이름',axis = 1)"
   ]
  },
  {
   "cell_type": "markdown",
   "id": "f43b55d0",
   "metadata": {},
   "source": [
    "# 2. 반려견 열을 행인덱스로 전환 후 행인덱스로 병합하세요."
   ]
  },
  {
   "cell_type": "code",
   "execution_count": 17,
   "id": "886bcbd3",
   "metadata": {},
   "outputs": [
    {
     "data": {
      "text/html": [
       "<div>\n",
       "<style scoped>\n",
       "    .dataframe tbody tr th:only-of-type {\n",
       "        vertical-align: middle;\n",
       "    }\n",
       "\n",
       "    .dataframe tbody tr th {\n",
       "        vertical-align: top;\n",
       "    }\n",
       "\n",
       "    .dataframe thead th {\n",
       "        text-align: right;\n",
       "    }\n",
       "</style>\n",
       "<table border=\"1\" class=\"dataframe\">\n",
       "  <thead>\n",
       "    <tr style=\"text-align: right;\">\n",
       "      <th></th>\n",
       "      <th>반려견</th>\n",
       "      <th>개월수</th>\n",
       "      <th>몸무게</th>\n",
       "    </tr>\n",
       "  </thead>\n",
       "  <tbody>\n",
       "    <tr>\n",
       "      <th>0</th>\n",
       "      <td>뽀짝</td>\n",
       "      <td>26</td>\n",
       "      <td>3.2</td>\n",
       "    </tr>\n",
       "    <tr>\n",
       "      <th>1</th>\n",
       "      <td>겨울</td>\n",
       "      <td>14</td>\n",
       "      <td>4.5</td>\n",
       "    </tr>\n",
       "    <tr>\n",
       "      <th>2</th>\n",
       "      <td>쏘니</td>\n",
       "      <td>20</td>\n",
       "      <td>3.5</td>\n",
       "    </tr>\n",
       "  </tbody>\n",
       "</table>\n",
       "</div>"
      ],
      "text/plain": [
       "  반려견  개월수  몸무게\n",
       "0  뽀짝   26  3.2\n",
       "1  겨울   14  4.5\n",
       "2  쏘니   20  3.5"
      ]
     },
     "execution_count": 17,
     "metadata": {},
     "output_type": "execute_result"
    }
   ],
   "source": [
    "dog2 = dog.copy()\n",
    "dog2"
   ]
  },
  {
   "cell_type": "code",
   "execution_count": 18,
   "id": "64197109",
   "metadata": {},
   "outputs": [
    {
     "data": {
      "text/html": [
       "<div>\n",
       "<style scoped>\n",
       "    .dataframe tbody tr th:only-of-type {\n",
       "        vertical-align: middle;\n",
       "    }\n",
       "\n",
       "    .dataframe tbody tr th {\n",
       "        vertical-align: top;\n",
       "    }\n",
       "\n",
       "    .dataframe thead th {\n",
       "        text-align: right;\n",
       "    }\n",
       "</style>\n",
       "<table border=\"1\" class=\"dataframe\">\n",
       "  <thead>\n",
       "    <tr style=\"text-align: right;\">\n",
       "      <th></th>\n",
       "      <th>반려견</th>\n",
       "      <th>견종</th>\n",
       "      <th>중성화</th>\n",
       "    </tr>\n",
       "  </thead>\n",
       "  <tbody>\n",
       "    <tr>\n",
       "      <th>0</th>\n",
       "      <td>뽀짝</td>\n",
       "      <td>말티즈</td>\n",
       "      <td>O</td>\n",
       "    </tr>\n",
       "    <tr>\n",
       "      <th>1</th>\n",
       "      <td>겨울</td>\n",
       "      <td>말티푸</td>\n",
       "      <td>O</td>\n",
       "    </tr>\n",
       "    <tr>\n",
       "      <th>2</th>\n",
       "      <td>쏘니</td>\n",
       "      <td>몰키</td>\n",
       "      <td>X</td>\n",
       "    </tr>\n",
       "  </tbody>\n",
       "</table>\n",
       "</div>"
      ],
      "text/plain": [
       "  반려견   견종 중성화\n",
       "0  뽀짝  말티즈   O\n",
       "1  겨울  말티푸   O\n",
       "2  쏘니   몰키   X"
      ]
     },
     "execution_count": 18,
     "metadata": {},
     "output_type": "execute_result"
    }
   ],
   "source": [
    "dog_p2 = pd.DataFrame([[\"뽀짝\",\"말티즈\",\"O\"],\n",
    "                     [\"겨울\",\"말티푸\",\"O\"],\n",
    "                     [\"쏘니\",\"몰키\",\"X\"]],\n",
    "                    columns = ['반려견','견종','중성화'])\n",
    "dog_p2"
   ]
  },
  {
   "cell_type": "code",
   "execution_count": 19,
   "id": "ce027026",
   "metadata": {},
   "outputs": [
    {
     "data": {
      "text/html": [
       "<div>\n",
       "<style scoped>\n",
       "    .dataframe tbody tr th:only-of-type {\n",
       "        vertical-align: middle;\n",
       "    }\n",
       "\n",
       "    .dataframe tbody tr th {\n",
       "        vertical-align: top;\n",
       "    }\n",
       "\n",
       "    .dataframe thead th {\n",
       "        text-align: right;\n",
       "    }\n",
       "</style>\n",
       "<table border=\"1\" class=\"dataframe\">\n",
       "  <thead>\n",
       "    <tr style=\"text-align: right;\">\n",
       "      <th></th>\n",
       "      <th>개월수</th>\n",
       "      <th>몸무게</th>\n",
       "    </tr>\n",
       "    <tr>\n",
       "      <th>반려견</th>\n",
       "      <th></th>\n",
       "      <th></th>\n",
       "    </tr>\n",
       "  </thead>\n",
       "  <tbody>\n",
       "    <tr>\n",
       "      <th>뽀짝</th>\n",
       "      <td>26</td>\n",
       "      <td>3.2</td>\n",
       "    </tr>\n",
       "    <tr>\n",
       "      <th>겨울</th>\n",
       "      <td>14</td>\n",
       "      <td>4.5</td>\n",
       "    </tr>\n",
       "    <tr>\n",
       "      <th>쏘니</th>\n",
       "      <td>20</td>\n",
       "      <td>3.5</td>\n",
       "    </tr>\n",
       "  </tbody>\n",
       "</table>\n",
       "</div>"
      ],
      "text/plain": [
       "     개월수  몸무게\n",
       "반려견          \n",
       "뽀짝    26  3.2\n",
       "겨울    14  4.5\n",
       "쏘니    20  3.5"
      ]
     },
     "execution_count": 19,
     "metadata": {},
     "output_type": "execute_result"
    }
   ],
   "source": [
    "dog2 = dog2.set_index('반려견')\n",
    "dog2"
   ]
  },
  {
   "cell_type": "code",
   "execution_count": 20,
   "id": "bcefefbf",
   "metadata": {},
   "outputs": [
    {
     "data": {
      "text/html": [
       "<div>\n",
       "<style scoped>\n",
       "    .dataframe tbody tr th:only-of-type {\n",
       "        vertical-align: middle;\n",
       "    }\n",
       "\n",
       "    .dataframe tbody tr th {\n",
       "        vertical-align: top;\n",
       "    }\n",
       "\n",
       "    .dataframe thead th {\n",
       "        text-align: right;\n",
       "    }\n",
       "</style>\n",
       "<table border=\"1\" class=\"dataframe\">\n",
       "  <thead>\n",
       "    <tr style=\"text-align: right;\">\n",
       "      <th></th>\n",
       "      <th>견종</th>\n",
       "      <th>중성화</th>\n",
       "    </tr>\n",
       "    <tr>\n",
       "      <th>반려견</th>\n",
       "      <th></th>\n",
       "      <th></th>\n",
       "    </tr>\n",
       "  </thead>\n",
       "  <tbody>\n",
       "    <tr>\n",
       "      <th>뽀짝</th>\n",
       "      <td>말티즈</td>\n",
       "      <td>O</td>\n",
       "    </tr>\n",
       "    <tr>\n",
       "      <th>겨울</th>\n",
       "      <td>말티푸</td>\n",
       "      <td>O</td>\n",
       "    </tr>\n",
       "    <tr>\n",
       "      <th>쏘니</th>\n",
       "      <td>몰키</td>\n",
       "      <td>X</td>\n",
       "    </tr>\n",
       "  </tbody>\n",
       "</table>\n",
       "</div>"
      ],
      "text/plain": [
       "      견종 중성화\n",
       "반려견         \n",
       "뽀짝   말티즈   O\n",
       "겨울   말티푸   O\n",
       "쏘니    몰키   X"
      ]
     },
     "execution_count": 20,
     "metadata": {},
     "output_type": "execute_result"
    }
   ],
   "source": [
    "dog_p2 = dog_p2.set_index('반려견')\n",
    "dog_p2"
   ]
  },
  {
   "cell_type": "code",
   "execution_count": 21,
   "id": "b8e61980",
   "metadata": {
    "scrolled": true
   },
   "outputs": [
    {
     "data": {
      "text/html": [
       "<div>\n",
       "<style scoped>\n",
       "    .dataframe tbody tr th:only-of-type {\n",
       "        vertical-align: middle;\n",
       "    }\n",
       "\n",
       "    .dataframe tbody tr th {\n",
       "        vertical-align: top;\n",
       "    }\n",
       "\n",
       "    .dataframe thead th {\n",
       "        text-align: right;\n",
       "    }\n",
       "</style>\n",
       "<table border=\"1\" class=\"dataframe\">\n",
       "  <thead>\n",
       "    <tr style=\"text-align: right;\">\n",
       "      <th></th>\n",
       "      <th>개월수</th>\n",
       "      <th>몸무게</th>\n",
       "      <th>견종</th>\n",
       "      <th>중성화</th>\n",
       "    </tr>\n",
       "    <tr>\n",
       "      <th>반려견</th>\n",
       "      <th></th>\n",
       "      <th></th>\n",
       "      <th></th>\n",
       "      <th></th>\n",
       "    </tr>\n",
       "  </thead>\n",
       "  <tbody>\n",
       "    <tr>\n",
       "      <th>뽀짝</th>\n",
       "      <td>26</td>\n",
       "      <td>3.2</td>\n",
       "      <td>말티즈</td>\n",
       "      <td>O</td>\n",
       "    </tr>\n",
       "    <tr>\n",
       "      <th>겨울</th>\n",
       "      <td>14</td>\n",
       "      <td>4.5</td>\n",
       "      <td>말티푸</td>\n",
       "      <td>O</td>\n",
       "    </tr>\n",
       "    <tr>\n",
       "      <th>쏘니</th>\n",
       "      <td>20</td>\n",
       "      <td>3.5</td>\n",
       "      <td>몰키</td>\n",
       "      <td>X</td>\n",
       "    </tr>\n",
       "  </tbody>\n",
       "</table>\n",
       "</div>"
      ],
      "text/plain": [
       "     개월수  몸무게   견종 중성화\n",
       "반려견                   \n",
       "뽀짝    26  3.2  말티즈   O\n",
       "겨울    14  4.5  말티푸   O\n",
       "쏘니    20  3.5   몰키   X"
      ]
     },
     "execution_count": 21,
     "metadata": {},
     "output_type": "execute_result"
    }
   ],
   "source": [
    "dog_inx = pd.merge(dog2,dog_p2, left_index = True, right_index = True)\n",
    "dog_inx"
   ]
  },
  {
   "cell_type": "markdown",
   "id": "e73bb248",
   "metadata": {},
   "source": [
    "# 3. 매칭되는 모든값과 merge 시키세요."
   ]
  },
  {
   "cell_type": "code",
   "execution_count": 22,
   "id": "68cf95d2",
   "metadata": {},
   "outputs": [
    {
     "data": {
      "text/html": [
       "<div>\n",
       "<style scoped>\n",
       "    .dataframe tbody tr th:only-of-type {\n",
       "        vertical-align: middle;\n",
       "    }\n",
       "\n",
       "    .dataframe tbody tr th {\n",
       "        vertical-align: top;\n",
       "    }\n",
       "\n",
       "    .dataframe thead th {\n",
       "        text-align: right;\n",
       "    }\n",
       "</style>\n",
       "<table border=\"1\" class=\"dataframe\">\n",
       "  <thead>\n",
       "    <tr style=\"text-align: right;\">\n",
       "      <th></th>\n",
       "      <th>반려견</th>\n",
       "      <th>개월수</th>\n",
       "      <th>몸무게</th>\n",
       "    </tr>\n",
       "  </thead>\n",
       "  <tbody>\n",
       "    <tr>\n",
       "      <th>0</th>\n",
       "      <td>뽀짝</td>\n",
       "      <td>26</td>\n",
       "      <td>3.2</td>\n",
       "    </tr>\n",
       "    <tr>\n",
       "      <th>1</th>\n",
       "      <td>겨울</td>\n",
       "      <td>14</td>\n",
       "      <td>4.5</td>\n",
       "    </tr>\n",
       "    <tr>\n",
       "      <th>2</th>\n",
       "      <td>쏘니</td>\n",
       "      <td>20</td>\n",
       "      <td>3.5</td>\n",
       "    </tr>\n",
       "  </tbody>\n",
       "</table>\n",
       "</div>"
      ],
      "text/plain": [
       "  반려견  개월수  몸무게\n",
       "0  뽀짝   26  3.2\n",
       "1  겨울   14  4.5\n",
       "2  쏘니   20  3.5"
      ]
     },
     "execution_count": 22,
     "metadata": {},
     "output_type": "execute_result"
    }
   ],
   "source": [
    "dog3 = dog.copy()\n",
    "dog3"
   ]
  },
  {
   "cell_type": "code",
   "execution_count": null,
   "id": "5dab4c16",
   "metadata": {},
   "outputs": [],
   "source": [
    "dog_p3 = pd.DataFrame([[\"뽀짝\",\"말티즈\"],\n",
    "                     [\"겨울\",\"말티푸\"],\n",
    "                     [\"쏘니\",\"몰키\"]],\n",
    "                    columns = ['반려견','보호자'])"
   ]
  }
 ],
 "metadata": {
  "kernelspec": {
   "display_name": "Python 3 (ipykernel)",
   "language": "python",
   "name": "python3"
  },
  "language_info": {
   "codemirror_mode": {
    "name": "ipython",
    "version": 3
   },
   "file_extension": ".py",
   "mimetype": "text/x-python",
   "name": "python",
   "nbconvert_exporter": "python",
   "pygments_lexer": "ipython3",
   "version": "3.9.13"
  }
 },
 "nbformat": 4,
 "nbformat_minor": 5
}
