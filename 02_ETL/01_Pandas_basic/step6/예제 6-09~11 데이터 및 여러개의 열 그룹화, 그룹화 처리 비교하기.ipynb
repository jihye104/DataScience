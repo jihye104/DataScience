{
 "cells": [
  {
   "cell_type": "code",
   "execution_count": 12,
   "id": "80fd4b30",
   "metadata": {},
   "outputs": [],
   "source": [
    "import pandas as pd"
   ]
  },
  {
   "cell_type": "markdown",
   "id": "5828531a",
   "metadata": {},
   "source": [
    "## 예제 6-9  데이터 그룹화하기"
   ]
  },
  {
   "cell_type": "markdown",
   "id": "f371ccc5",
   "metadata": {},
   "source": [
    "### 새로운 데이터를 읽을 때 전체적으로 확인하면 도움이 되는 기본사항\n",
    "* shape : 전체 데이터 사이즈 파악\n",
    "* head() : 샘플 데이터 확인, 컬럼과 인덱스 파악\n",
    "* count() : 열별 데이터 개수(결측지 확인)\n",
    "* isnull().sum() : 결측지가 존재한다면 추가 확인\n",
    "* dtypes : 각 열의 타입확인, 검색을 하는데 추가적인 전처리 작업이 필요한지 파악하기 위해\n",
    "* tail() : 데이터가 마지막까지 일관성있게 저장되는지 특이사항은 없는지 확인"
   ]
  },
  {
   "cell_type": "code",
   "execution_count": 13,
   "id": "ff2335df",
   "metadata": {},
   "outputs": [
    {
     "data": {
      "text/html": [
       "<div>\n",
       "<style scoped>\n",
       "    .dataframe tbody tr th:only-of-type {\n",
       "        vertical-align: middle;\n",
       "    }\n",
       "\n",
       "    .dataframe tbody tr th {\n",
       "        vertical-align: top;\n",
       "    }\n",
       "\n",
       "    .dataframe thead th {\n",
       "        text-align: right;\n",
       "    }\n",
       "</style>\n",
       "<table border=\"1\" class=\"dataframe\">\n",
       "  <thead>\n",
       "    <tr style=\"text-align: right;\">\n",
       "      <th></th>\n",
       "      <th>book_name</th>\n",
       "      <th>book_writer</th>\n",
       "      <th>book_date</th>\n",
       "      <th>book_price</th>\n",
       "      <th>book_cover</th>\n",
       "      <th>book_page</th>\n",
       "      <th>book_size</th>\n",
       "      <th>book_weight</th>\n",
       "      <th>book_category</th>\n",
       "      <th>book_publisher</th>\n",
       "      <th>sales_point</th>\n",
       "    </tr>\n",
       "  </thead>\n",
       "  <tbody>\n",
       "    <tr>\n",
       "      <th>0</th>\n",
       "      <td>올 더 빌딩스 인 런던</td>\n",
       "      <td>제임스 걸리버 핸콕</td>\n",
       "      <td>2018-08-25</td>\n",
       "      <td>14,400</td>\n",
       "      <td>양장본</td>\n",
       "      <td>140</td>\n",
       "      <td>225*280mm</td>\n",
       "      <td>476</td>\n",
       "      <td>예술/대중문화</td>\n",
       "      <td>책발전소</td>\n",
       "      <td>110</td>\n",
       "    </tr>\n",
       "    <tr>\n",
       "      <th>1</th>\n",
       "      <td>렛 잇 블리드</td>\n",
       "      <td>이언 랜킨</td>\n",
       "      <td>2018-08-19</td>\n",
       "      <td>13,320</td>\n",
       "      <td>반양장본</td>\n",
       "      <td>476</td>\n",
       "      <td>128*188mm</td>\n",
       "      <td>476</td>\n",
       "      <td>소설/시/희곡</td>\n",
       "      <td>오픈하우스</td>\n",
       "      <td>110</td>\n",
       "    </tr>\n",
       "    <tr>\n",
       "      <th>2</th>\n",
       "      <td>은유로 사회 읽기</td>\n",
       "      <td>대니얼 리그니</td>\n",
       "      <td>2018-08-20</td>\n",
       "      <td>39,500</td>\n",
       "      <td>양장본</td>\n",
       "      <td>416</td>\n",
       "      <td>152*223mm</td>\n",
       "      <td>749</td>\n",
       "      <td>사회과학</td>\n",
       "      <td>한울(한울아카데미)</td>\n",
       "      <td>10</td>\n",
       "    </tr>\n",
       "    <tr>\n",
       "      <th>3</th>\n",
       "      <td>유럽 맥주 여행</td>\n",
       "      <td>백경학</td>\n",
       "      <td>2018-08-24</td>\n",
       "      <td>14,400</td>\n",
       "      <td>반양장본</td>\n",
       "      <td>308</td>\n",
       "      <td>150*220mm</td>\n",
       "      <td>400</td>\n",
       "      <td>역사</td>\n",
       "      <td>글항아리</td>\n",
       "      <td>10</td>\n",
       "    </tr>\n",
       "    <tr>\n",
       "      <th>4</th>\n",
       "      <td>이게, 행복이 아니면 무엇이지</td>\n",
       "      <td>김혜령</td>\n",
       "      <td>2018-08-20</td>\n",
       "      <td>13,050</td>\n",
       "      <td>NaN</td>\n",
       "      <td>288</td>\n",
       "      <td>135*200mm</td>\n",
       "      <td>374</td>\n",
       "      <td>인문학</td>\n",
       "      <td>웨일북</td>\n",
       "      <td>10</td>\n",
       "    </tr>\n",
       "  </tbody>\n",
       "</table>\n",
       "</div>"
      ],
      "text/plain": [
       "          book_name book_writer   book_date book_price book_cover book_page  \\\n",
       "0      올 더 빌딩스 인 런던  제임스 걸리버 핸콕  2018-08-25     14,400        양장본       140   \n",
       "1           렛 잇 블리드       이언 랜킨  2018-08-19     13,320       반양장본       476   \n",
       "2         은유로 사회 읽기     대니얼 리그니  2018-08-20     39,500        양장본       416   \n",
       "3          유럽 맥주 여행         백경학  2018-08-24     14,400       반양장본       308   \n",
       "4  이게, 행복이 아니면 무엇이지         김혜령  2018-08-20     13,050        NaN       288   \n",
       "\n",
       "   book_size  book_weight book_category book_publisher sales_point  \n",
       "0  225*280mm          476       예술/대중문화           책발전소         110  \n",
       "1  128*188mm          476       소설/시/희곡          오픈하우스         110  \n",
       "2  152*223mm          749          사회과학     한울(한울아카데미)          10  \n",
       "3  150*220mm          400            역사           글항아리          10  \n",
       "4  135*200mm          374           인문학            웨일북          10  "
      ]
     },
     "execution_count": 13,
     "metadata": {},
     "output_type": "execute_result"
    }
   ],
   "source": [
    "book_data = pd.read_csv(\"../data/book_data.csv\",encoding='cp949')\n",
    "book_data.head()"
   ]
  },
  {
   "cell_type": "code",
   "execution_count": 14,
   "id": "3464e6d1",
   "metadata": {},
   "outputs": [
    {
     "data": {
      "text/plain": [
       "(2000, 11)"
      ]
     },
     "execution_count": 14,
     "metadata": {},
     "output_type": "execute_result"
    }
   ],
   "source": [
    "book_data.shape"
   ]
  },
  {
   "cell_type": "code",
   "execution_count": 15,
   "id": "5233719b",
   "metadata": {},
   "outputs": [
    {
     "data": {
      "text/plain": [
       "book_name         2000\n",
       "book_writer       2000\n",
       "book_date         2000\n",
       "book_price        2000\n",
       "book_cover        1683\n",
       "book_page         2000\n",
       "book_size         1999\n",
       "book_weight       2000\n",
       "book_category     2000\n",
       "book_publisher    2000\n",
       "sales_point       2000\n",
       "dtype: int64"
      ]
     },
     "execution_count": 15,
     "metadata": {},
     "output_type": "execute_result"
    }
   ],
   "source": [
    "book_data.count()"
   ]
  },
  {
   "cell_type": "code",
   "execution_count": 16,
   "id": "25f510fa",
   "metadata": {},
   "outputs": [
    {
     "data": {
      "text/plain": [
       "book_name         object\n",
       "book_writer       object\n",
       "book_date         object\n",
       "book_price        object\n",
       "book_cover        object\n",
       "book_page         object\n",
       "book_size         object\n",
       "book_weight        int64\n",
       "book_category     object\n",
       "book_publisher    object\n",
       "sales_point       object\n",
       "dtype: object"
      ]
     },
     "execution_count": 16,
     "metadata": {},
     "output_type": "execute_result"
    }
   ],
   "source": [
    "book_data.dtypes"
   ]
  },
  {
   "cell_type": "code",
   "execution_count": 17,
   "id": "5354c312",
   "metadata": {},
   "outputs": [
    {
     "data": {
      "text/plain": [
       "book_name           0\n",
       "book_writer         0\n",
       "book_date           0\n",
       "book_price          0\n",
       "book_cover        317\n",
       "book_page           0\n",
       "book_size           1\n",
       "book_weight         0\n",
       "book_category       0\n",
       "book_publisher      0\n",
       "sales_point         0\n",
       "dtype: int64"
      ]
     },
     "execution_count": 17,
     "metadata": {},
     "output_type": "execute_result"
    }
   ],
   "source": [
    "book_data.isnull().sum()"
   ]
  },
  {
   "cell_type": "code",
   "execution_count": 18,
   "id": "887ee5b9",
   "metadata": {},
   "outputs": [
    {
     "data": {
      "text/html": [
       "<div>\n",
       "<style scoped>\n",
       "    .dataframe tbody tr th:only-of-type {\n",
       "        vertical-align: middle;\n",
       "    }\n",
       "\n",
       "    .dataframe tbody tr th {\n",
       "        vertical-align: top;\n",
       "    }\n",
       "\n",
       "    .dataframe thead th {\n",
       "        text-align: right;\n",
       "    }\n",
       "</style>\n",
       "<table border=\"1\" class=\"dataframe\">\n",
       "  <thead>\n",
       "    <tr style=\"text-align: right;\">\n",
       "      <th></th>\n",
       "      <th>book_name</th>\n",
       "      <th>book_writer</th>\n",
       "      <th>book_date</th>\n",
       "      <th>book_price</th>\n",
       "      <th>book_cover</th>\n",
       "      <th>book_page</th>\n",
       "      <th>book_size</th>\n",
       "      <th>book_weight</th>\n",
       "      <th>book_category</th>\n",
       "      <th>book_publisher</th>\n",
       "      <th>sales_point</th>\n",
       "    </tr>\n",
       "  </thead>\n",
       "  <tbody>\n",
       "    <tr>\n",
       "      <th>1995</th>\n",
       "      <td>여기는 함께섬 정치를 배웁니다</td>\n",
       "      <td>최승필</td>\n",
       "      <td>2018-06-01</td>\n",
       "      <td>10,800</td>\n",
       "      <td>반양장본</td>\n",
       "      <td>136</td>\n",
       "      <td>175*240mm</td>\n",
       "      <td>258</td>\n",
       "      <td>어린이</td>\n",
       "      <td>천개의바람</td>\n",
       "      <td>770</td>\n",
       "    </tr>\n",
       "    <tr>\n",
       "      <th>1996</th>\n",
       "      <td>아빠, 이런 여행 어때?</td>\n",
       "      <td>김동옥</td>\n",
       "      <td>2018-05-30</td>\n",
       "      <td>13,500</td>\n",
       "      <td>반양장본</td>\n",
       "      <td>344</td>\n",
       "      <td>130*188mm</td>\n",
       "      <td>453</td>\n",
       "      <td>여행</td>\n",
       "      <td>씽크스마트</td>\n",
       "      <td>2,555</td>\n",
       "    </tr>\n",
       "    <tr>\n",
       "      <th>1997</th>\n",
       "      <td>생각의 힘</td>\n",
       "      <td>이나모리 가즈오</td>\n",
       "      <td>2018-06-15</td>\n",
       "      <td>12,600</td>\n",
       "      <td>양장본</td>\n",
       "      <td>192</td>\n",
       "      <td>128*188mm</td>\n",
       "      <td>327</td>\n",
       "      <td>자기계발</td>\n",
       "      <td>한국경제신문</td>\n",
       "      <td>1,305</td>\n",
       "    </tr>\n",
       "    <tr>\n",
       "      <th>1998</th>\n",
       "      <td>양자 역학이란 무엇인가</td>\n",
       "      <td>마이클 워커</td>\n",
       "      <td>2018-06-04</td>\n",
       "      <td>19,800</td>\n",
       "      <td>반양장본</td>\n",
       "      <td>488</td>\n",
       "      <td>152*224mm</td>\n",
       "      <td>730</td>\n",
       "      <td>과학</td>\n",
       "      <td>처음북스(구 빅슨북스)</td>\n",
       "      <td>915</td>\n",
       "    </tr>\n",
       "    <tr>\n",
       "      <th>1999</th>\n",
       "      <td>지옥사원 2</td>\n",
       "      <td>네온비</td>\n",
       "      <td>2018-05-30</td>\n",
       "      <td>10,800</td>\n",
       "      <td>반양장본</td>\n",
       "      <td>260</td>\n",
       "      <td>148*210mm</td>\n",
       "      <td>423</td>\n",
       "      <td>만화</td>\n",
       "      <td>위즈덤하우스</td>\n",
       "      <td>705</td>\n",
       "    </tr>\n",
       "  </tbody>\n",
       "</table>\n",
       "</div>"
      ],
      "text/plain": [
       "             book_name book_writer   book_date book_price book_cover  \\\n",
       "1995  여기는 함께섬 정치를 배웁니다         최승필  2018-06-01     10,800       반양장본   \n",
       "1996     아빠, 이런 여행 어때?         김동옥  2018-05-30     13,500       반양장본   \n",
       "1997             생각의 힘    이나모리 가즈오  2018-06-15     12,600        양장본   \n",
       "1998      양자 역학이란 무엇인가      마이클 워커  2018-06-04     19,800       반양장본   \n",
       "1999            지옥사원 2         네온비  2018-05-30     10,800       반양장본   \n",
       "\n",
       "     book_page  book_size  book_weight book_category book_publisher  \\\n",
       "1995       136  175*240mm          258           어린이          천개의바람   \n",
       "1996       344  130*188mm          453            여행          씽크스마트   \n",
       "1997       192  128*188mm          327          자기계발         한국경제신문   \n",
       "1998       488  152*224mm          730            과학   처음북스(구 빅슨북스)   \n",
       "1999       260  148*210mm          423            만화         위즈덤하우스   \n",
       "\n",
       "     sales_point  \n",
       "1995         770  \n",
       "1996       2,555  \n",
       "1997       1,305  \n",
       "1998         915  \n",
       "1999         705  "
      ]
     },
     "execution_count": 18,
     "metadata": {},
     "output_type": "execute_result"
    }
   ],
   "source": [
    "book_data.tail()"
   ]
  },
  {
   "cell_type": "markdown",
   "id": "cd090c93",
   "metadata": {},
   "source": [
    "1961행에 특이값이 있음  \n",
    "행별 특이사항을 찾는 과정에서 검출한 데이터라고 가정"
   ]
  },
  {
   "cell_type": "code",
   "execution_count": 20,
   "id": "3ecfda8b",
   "metadata": {
    "scrolled": false
   },
   "outputs": [
    {
     "data": {
      "text/plain": [
       "'초판출간 2008년'"
      ]
     },
     "execution_count": 20,
     "metadata": {},
     "output_type": "execute_result"
    }
   ],
   "source": [
    "book_data.book_date.max()"
   ]
  },
  {
   "cell_type": "code",
   "execution_count": 21,
   "id": "4b5572ed",
   "metadata": {},
   "outputs": [
    {
     "data": {
      "text/plain": [
       "'2018-09-28'"
      ]
     },
     "execution_count": 21,
     "metadata": {},
     "output_type": "execute_result"
    }
   ],
   "source": [
    "book_data.book_date.replace('초판출간 2008년','2018-01-01',inplace = True)\n",
    "book_data.book_date.max()"
   ]
  },
  {
   "cell_type": "markdown",
   "id": "8626fb17",
   "metadata": {},
   "source": [
    "위에서 확인한 결측치는 회의결과 다수의 값으로 채우기로 결정났다고 가정한다.  \n",
    "book_cover, book_size"
   ]
  },
  {
   "cell_type": "code",
   "execution_count": 22,
   "id": "7ee64780",
   "metadata": {},
   "outputs": [
    {
     "data": {
      "text/plain": [
       "반양장본    1236\n",
       "양장본      447\n",
       "Name: book_cover, dtype: int64"
      ]
     },
     "execution_count": 22,
     "metadata": {},
     "output_type": "execute_result"
    }
   ],
   "source": [
    "book_data.book_cover.value_counts()"
   ]
  },
  {
   "cell_type": "code",
   "execution_count": 23,
   "id": "3b598d1c",
   "metadata": {},
   "outputs": [],
   "source": [
    "book_data.book_cover.fillna('반양장본',inplace = True)"
   ]
  },
  {
   "cell_type": "code",
   "execution_count": 24,
   "id": "cc35b12d",
   "metadata": {},
   "outputs": [
    {
     "data": {
      "text/plain": [
       "128*188mm    146\n",
       "148*210mm    129\n",
       "152*223mm    106\n",
       "152*225mm    105\n",
       "140*210mm     68\n",
       "Name: book_size, dtype: int64"
      ]
     },
     "execution_count": 24,
     "metadata": {},
     "output_type": "execute_result"
    }
   ],
   "source": [
    "book_data.book_size.value_counts().head()"
   ]
  },
  {
   "cell_type": "code",
   "execution_count": 25,
   "id": "743ee1f8",
   "metadata": {},
   "outputs": [],
   "source": [
    "book_data.book_size.fillna('128*188mm',inplace = True)"
   ]
  },
  {
   "cell_type": "code",
   "execution_count": 26,
   "id": "3d9dec55",
   "metadata": {},
   "outputs": [
    {
     "data": {
      "text/plain": [
       "book_name         2000\n",
       "book_writer       2000\n",
       "book_date         2000\n",
       "book_price        2000\n",
       "book_cover        2000\n",
       "book_page         2000\n",
       "book_size         2000\n",
       "book_weight       2000\n",
       "book_category     2000\n",
       "book_publisher    2000\n",
       "sales_point       2000\n",
       "dtype: int64"
      ]
     },
     "execution_count": 26,
     "metadata": {},
     "output_type": "execute_result"
    }
   ],
   "source": [
    "book_data.count()"
   ]
  },
  {
   "cell_type": "markdown",
   "id": "56d77e61",
   "metadata": {},
   "source": [
    "출판사 빈도가 어떻게 되는지 확인"
   ]
  },
  {
   "cell_type": "code",
   "execution_count": 28,
   "id": "4cf82ba3",
   "metadata": {},
   "outputs": [
    {
     "data": {
      "text/plain": [
       "0              책발전소\n",
       "1             오픈하우스\n",
       "2        한울(한울아카데미)\n",
       "3              글항아리\n",
       "4               웨일북\n",
       "5              사월의책\n",
       "6             한겨레출판\n",
       "7              세종서적\n",
       "8     영컴(YOUNG COM)\n",
       "9                 클\n",
       "10      스콜라(위즈덤하우스)\n",
       "11             북스토리\n",
       "12               알마\n",
       "13            한겨레출판\n",
       "14              이데아\n",
       "15             열린책들\n",
       "16             열린책들\n",
       "17               비채\n",
       "18              사파리\n",
       "19          좋은친구출판사\n",
       "20            삼호ETM\n",
       "21              아카넷\n",
       "22              성안당\n",
       "23            스마트베어\n",
       "24             스윙밴드\n",
       "25               까치\n",
       "26             성안북스\n",
       "27            천년의상상\n",
       "28             은행나무\n",
       "29             문학동네\n",
       "Name: book_publisher, dtype: object"
      ]
     },
     "execution_count": 28,
     "metadata": {},
     "output_type": "execute_result"
    }
   ],
   "source": [
    "book_data.book_publisher.head(30)"
   ]
  },
  {
   "cell_type": "markdown",
   "id": "459bdd67",
   "metadata": {},
   "source": [
    "몇개의 데이터로 범주가 이루어지지 않음을 확인"
   ]
  },
  {
   "cell_type": "code",
   "execution_count": 29,
   "id": "35e0b15b",
   "metadata": {},
   "outputs": [
    {
     "data": {
      "text/plain": [
       "위즈덤하우스          41\n",
       "민음사             33\n",
       "문학동네            28\n",
       "창비              19\n",
       "알에이치코리아(RHK)    17\n",
       "Name: book_publisher, dtype: int64"
      ]
     },
     "execution_count": 29,
     "metadata": {},
     "output_type": "execute_result"
    }
   ],
   "source": [
    "book_data.book_publisher.value_counts().head()"
   ]
  },
  {
   "cell_type": "markdown",
   "id": "54ad5fd4",
   "metadata": {},
   "source": [
    "총 887개의 출판사가 있음을 확인"
   ]
  },
  {
   "cell_type": "code",
   "execution_count": 30,
   "id": "9a096d57",
   "metadata": {},
   "outputs": [
    {
     "data": {
      "text/plain": [
       "(887,)"
      ]
     },
     "execution_count": 30,
     "metadata": {},
     "output_type": "execute_result"
    }
   ],
   "source": [
    "book_data.book_publisher.value_counts().shape"
   ]
  },
  {
   "cell_type": "markdown",
   "id": "f69e9200",
   "metadata": {},
   "source": [
    "수치형 데이터도 중복 발생할 수 있음"
   ]
  },
  {
   "cell_type": "code",
   "execution_count": 31,
   "id": "ad64fdc2",
   "metadata": {},
   "outputs": [
    {
     "data": {
      "text/plain": [
       "13,500    221\n",
       "10,800    188\n",
       "11,700    170\n",
       "14,400    149\n",
       "12,600    122\n",
       "Name: book_price, dtype: int64"
      ]
     },
     "execution_count": 31,
     "metadata": {},
     "output_type": "execute_result"
    }
   ],
   "source": [
    "book_data.book_price.value_counts().head()"
   ]
  },
  {
   "cell_type": "markdown",
   "id": "b2a7233f",
   "metadata": {},
   "source": [
    "마찬가지로 유형의 개수를 파악할 수 있음"
   ]
  },
  {
   "cell_type": "code",
   "execution_count": 32,
   "id": "db3539e2",
   "metadata": {},
   "outputs": [
    {
     "data": {
      "text/plain": [
       "(171,)"
      ]
     },
     "execution_count": 32,
     "metadata": {},
     "output_type": "execute_result"
    }
   ],
   "source": [
    "book_data.book_price.value_counts().shape"
   ]
  },
  {
   "cell_type": "code",
   "execution_count": 34,
   "id": "2a48ffa2",
   "metadata": {},
   "outputs": [],
   "source": [
    "book_data_gr = book_data.groupby('book_price')"
   ]
  },
  {
   "cell_type": "code",
   "execution_count": 35,
   "id": "ae3ab618",
   "metadata": {},
   "outputs": [
    {
     "data": {
      "text/plain": [
       "pandas.core.groupby.generic.DataFrameGroupBy"
      ]
     },
     "execution_count": 35,
     "metadata": {},
     "output_type": "execute_result"
    }
   ],
   "source": [
    "type(book_data_gr) "
   ]
  },
  {
   "cell_type": "markdown",
   "id": "36f566c2",
   "metadata": {},
   "source": [
    "ngroups 속성을 통해 groupby된 유형의 개수 확인"
   ]
  },
  {
   "cell_type": "code",
   "execution_count": 36,
   "id": "33a8923a",
   "metadata": {},
   "outputs": [
    {
     "data": {
      "text/plain": [
       "171"
      ]
     },
     "execution_count": 36,
     "metadata": {},
     "output_type": "execute_result"
    }
   ],
   "source": [
    "book_data_gr.ngroups"
   ]
  },
  {
   "cell_type": "code",
   "execution_count": 37,
   "id": "9545bb5a",
   "metadata": {},
   "outputs": [
    {
     "data": {
      "text/plain": [
       "pandas.io.formats.printing.PrettyDict"
      ]
     },
     "execution_count": 37,
     "metadata": {},
     "output_type": "execute_result"
    }
   ],
   "source": [
    "type(book_data_gr.groups)"
   ]
  },
  {
   "cell_type": "code",
   "execution_count": 38,
   "id": "539b41ff",
   "metadata": {},
   "outputs": [
    {
     "data": {
      "text/plain": [
       "dict_keys(['10,080', '10,260', '10,350', '10,450', '10,620', '10,710', '10,800', '11,160', '11,250', '11,400', '11,520', '11,700', '11,760', '112,100', '12,000', '12,150', '12,330', '12,350', '12,420', '12,510', '12,600', '12,750', '12,780', '12,870', '13,000', '13,050', '13,110', '13,300', '13,320', '13,410', '13,440', '13,500', '13,950', '14,000', '14,220', '14,250', '14,400', '14,850', '15,000', '15,120', '15,210', '15,300', '15,750', '16,000', '16,020', '16,110', '16,200', '16,500', '16,650', '16,920', '17,010', '17,100', '17,550', '17,820', '18,000', '18,530', '18,900', '19,000', '19,200', '19,620', '19,800', '20,000', '20,250', '20,700', '21,420', '21,600', '21,960', '22,000', '22,050', '22,500', '22,900', '220,000', '23,100', '23,400', '23,750', '24,000', '24,300', '24,500', '25,000', '25,200', '25,650', '25,900', '26,100', '26,600', '26,820', '27,000', '27,270', '27,550', '27,900', '28,000', '28,500', '28,800', '288,000', '29,000', '29,500', '29,520', '29,700', '297,000', '3,000', '3,510', '30,400', '30,600', '31,500', '32,220', '32,400', '33,000', '33,300', '34,200', '35,100', '36,000', '36,450', '38,700', '39,420', '39,500', '4,000', '4,410', '4,500', '4,900', '4,950', '40,000', '40,500', '40,850', '42,750', '43,200', '44,100', '45,000', '45,600', '45,900', '47,700', '48,600', '49,500', '5,250', '5,310', '5,400', '5,850', '5,950', '50,350', '52,200', '53,100', '54,000', '58,000', '6,120', '6,300', '6,720', '6,750', '63,900', '64,800', '7,000', '7,020', '7,200', '7,650', '7,920', '72,000', '75,600', '78,300', '8,010', '8,100', '8,400', '8,550', '8,820', '8,910', '81,000', '88,200', '9,000', '9,100', '9,450', '9,500', '9,520', '9,720', '9,810', '9,900'])"
      ]
     },
     "execution_count": 38,
     "metadata": {},
     "output_type": "execute_result"
    }
   ],
   "source": [
    "book_data_gr.groups.keys()"
   ]
  },
  {
   "cell_type": "markdown",
   "id": "998b0f0c",
   "metadata": {},
   "source": [
    "가격이 10,080원의 책의 인덱스 반환"
   ]
  },
  {
   "cell_type": "code",
   "execution_count": 39,
   "id": "e1796135",
   "metadata": {},
   "outputs": [
    {
     "data": {
      "text/plain": [
       "Int64Index([27, 49, 76, 541, 651, 802, 1339], dtype='int64')"
      ]
     },
     "execution_count": 39,
     "metadata": {},
     "output_type": "execute_result"
    }
   ],
   "source": [
    "book_data_gr.groups['10,080']"
   ]
  },
  {
   "cell_type": "code",
   "execution_count": 40,
   "id": "f90d12db",
   "metadata": {},
   "outputs": [
    {
     "data": {
      "text/plain": [
       "7"
      ]
     },
     "execution_count": 40,
     "metadata": {},
     "output_type": "execute_result"
    }
   ],
   "source": [
    "book_data_gr.groups['10,080'].size"
   ]
  },
  {
   "cell_type": "markdown",
   "id": "117fbb73",
   "metadata": {},
   "source": [
    "get_group() 함수를 통해 서브셋 검색"
   ]
  },
  {
   "cell_type": "code",
   "execution_count": 41,
   "id": "5e8137a5",
   "metadata": {},
   "outputs": [
    {
     "data": {
      "text/html": [
       "<div>\n",
       "<style scoped>\n",
       "    .dataframe tbody tr th:only-of-type {\n",
       "        vertical-align: middle;\n",
       "    }\n",
       "\n",
       "    .dataframe tbody tr th {\n",
       "        vertical-align: top;\n",
       "    }\n",
       "\n",
       "    .dataframe thead th {\n",
       "        text-align: right;\n",
       "    }\n",
       "</style>\n",
       "<table border=\"1\" class=\"dataframe\">\n",
       "  <thead>\n",
       "    <tr style=\"text-align: right;\">\n",
       "      <th></th>\n",
       "      <th>book_name</th>\n",
       "      <th>book_writer</th>\n",
       "      <th>book_date</th>\n",
       "      <th>book_price</th>\n",
       "      <th>book_cover</th>\n",
       "      <th>book_page</th>\n",
       "      <th>book_size</th>\n",
       "      <th>book_weight</th>\n",
       "      <th>book_category</th>\n",
       "      <th>book_publisher</th>\n",
       "      <th>sales_point</th>\n",
       "    </tr>\n",
       "  </thead>\n",
       "  <tbody>\n",
       "    <tr>\n",
       "      <th>27</th>\n",
       "      <td>알록달록</td>\n",
       "      <td>정여울</td>\n",
       "      <td>2018-08-16</td>\n",
       "      <td>10,080</td>\n",
       "      <td>반양장본</td>\n",
       "      <td>168</td>\n",
       "      <td>128*188mm</td>\n",
       "      <td>168</td>\n",
       "      <td>에세이</td>\n",
       "      <td>천년의상상</td>\n",
       "      <td>480</td>\n",
       "    </tr>\n",
       "    <tr>\n",
       "      <th>49</th>\n",
       "      <td>생각이 만든 감옥</td>\n",
       "      <td>맨리 P. 홀</td>\n",
       "      <td>2018-08-20</td>\n",
       "      <td>10,080</td>\n",
       "      <td>반양장본</td>\n",
       "      <td>208</td>\n",
       "      <td>128*188mm</td>\n",
       "      <td>208</td>\n",
       "      <td>인문학</td>\n",
       "      <td>마름돌</td>\n",
       "      <td>1,350</td>\n",
       "    </tr>\n",
       "    <tr>\n",
       "      <th>76</th>\n",
       "      <td>1984</td>\n",
       "      <td>조지 오웰</td>\n",
       "      <td>2018-08-20</td>\n",
       "      <td>10,080</td>\n",
       "      <td>반양장본</td>\n",
       "      <td>428</td>\n",
       "      <td>135*210mm</td>\n",
       "      <td>556</td>\n",
       "      <td>소설/시/희곡</td>\n",
       "      <td>더디</td>\n",
       "      <td>160</td>\n",
       "    </tr>\n",
       "    <tr>\n",
       "      <th>541</th>\n",
       "      <td>첫 문장</td>\n",
       "      <td>윤성희</td>\n",
       "      <td>2018-07-25</td>\n",
       "      <td>10,080</td>\n",
       "      <td>양장본</td>\n",
       "      <td>152</td>\n",
       "      <td>104*182mm</td>\n",
       "      <td>234</td>\n",
       "      <td>소설/시/희곡</td>\n",
       "      <td>현대문학</td>\n",
       "      <td>1,850</td>\n",
       "    </tr>\n",
       "    <tr>\n",
       "      <th>651</th>\n",
       "      <td>야옹아, 내가 집사라도 괜찮을까?</td>\n",
       "      <td>마담툰</td>\n",
       "      <td>2018-07-19</td>\n",
       "      <td>10,080</td>\n",
       "      <td>반양장본</td>\n",
       "      <td>176</td>\n",
       "      <td>140*200mm</td>\n",
       "      <td>232</td>\n",
       "      <td>만화</td>\n",
       "      <td>네오카툰</td>\n",
       "      <td>630</td>\n",
       "    </tr>\n",
       "  </tbody>\n",
       "</table>\n",
       "</div>"
      ],
      "text/plain": [
       "              book_name book_writer   book_date book_price book_cover  \\\n",
       "27                 알록달록         정여울  2018-08-16     10,080       반양장본   \n",
       "49            생각이 만든 감옥     맨리 P. 홀  2018-08-20     10,080       반양장본   \n",
       "76                 1984       조지 오웰  2018-08-20     10,080       반양장본   \n",
       "541                첫 문장         윤성희  2018-07-25     10,080        양장본   \n",
       "651  야옹아, 내가 집사라도 괜찮을까?         마담툰  2018-07-19     10,080       반양장본   \n",
       "\n",
       "    book_page  book_size  book_weight book_category book_publisher sales_point  \n",
       "27        168  128*188mm          168           에세이          천년의상상         480  \n",
       "49        208  128*188mm          208           인문학            마름돌       1,350  \n",
       "76        428  135*210mm          556       소설/시/희곡             더디         160  \n",
       "541       152  104*182mm          234       소설/시/희곡           현대문학       1,850  \n",
       "651       176  140*200mm          232            만화           네오카툰         630  "
      ]
     },
     "execution_count": 41,
     "metadata": {},
     "output_type": "execute_result"
    }
   ],
   "source": [
    "book_data_gr.get_group('10,080').head()"
   ]
  },
  {
   "cell_type": "code",
   "execution_count": 42,
   "id": "59a922cf",
   "metadata": {},
   "outputs": [
    {
     "data": {
      "text/plain": [
       "dtype('O')"
      ]
     },
     "execution_count": 42,
     "metadata": {},
     "output_type": "execute_result"
    }
   ],
   "source": [
    "book_data.sales_point.dtype"
   ]
  },
  {
   "cell_type": "code",
   "execution_count": 43,
   "id": "d4599710",
   "metadata": {},
   "outputs": [
    {
     "data": {
      "text/plain": [
       "0       476\n",
       "1       476\n",
       "2       749\n",
       "3       400\n",
       "4       374\n",
       "       ... \n",
       "1995    258\n",
       "1996    453\n",
       "1997    327\n",
       "1998    730\n",
       "1999    423\n",
       "Name: book_weight, Length: 2000, dtype: int64"
      ]
     },
     "execution_count": 43,
     "metadata": {},
     "output_type": "execute_result"
    }
   ],
   "source": [
    "book_weight = book_data.book_weight\n",
    "book_weight"
   ]
  },
  {
   "cell_type": "markdown",
   "id": "ca40be9d",
   "metadata": {},
   "source": [
    "모든 행(i)의 마지막 열(-1)을 대상으로 ',' 문자를 제거"
   ]
  },
  {
   "cell_type": "code",
   "execution_count": 44,
   "id": "1a0a2003",
   "metadata": {},
   "outputs": [],
   "source": [
    "for i in range(0,2000):\n",
    "    a = book_data.iloc[i,-1].replace(',','')\n",
    "    book_data.iloc[i,-1] = a"
   ]
  },
  {
   "cell_type": "code",
   "execution_count": 45,
   "id": "14fd7eaf",
   "metadata": {},
   "outputs": [
    {
     "data": {
      "text/html": [
       "<div>\n",
       "<style scoped>\n",
       "    .dataframe tbody tr th:only-of-type {\n",
       "        vertical-align: middle;\n",
       "    }\n",
       "\n",
       "    .dataframe tbody tr th {\n",
       "        vertical-align: top;\n",
       "    }\n",
       "\n",
       "    .dataframe thead th {\n",
       "        text-align: right;\n",
       "    }\n",
       "</style>\n",
       "<table border=\"1\" class=\"dataframe\">\n",
       "  <thead>\n",
       "    <tr style=\"text-align: right;\">\n",
       "      <th></th>\n",
       "      <th>book_name</th>\n",
       "      <th>book_writer</th>\n",
       "      <th>book_date</th>\n",
       "      <th>book_price</th>\n",
       "      <th>book_cover</th>\n",
       "      <th>book_page</th>\n",
       "      <th>book_size</th>\n",
       "      <th>book_weight</th>\n",
       "      <th>book_category</th>\n",
       "      <th>book_publisher</th>\n",
       "      <th>sales_point</th>\n",
       "    </tr>\n",
       "  </thead>\n",
       "  <tbody>\n",
       "    <tr>\n",
       "      <th>27</th>\n",
       "      <td>알록달록</td>\n",
       "      <td>정여울</td>\n",
       "      <td>2018-08-16</td>\n",
       "      <td>10,080</td>\n",
       "      <td>반양장본</td>\n",
       "      <td>168</td>\n",
       "      <td>128*188mm</td>\n",
       "      <td>168</td>\n",
       "      <td>에세이</td>\n",
       "      <td>천년의상상</td>\n",
       "      <td>480</td>\n",
       "    </tr>\n",
       "    <tr>\n",
       "      <th>49</th>\n",
       "      <td>생각이 만든 감옥</td>\n",
       "      <td>맨리 P. 홀</td>\n",
       "      <td>2018-08-20</td>\n",
       "      <td>10,080</td>\n",
       "      <td>반양장본</td>\n",
       "      <td>208</td>\n",
       "      <td>128*188mm</td>\n",
       "      <td>208</td>\n",
       "      <td>인문학</td>\n",
       "      <td>마름돌</td>\n",
       "      <td>1350</td>\n",
       "    </tr>\n",
       "  </tbody>\n",
       "</table>\n",
       "</div>"
      ],
      "text/plain": [
       "    book_name book_writer   book_date book_price book_cover book_page  \\\n",
       "27       알록달록         정여울  2018-08-16     10,080       반양장본       168   \n",
       "49  생각이 만든 감옥     맨리 P. 홀  2018-08-20     10,080       반양장본       208   \n",
       "\n",
       "    book_size  book_weight book_category book_publisher sales_point  \n",
       "27  128*188mm          168           에세이          천년의상상         480  \n",
       "49  128*188mm          208           인문학            마름돌        1350  "
      ]
     },
     "execution_count": 45,
     "metadata": {},
     "output_type": "execute_result"
    }
   ],
   "source": [
    "book_data_gr.get_group('10,080').head(2)"
   ]
  },
  {
   "cell_type": "code",
   "execution_count": 46,
   "id": "2cfb9e31",
   "metadata": {},
   "outputs": [
    {
     "data": {
      "text/plain": [
       "dtype('float64')"
      ]
     },
     "execution_count": 46,
     "metadata": {},
     "output_type": "execute_result"
    }
   ],
   "source": [
    "book_data.sales_point = book_data.sales_point.astype('float64')\n",
    "book_data.sales_point.dtype"
   ]
  },
  {
   "cell_type": "code",
   "execution_count": 47,
   "id": "c3e9380d",
   "metadata": {},
   "outputs": [
    {
     "data": {
      "text/plain": [
       "dtype('int64')"
      ]
     },
     "execution_count": 47,
     "metadata": {},
     "output_type": "execute_result"
    }
   ],
   "source": [
    "book_data.book_weight.dtype"
   ]
  },
  {
   "cell_type": "code",
   "execution_count": 48,
   "id": "4d97e534",
   "metadata": {},
   "outputs": [
    {
     "data": {
      "text/html": [
       "<div>\n",
       "<style scoped>\n",
       "    .dataframe tbody tr th:only-of-type {\n",
       "        vertical-align: middle;\n",
       "    }\n",
       "\n",
       "    .dataframe tbody tr th {\n",
       "        vertical-align: top;\n",
       "    }\n",
       "\n",
       "    .dataframe thead th {\n",
       "        text-align: right;\n",
       "    }\n",
       "</style>\n",
       "<table border=\"1\" class=\"dataframe\">\n",
       "  <thead>\n",
       "    <tr style=\"text-align: right;\">\n",
       "      <th></th>\n",
       "      <th>book_name</th>\n",
       "      <th>book_writer</th>\n",
       "      <th>book_date</th>\n",
       "      <th>book_price</th>\n",
       "      <th>book_cover</th>\n",
       "      <th>book_page</th>\n",
       "      <th>book_size</th>\n",
       "      <th>book_weight</th>\n",
       "      <th>book_category</th>\n",
       "      <th>book_publisher</th>\n",
       "      <th>sales_point</th>\n",
       "    </tr>\n",
       "  </thead>\n",
       "  <tbody>\n",
       "    <tr>\n",
       "      <th>0</th>\n",
       "      <td>올 더 빌딩스 인 런던</td>\n",
       "      <td>제임스 걸리버 핸콕</td>\n",
       "      <td>2018-08-25</td>\n",
       "      <td>14,400</td>\n",
       "      <td>양장본</td>\n",
       "      <td>140</td>\n",
       "      <td>225*280mm</td>\n",
       "      <td>476</td>\n",
       "      <td>예술/대중문화</td>\n",
       "      <td>책발전소</td>\n",
       "      <td>110.0</td>\n",
       "    </tr>\n",
       "    <tr>\n",
       "      <th>1</th>\n",
       "      <td>렛 잇 블리드</td>\n",
       "      <td>이언 랜킨</td>\n",
       "      <td>2018-08-19</td>\n",
       "      <td>13,320</td>\n",
       "      <td>반양장본</td>\n",
       "      <td>476</td>\n",
       "      <td>128*188mm</td>\n",
       "      <td>476</td>\n",
       "      <td>소설/시/희곡</td>\n",
       "      <td>오픈하우스</td>\n",
       "      <td>110.0</td>\n",
       "    </tr>\n",
       "    <tr>\n",
       "      <th>2</th>\n",
       "      <td>은유로 사회 읽기</td>\n",
       "      <td>대니얼 리그니</td>\n",
       "      <td>2018-08-20</td>\n",
       "      <td>39,500</td>\n",
       "      <td>양장본</td>\n",
       "      <td>416</td>\n",
       "      <td>152*223mm</td>\n",
       "      <td>749</td>\n",
       "      <td>사회과학</td>\n",
       "      <td>한울(한울아카데미)</td>\n",
       "      <td>10.0</td>\n",
       "    </tr>\n",
       "    <tr>\n",
       "      <th>3</th>\n",
       "      <td>유럽 맥주 여행</td>\n",
       "      <td>백경학</td>\n",
       "      <td>2018-08-24</td>\n",
       "      <td>14,400</td>\n",
       "      <td>반양장본</td>\n",
       "      <td>308</td>\n",
       "      <td>150*220mm</td>\n",
       "      <td>400</td>\n",
       "      <td>역사</td>\n",
       "      <td>글항아리</td>\n",
       "      <td>10.0</td>\n",
       "    </tr>\n",
       "    <tr>\n",
       "      <th>4</th>\n",
       "      <td>이게, 행복이 아니면 무엇이지</td>\n",
       "      <td>김혜령</td>\n",
       "      <td>2018-08-20</td>\n",
       "      <td>13,050</td>\n",
       "      <td>반양장본</td>\n",
       "      <td>288</td>\n",
       "      <td>135*200mm</td>\n",
       "      <td>374</td>\n",
       "      <td>인문학</td>\n",
       "      <td>웨일북</td>\n",
       "      <td>10.0</td>\n",
       "    </tr>\n",
       "  </tbody>\n",
       "</table>\n",
       "</div>"
      ],
      "text/plain": [
       "          book_name book_writer   book_date book_price book_cover book_page  \\\n",
       "0      올 더 빌딩스 인 런던  제임스 걸리버 핸콕  2018-08-25     14,400        양장본       140   \n",
       "1           렛 잇 블리드       이언 랜킨  2018-08-19     13,320       반양장본       476   \n",
       "2         은유로 사회 읽기     대니얼 리그니  2018-08-20     39,500        양장본       416   \n",
       "3          유럽 맥주 여행         백경학  2018-08-24     14,400       반양장본       308   \n",
       "4  이게, 행복이 아니면 무엇이지         김혜령  2018-08-20     13,050       반양장본       288   \n",
       "\n",
       "   book_size  book_weight book_category book_publisher  sales_point  \n",
       "0  225*280mm          476       예술/대중문화           책발전소        110.0  \n",
       "1  128*188mm          476       소설/시/희곡          오픈하우스        110.0  \n",
       "2  152*223mm          749          사회과학     한울(한울아카데미)         10.0  \n",
       "3  150*220mm          400            역사           글항아리         10.0  \n",
       "4  135*200mm          374           인문학            웨일북         10.0  "
      ]
     },
     "execution_count": 48,
     "metadata": {},
     "output_type": "execute_result"
    }
   ],
   "source": [
    "book_data.head()"
   ]
  },
  {
   "cell_type": "markdown",
   "id": "71171450",
   "metadata": {},
   "source": [
    "그룹화 한 결과를 특정 열별로 통계함수를 적용"
   ]
  },
  {
   "cell_type": "code",
   "execution_count": 49,
   "id": "9e153ec2",
   "metadata": {},
   "outputs": [
    {
     "data": {
      "text/html": [
       "<div>\n",
       "<style scoped>\n",
       "    .dataframe tbody tr th:only-of-type {\n",
       "        vertical-align: middle;\n",
       "    }\n",
       "\n",
       "    .dataframe tbody tr th {\n",
       "        vertical-align: top;\n",
       "    }\n",
       "\n",
       "    .dataframe thead th {\n",
       "        text-align: right;\n",
       "    }\n",
       "</style>\n",
       "<table border=\"1\" class=\"dataframe\">\n",
       "  <thead>\n",
       "    <tr style=\"text-align: right;\">\n",
       "      <th></th>\n",
       "      <th>book_name</th>\n",
       "      <th>sales_point</th>\n",
       "      <th>book_weight</th>\n",
       "    </tr>\n",
       "    <tr>\n",
       "      <th>book_cover</th>\n",
       "      <th></th>\n",
       "      <th></th>\n",
       "      <th></th>\n",
       "    </tr>\n",
       "  </thead>\n",
       "  <tbody>\n",
       "    <tr>\n",
       "      <th>반양장본</th>\n",
       "      <td>1553</td>\n",
       "      <td>3522.652930</td>\n",
       "      <td>494.649066</td>\n",
       "    </tr>\n",
       "    <tr>\n",
       "      <th>양장본</th>\n",
       "      <td>447</td>\n",
       "      <td>4171.825503</td>\n",
       "      <td>582.709172</td>\n",
       "    </tr>\n",
       "  </tbody>\n",
       "</table>\n",
       "</div>"
      ],
      "text/plain": [
       "            book_name  sales_point  book_weight\n",
       "book_cover                                     \n",
       "반양장본             1553  3522.652930   494.649066\n",
       "양장본               447  4171.825503   582.709172"
      ]
     },
     "execution_count": 49,
     "metadata": {},
     "output_type": "execute_result"
    }
   ],
   "source": [
    "book_data.groupby('book_cover').agg({'book_name':'count',\n",
    "                                     'sales_point':'mean', \n",
    "                                     'book_weight':'mean'})"
   ]
  },
  {
   "cell_type": "code",
   "execution_count": 50,
   "id": "b8c1013c",
   "metadata": {},
   "outputs": [
    {
     "data": {
      "text/html": [
       "<div>\n",
       "<style scoped>\n",
       "    .dataframe tbody tr th:only-of-type {\n",
       "        vertical-align: middle;\n",
       "    }\n",
       "\n",
       "    .dataframe tbody tr th {\n",
       "        vertical-align: top;\n",
       "    }\n",
       "\n",
       "    .dataframe thead th {\n",
       "        text-align: right;\n",
       "    }\n",
       "</style>\n",
       "<table border=\"1\" class=\"dataframe\">\n",
       "  <thead>\n",
       "    <tr style=\"text-align: right;\">\n",
       "      <th></th>\n",
       "      <th>book_name</th>\n",
       "      <th>sales_point</th>\n",
       "      <th>book_weight</th>\n",
       "    </tr>\n",
       "    <tr>\n",
       "      <th>book_date</th>\n",
       "      <th></th>\n",
       "      <th></th>\n",
       "      <th></th>\n",
       "    </tr>\n",
       "  </thead>\n",
       "  <tbody>\n",
       "    <tr>\n",
       "      <th>2018-01-01</th>\n",
       "      <td>1</td>\n",
       "      <td>310.0</td>\n",
       "      <td>513.0</td>\n",
       "    </tr>\n",
       "    <tr>\n",
       "      <th>2018-03-20</th>\n",
       "      <td>1</td>\n",
       "      <td>42477.0</td>\n",
       "      <td>416.0</td>\n",
       "    </tr>\n",
       "    <tr>\n",
       "      <th>2018-03-23</th>\n",
       "      <td>1</td>\n",
       "      <td>80.0</td>\n",
       "      <td>408.0</td>\n",
       "    </tr>\n",
       "    <tr>\n",
       "      <th>2018-04-01</th>\n",
       "      <td>1</td>\n",
       "      <td>140.0</td>\n",
       "      <td>406.0</td>\n",
       "    </tr>\n",
       "    <tr>\n",
       "      <th>2018-04-10</th>\n",
       "      <td>1</td>\n",
       "      <td>150.0</td>\n",
       "      <td>1719.0</td>\n",
       "    </tr>\n",
       "    <tr>\n",
       "      <th>2018-04-20</th>\n",
       "      <td>1</td>\n",
       "      <td>255.0</td>\n",
       "      <td>291.0</td>\n",
       "    </tr>\n",
       "    <tr>\n",
       "      <th>2018-04-25</th>\n",
       "      <td>1</td>\n",
       "      <td>395.0</td>\n",
       "      <td>246.0</td>\n",
       "    </tr>\n",
       "    <tr>\n",
       "      <th>2018-04-30</th>\n",
       "      <td>1</td>\n",
       "      <td>75.0</td>\n",
       "      <td>543.0</td>\n",
       "    </tr>\n",
       "    <tr>\n",
       "      <th>2018-05-01</th>\n",
       "      <td>2</td>\n",
       "      <td>515.0</td>\n",
       "      <td>306.5</td>\n",
       "    </tr>\n",
       "    <tr>\n",
       "      <th>2018-05-04</th>\n",
       "      <td>1</td>\n",
       "      <td>315.0</td>\n",
       "      <td>577.0</td>\n",
       "    </tr>\n",
       "  </tbody>\n",
       "</table>\n",
       "</div>"
      ],
      "text/plain": [
       "            book_name  sales_point  book_weight\n",
       "book_date                                      \n",
       "2018-01-01          1        310.0        513.0\n",
       "2018-03-20          1      42477.0        416.0\n",
       "2018-03-23          1         80.0        408.0\n",
       "2018-04-01          1        140.0        406.0\n",
       "2018-04-10          1        150.0       1719.0\n",
       "2018-04-20          1        255.0        291.0\n",
       "2018-04-25          1        395.0        246.0\n",
       "2018-04-30          1         75.0        543.0\n",
       "2018-05-01          2        515.0        306.5\n",
       "2018-05-04          1        315.0        577.0"
      ]
     },
     "execution_count": 50,
     "metadata": {},
     "output_type": "execute_result"
    }
   ],
   "source": [
    "book_new = book_data.groupby('book_date').agg({'book_name':'count',\n",
    "                                     'sales_point':'mean', \n",
    "                                     'book_weight':'mean'})\n",
    "book_new.head(10)"
   ]
  },
  {
   "cell_type": "markdown",
   "id": "9ecd7fa0",
   "metadata": {},
   "source": [
    "분석 결과에 맞게 열 이름 변경"
   ]
  },
  {
   "cell_type": "code",
   "execution_count": 51,
   "id": "e2831112",
   "metadata": {},
   "outputs": [
    {
     "data": {
      "text/html": [
       "<div>\n",
       "<style scoped>\n",
       "    .dataframe tbody tr th:only-of-type {\n",
       "        vertical-align: middle;\n",
       "    }\n",
       "\n",
       "    .dataframe tbody tr th {\n",
       "        vertical-align: top;\n",
       "    }\n",
       "\n",
       "    .dataframe thead th {\n",
       "        text-align: right;\n",
       "    }\n",
       "</style>\n",
       "<table border=\"1\" class=\"dataframe\">\n",
       "  <thead>\n",
       "    <tr style=\"text-align: right;\">\n",
       "      <th></th>\n",
       "      <th>book_count</th>\n",
       "      <th>sales_point_평균</th>\n",
       "      <th>book_weight_평균</th>\n",
       "    </tr>\n",
       "    <tr>\n",
       "      <th>book_date</th>\n",
       "      <th></th>\n",
       "      <th></th>\n",
       "      <th></th>\n",
       "    </tr>\n",
       "  </thead>\n",
       "  <tbody>\n",
       "    <tr>\n",
       "      <th>2018-01-01</th>\n",
       "      <td>1</td>\n",
       "      <td>310.0</td>\n",
       "      <td>513.0</td>\n",
       "    </tr>\n",
       "    <tr>\n",
       "      <th>2018-03-20</th>\n",
       "      <td>1</td>\n",
       "      <td>42477.0</td>\n",
       "      <td>416.0</td>\n",
       "    </tr>\n",
       "    <tr>\n",
       "      <th>2018-03-23</th>\n",
       "      <td>1</td>\n",
       "      <td>80.0</td>\n",
       "      <td>408.0</td>\n",
       "    </tr>\n",
       "    <tr>\n",
       "      <th>2018-04-01</th>\n",
       "      <td>1</td>\n",
       "      <td>140.0</td>\n",
       "      <td>406.0</td>\n",
       "    </tr>\n",
       "    <tr>\n",
       "      <th>2018-04-10</th>\n",
       "      <td>1</td>\n",
       "      <td>150.0</td>\n",
       "      <td>1719.0</td>\n",
       "    </tr>\n",
       "  </tbody>\n",
       "</table>\n",
       "</div>"
      ],
      "text/plain": [
       "            book_count  sales_point_평균  book_weight_평균\n",
       "book_date                                             \n",
       "2018-01-01           1           310.0           513.0\n",
       "2018-03-20           1         42477.0           416.0\n",
       "2018-03-23           1            80.0           408.0\n",
       "2018-04-01           1           140.0           406.0\n",
       "2018-04-10           1           150.0          1719.0"
      ]
     },
     "execution_count": 51,
     "metadata": {},
     "output_type": "execute_result"
    }
   ],
   "source": [
    "book_new.columns = ['book_count','sales_point_평균', 'book_weight_평균']\n",
    "book_new.head()"
   ]
  },
  {
   "cell_type": "code",
   "execution_count": 52,
   "id": "f2ade81a",
   "metadata": {},
   "outputs": [
    {
     "data": {
      "text/html": [
       "<div>\n",
       "<style scoped>\n",
       "    .dataframe tbody tr th:only-of-type {\n",
       "        vertical-align: middle;\n",
       "    }\n",
       "\n",
       "    .dataframe tbody tr th {\n",
       "        vertical-align: top;\n",
       "    }\n",
       "\n",
       "    .dataframe thead th {\n",
       "        text-align: right;\n",
       "    }\n",
       "</style>\n",
       "<table border=\"1\" class=\"dataframe\">\n",
       "  <thead>\n",
       "    <tr style=\"text-align: right;\">\n",
       "      <th></th>\n",
       "      <th>book_count</th>\n",
       "      <th>sales_point_평균</th>\n",
       "      <th>book_weight_평균</th>\n",
       "    </tr>\n",
       "    <tr>\n",
       "      <th>book_date</th>\n",
       "      <th></th>\n",
       "      <th></th>\n",
       "      <th></th>\n",
       "    </tr>\n",
       "  </thead>\n",
       "  <tbody>\n",
       "    <tr>\n",
       "      <th>2018-07-20</th>\n",
       "      <td>101</td>\n",
       "      <td>2936.079208</td>\n",
       "      <td>531.326733</td>\n",
       "    </tr>\n",
       "    <tr>\n",
       "      <th>2018-06-20</th>\n",
       "      <td>90</td>\n",
       "      <td>6455.222222</td>\n",
       "      <td>488.522222</td>\n",
       "    </tr>\n",
       "    <tr>\n",
       "      <th>2018-06-15</th>\n",
       "      <td>89</td>\n",
       "      <td>3370.337079</td>\n",
       "      <td>541.022472</td>\n",
       "    </tr>\n",
       "    <tr>\n",
       "      <th>2018-06-25</th>\n",
       "      <td>89</td>\n",
       "      <td>8031.067416</td>\n",
       "      <td>552.314607</td>\n",
       "    </tr>\n",
       "    <tr>\n",
       "      <th>2018-07-25</th>\n",
       "      <td>70</td>\n",
       "      <td>2968.285714</td>\n",
       "      <td>476.857143</td>\n",
       "    </tr>\n",
       "  </tbody>\n",
       "</table>\n",
       "</div>"
      ],
      "text/plain": [
       "            book_count  sales_point_평균  book_weight_평균\n",
       "book_date                                             \n",
       "2018-07-20         101     2936.079208      531.326733\n",
       "2018-06-20          90     6455.222222      488.522222\n",
       "2018-06-15          89     3370.337079      541.022472\n",
       "2018-06-25          89     8031.067416      552.314607\n",
       "2018-07-25          70     2968.285714      476.857143"
      ]
     },
     "execution_count": 52,
     "metadata": {},
     "output_type": "execute_result"
    }
   ],
   "source": [
    "book_new.nlargest(5,columns = 'book_count')"
   ]
  },
  {
   "cell_type": "code",
   "execution_count": 53,
   "id": "868d8e89",
   "metadata": {},
   "outputs": [
    {
     "data": {
      "text/html": [
       "<div>\n",
       "<style scoped>\n",
       "    .dataframe tbody tr th:only-of-type {\n",
       "        vertical-align: middle;\n",
       "    }\n",
       "\n",
       "    .dataframe tbody tr th {\n",
       "        vertical-align: top;\n",
       "    }\n",
       "\n",
       "    .dataframe thead th {\n",
       "        text-align: right;\n",
       "    }\n",
       "</style>\n",
       "<table border=\"1\" class=\"dataframe\">\n",
       "  <thead>\n",
       "    <tr style=\"text-align: right;\">\n",
       "      <th></th>\n",
       "      <th>book_count</th>\n",
       "      <th>sales_point_평균</th>\n",
       "      <th>book_weight_평균</th>\n",
       "    </tr>\n",
       "    <tr>\n",
       "      <th>book_date</th>\n",
       "      <th></th>\n",
       "      <th></th>\n",
       "      <th></th>\n",
       "    </tr>\n",
       "  </thead>\n",
       "  <tbody>\n",
       "    <tr>\n",
       "      <th>2018-01-01</th>\n",
       "      <td>1</td>\n",
       "      <td>310.0</td>\n",
       "      <td>513.0</td>\n",
       "    </tr>\n",
       "    <tr>\n",
       "      <th>2018-03-20</th>\n",
       "      <td>1</td>\n",
       "      <td>42477.0</td>\n",
       "      <td>416.0</td>\n",
       "    </tr>\n",
       "    <tr>\n",
       "      <th>2018-03-23</th>\n",
       "      <td>1</td>\n",
       "      <td>80.0</td>\n",
       "      <td>408.0</td>\n",
       "    </tr>\n",
       "    <tr>\n",
       "      <th>2018-04-01</th>\n",
       "      <td>1</td>\n",
       "      <td>140.0</td>\n",
       "      <td>406.0</td>\n",
       "    </tr>\n",
       "    <tr>\n",
       "      <th>2018-04-10</th>\n",
       "      <td>1</td>\n",
       "      <td>150.0</td>\n",
       "      <td>1719.0</td>\n",
       "    </tr>\n",
       "  </tbody>\n",
       "</table>\n",
       "</div>"
      ],
      "text/plain": [
       "            book_count  sales_point_평균  book_weight_평균\n",
       "book_date                                             \n",
       "2018-01-01           1           310.0           513.0\n",
       "2018-03-20           1         42477.0           416.0\n",
       "2018-03-23           1            80.0           408.0\n",
       "2018-04-01           1           140.0           406.0\n",
       "2018-04-10           1           150.0          1719.0"
      ]
     },
     "execution_count": 53,
     "metadata": {},
     "output_type": "execute_result"
    }
   ],
   "source": [
    "book_new.nsmallest(5,columns = 'book_count')"
   ]
  },
  {
   "cell_type": "markdown",
   "id": "287c136c",
   "metadata": {},
   "source": [
    "## 예제 6-10 여러개 열을 그룹화하기"
   ]
  },
  {
   "cell_type": "code",
   "execution_count": 54,
   "id": "1316b699",
   "metadata": {},
   "outputs": [
    {
     "data": {
      "text/plain": [
       "['book_date', 'book_cover']"
      ]
     },
     "execution_count": 54,
     "metadata": {},
     "output_type": "execute_result"
    }
   ],
   "source": [
    "group_cols = ['book_date','book_cover']\n",
    "group_cols"
   ]
  },
  {
   "cell_type": "code",
   "execution_count": 55,
   "id": "1a8b07a0",
   "metadata": {},
   "outputs": [
    {
     "data": {
      "text/plain": [
       "['sales_point', 'book_weight']"
      ]
     },
     "execution_count": 55,
     "metadata": {},
     "output_type": "execute_result"
    }
   ],
   "source": [
    "agg_cols=['sales_point','book_weight']\n",
    "agg_cols"
   ]
  },
  {
   "cell_type": "markdown",
   "id": "89e73585",
   "metadata": {},
   "source": [
    "수치형 데이터여야 가능"
   ]
  },
  {
   "cell_type": "code",
   "execution_count": 56,
   "id": "62d11f52",
   "metadata": {},
   "outputs": [
    {
     "data": {
      "text/html": [
       "<div>\n",
       "<style scoped>\n",
       "    .dataframe tbody tr th:only-of-type {\n",
       "        vertical-align: middle;\n",
       "    }\n",
       "\n",
       "    .dataframe tbody tr th {\n",
       "        vertical-align: top;\n",
       "    }\n",
       "\n",
       "    .dataframe thead tr th {\n",
       "        text-align: left;\n",
       "    }\n",
       "\n",
       "    .dataframe thead tr:last-of-type th {\n",
       "        text-align: right;\n",
       "    }\n",
       "</style>\n",
       "<table border=\"1\" class=\"dataframe\">\n",
       "  <thead>\n",
       "    <tr>\n",
       "      <th></th>\n",
       "      <th></th>\n",
       "      <th colspan=\"3\" halign=\"left\">sales_point</th>\n",
       "      <th colspan=\"3\" halign=\"left\">book_weight</th>\n",
       "    </tr>\n",
       "    <tr>\n",
       "      <th></th>\n",
       "      <th></th>\n",
       "      <th>sum</th>\n",
       "      <th>mean</th>\n",
       "      <th>size</th>\n",
       "      <th>sum</th>\n",
       "      <th>mean</th>\n",
       "      <th>size</th>\n",
       "    </tr>\n",
       "    <tr>\n",
       "      <th>book_date</th>\n",
       "      <th>book_cover</th>\n",
       "      <th></th>\n",
       "      <th></th>\n",
       "      <th></th>\n",
       "      <th></th>\n",
       "      <th></th>\n",
       "      <th></th>\n",
       "    </tr>\n",
       "  </thead>\n",
       "  <tbody>\n",
       "    <tr>\n",
       "      <th>2018-01-01</th>\n",
       "      <th>반양장본</th>\n",
       "      <td>310.0</td>\n",
       "      <td>310.0</td>\n",
       "      <td>1</td>\n",
       "      <td>513</td>\n",
       "      <td>513.0</td>\n",
       "      <td>1</td>\n",
       "    </tr>\n",
       "    <tr>\n",
       "      <th>2018-03-20</th>\n",
       "      <th>반양장본</th>\n",
       "      <td>42477.0</td>\n",
       "      <td>42477.0</td>\n",
       "      <td>1</td>\n",
       "      <td>416</td>\n",
       "      <td>416.0</td>\n",
       "      <td>1</td>\n",
       "    </tr>\n",
       "    <tr>\n",
       "      <th>2018-03-23</th>\n",
       "      <th>양장본</th>\n",
       "      <td>80.0</td>\n",
       "      <td>80.0</td>\n",
       "      <td>1</td>\n",
       "      <td>408</td>\n",
       "      <td>408.0</td>\n",
       "      <td>1</td>\n",
       "    </tr>\n",
       "    <tr>\n",
       "      <th>2018-04-01</th>\n",
       "      <th>반양장본</th>\n",
       "      <td>140.0</td>\n",
       "      <td>140.0</td>\n",
       "      <td>1</td>\n",
       "      <td>406</td>\n",
       "      <td>406.0</td>\n",
       "      <td>1</td>\n",
       "    </tr>\n",
       "    <tr>\n",
       "      <th>2018-04-10</th>\n",
       "      <th>양장본</th>\n",
       "      <td>150.0</td>\n",
       "      <td>150.0</td>\n",
       "      <td>1</td>\n",
       "      <td>1719</td>\n",
       "      <td>1719.0</td>\n",
       "      <td>1</td>\n",
       "    </tr>\n",
       "  </tbody>\n",
       "</table>\n",
       "</div>"
      ],
      "text/plain": [
       "                      sales_point               book_weight             \n",
       "                              sum     mean size         sum    mean size\n",
       "book_date  book_cover                                                   \n",
       "2018-01-01 반양장본             310.0    310.0    1         513   513.0    1\n",
       "2018-03-20 반양장본           42477.0  42477.0    1         416   416.0    1\n",
       "2018-03-23 양장본               80.0     80.0    1         408   408.0    1\n",
       "2018-04-01 반양장본             140.0    140.0    1         406   406.0    1\n",
       "2018-04-10 양장본              150.0    150.0    1        1719  1719.0    1"
      ]
     },
     "execution_count": 56,
     "metadata": {},
     "output_type": "execute_result"
    }
   ],
   "source": [
    "fg = book_data.groupby(group_cols)[agg_cols].agg(['sum','mean','size'])\n",
    "fg.head()"
   ]
  },
  {
   "cell_type": "code",
   "execution_count": 57,
   "id": "e1a53647",
   "metadata": {},
   "outputs": [
    {
     "data": {
      "text/plain": [
       "Index(['sales_point', 'sales_point', 'sales_point', 'book_weight',\n",
       "       'book_weight', 'book_weight'],\n",
       "      dtype='object')"
      ]
     },
     "execution_count": 57,
     "metadata": {},
     "output_type": "execute_result"
    }
   ],
   "source": [
    "level1 = fg.columns.get_level_values(0)\n",
    "level1"
   ]
  },
  {
   "cell_type": "code",
   "execution_count": 58,
   "id": "cfb6a1cb",
   "metadata": {},
   "outputs": [
    {
     "data": {
      "text/plain": [
       "Index(['sum', 'mean', 'size', 'sum', 'mean', 'size'], dtype='object')"
      ]
     },
     "execution_count": 58,
     "metadata": {},
     "output_type": "execute_result"
    }
   ],
   "source": [
    "level2 = fg.columns.get_level_values(1)\n",
    "level2"
   ]
  },
  {
   "cell_type": "code",
   "execution_count": 59,
   "id": "77c7db68",
   "metadata": {},
   "outputs": [
    {
     "data": {
      "text/html": [
       "<div>\n",
       "<style scoped>\n",
       "    .dataframe tbody tr th:only-of-type {\n",
       "        vertical-align: middle;\n",
       "    }\n",
       "\n",
       "    .dataframe tbody tr th {\n",
       "        vertical-align: top;\n",
       "    }\n",
       "\n",
       "    .dataframe thead th {\n",
       "        text-align: right;\n",
       "    }\n",
       "</style>\n",
       "<table border=\"1\" class=\"dataframe\">\n",
       "  <thead>\n",
       "    <tr style=\"text-align: right;\">\n",
       "      <th></th>\n",
       "      <th></th>\n",
       "      <th>sales_point_sum</th>\n",
       "      <th>sales_point_mean</th>\n",
       "      <th>sales_point_size</th>\n",
       "      <th>book_weight_sum</th>\n",
       "      <th>book_weight_mean</th>\n",
       "      <th>book_weight_size</th>\n",
       "    </tr>\n",
       "    <tr>\n",
       "      <th>book_date</th>\n",
       "      <th>book_cover</th>\n",
       "      <th></th>\n",
       "      <th></th>\n",
       "      <th></th>\n",
       "      <th></th>\n",
       "      <th></th>\n",
       "      <th></th>\n",
       "    </tr>\n",
       "  </thead>\n",
       "  <tbody>\n",
       "    <tr>\n",
       "      <th>2018-01-01</th>\n",
       "      <th>반양장본</th>\n",
       "      <td>310.0</td>\n",
       "      <td>310.0</td>\n",
       "      <td>1</td>\n",
       "      <td>513</td>\n",
       "      <td>513.0</td>\n",
       "      <td>1</td>\n",
       "    </tr>\n",
       "    <tr>\n",
       "      <th>2018-03-20</th>\n",
       "      <th>반양장본</th>\n",
       "      <td>42477.0</td>\n",
       "      <td>42477.0</td>\n",
       "      <td>1</td>\n",
       "      <td>416</td>\n",
       "      <td>416.0</td>\n",
       "      <td>1</td>\n",
       "    </tr>\n",
       "    <tr>\n",
       "      <th>2018-03-23</th>\n",
       "      <th>양장본</th>\n",
       "      <td>80.0</td>\n",
       "      <td>80.0</td>\n",
       "      <td>1</td>\n",
       "      <td>408</td>\n",
       "      <td>408.0</td>\n",
       "      <td>1</td>\n",
       "    </tr>\n",
       "    <tr>\n",
       "      <th>2018-04-01</th>\n",
       "      <th>반양장본</th>\n",
       "      <td>140.0</td>\n",
       "      <td>140.0</td>\n",
       "      <td>1</td>\n",
       "      <td>406</td>\n",
       "      <td>406.0</td>\n",
       "      <td>1</td>\n",
       "    </tr>\n",
       "    <tr>\n",
       "      <th>2018-04-10</th>\n",
       "      <th>양장본</th>\n",
       "      <td>150.0</td>\n",
       "      <td>150.0</td>\n",
       "      <td>1</td>\n",
       "      <td>1719</td>\n",
       "      <td>1719.0</td>\n",
       "      <td>1</td>\n",
       "    </tr>\n",
       "  </tbody>\n",
       "</table>\n",
       "</div>"
      ],
      "text/plain": [
       "                       sales_point_sum  sales_point_mean  sales_point_size  \\\n",
       "book_date  book_cover                                                        \n",
       "2018-01-01 반양장본                  310.0             310.0                 1   \n",
       "2018-03-20 반양장본                42477.0           42477.0                 1   \n",
       "2018-03-23 양장본                    80.0              80.0                 1   \n",
       "2018-04-01 반양장본                  140.0             140.0                 1   \n",
       "2018-04-10 양장본                   150.0             150.0                 1   \n",
       "\n",
       "                       book_weight_sum  book_weight_mean  book_weight_size  \n",
       "book_date  book_cover                                                       \n",
       "2018-01-01 반양장본                    513             513.0                 1  \n",
       "2018-03-20 반양장본                    416             416.0                 1  \n",
       "2018-03-23 양장본                     408             408.0                 1  \n",
       "2018-04-01 반양장본                    406             406.0                 1  \n",
       "2018-04-10 양장본                    1719            1719.0                 1  "
      ]
     },
     "execution_count": 59,
     "metadata": {},
     "output_type": "execute_result"
    }
   ],
   "source": [
    "fg.columns = level1+'_'+level2\n",
    "fg.head()"
   ]
  },
  {
   "cell_type": "markdown",
   "id": "877d3491",
   "metadata": {},
   "source": [
    "## 예제 6-11 그룹화 처리 비교하기"
   ]
  },
  {
   "cell_type": "markdown",
   "id": "6e1d4b4b",
   "metadata": {},
   "source": [
    "select book_date,count(*)from book_data group by book_date;"
   ]
  },
  {
   "cell_type": "code",
   "execution_count": 61,
   "id": "2e9b179f",
   "metadata": {},
   "outputs": [
    {
     "data": {
      "text/plain": [
       "book_date\n",
       "2018-01-01    1\n",
       "2018-03-20    1\n",
       "2018-03-23    1\n",
       "2018-04-01    1\n",
       "2018-04-10    1\n",
       "dtype: int64"
      ]
     },
     "execution_count": 61,
     "metadata": {},
     "output_type": "execute_result"
    }
   ],
   "source": [
    "book_data.groupby('book_date').size().head()"
   ]
  },
  {
   "cell_type": "code",
   "execution_count": 62,
   "id": "b19a6311",
   "metadata": {},
   "outputs": [
    {
     "data": {
      "text/html": [
       "<div>\n",
       "<style scoped>\n",
       "    .dataframe tbody tr th:only-of-type {\n",
       "        vertical-align: middle;\n",
       "    }\n",
       "\n",
       "    .dataframe tbody tr th {\n",
       "        vertical-align: top;\n",
       "    }\n",
       "\n",
       "    .dataframe thead th {\n",
       "        text-align: right;\n",
       "    }\n",
       "</style>\n",
       "<table border=\"1\" class=\"dataframe\">\n",
       "  <thead>\n",
       "    <tr style=\"text-align: right;\">\n",
       "      <th></th>\n",
       "      <th>book_name</th>\n",
       "      <th>book_writer</th>\n",
       "      <th>book_price</th>\n",
       "      <th>book_cover</th>\n",
       "      <th>book_page</th>\n",
       "      <th>book_size</th>\n",
       "      <th>book_weight</th>\n",
       "      <th>book_category</th>\n",
       "      <th>book_publisher</th>\n",
       "      <th>sales_point</th>\n",
       "    </tr>\n",
       "    <tr>\n",
       "      <th>book_date</th>\n",
       "      <th></th>\n",
       "      <th></th>\n",
       "      <th></th>\n",
       "      <th></th>\n",
       "      <th></th>\n",
       "      <th></th>\n",
       "      <th></th>\n",
       "      <th></th>\n",
       "      <th></th>\n",
       "      <th></th>\n",
       "    </tr>\n",
       "  </thead>\n",
       "  <tbody>\n",
       "    <tr>\n",
       "      <th>2018-01-01</th>\n",
       "      <td>1</td>\n",
       "      <td>1</td>\n",
       "      <td>1</td>\n",
       "      <td>1</td>\n",
       "      <td>1</td>\n",
       "      <td>1</td>\n",
       "      <td>1</td>\n",
       "      <td>1</td>\n",
       "      <td>1</td>\n",
       "      <td>1</td>\n",
       "    </tr>\n",
       "    <tr>\n",
       "      <th>2018-03-20</th>\n",
       "      <td>1</td>\n",
       "      <td>1</td>\n",
       "      <td>1</td>\n",
       "      <td>1</td>\n",
       "      <td>1</td>\n",
       "      <td>1</td>\n",
       "      <td>1</td>\n",
       "      <td>1</td>\n",
       "      <td>1</td>\n",
       "      <td>1</td>\n",
       "    </tr>\n",
       "    <tr>\n",
       "      <th>2018-03-23</th>\n",
       "      <td>1</td>\n",
       "      <td>1</td>\n",
       "      <td>1</td>\n",
       "      <td>1</td>\n",
       "      <td>1</td>\n",
       "      <td>1</td>\n",
       "      <td>1</td>\n",
       "      <td>1</td>\n",
       "      <td>1</td>\n",
       "      <td>1</td>\n",
       "    </tr>\n",
       "    <tr>\n",
       "      <th>2018-04-01</th>\n",
       "      <td>1</td>\n",
       "      <td>1</td>\n",
       "      <td>1</td>\n",
       "      <td>1</td>\n",
       "      <td>1</td>\n",
       "      <td>1</td>\n",
       "      <td>1</td>\n",
       "      <td>1</td>\n",
       "      <td>1</td>\n",
       "      <td>1</td>\n",
       "    </tr>\n",
       "    <tr>\n",
       "      <th>2018-04-10</th>\n",
       "      <td>1</td>\n",
       "      <td>1</td>\n",
       "      <td>1</td>\n",
       "      <td>1</td>\n",
       "      <td>1</td>\n",
       "      <td>1</td>\n",
       "      <td>1</td>\n",
       "      <td>1</td>\n",
       "      <td>1</td>\n",
       "      <td>1</td>\n",
       "    </tr>\n",
       "  </tbody>\n",
       "</table>\n",
       "</div>"
      ],
      "text/plain": [
       "            book_name  book_writer  book_price  book_cover  book_page  \\\n",
       "book_date                                                               \n",
       "2018-01-01          1            1           1           1          1   \n",
       "2018-03-20          1            1           1           1          1   \n",
       "2018-03-23          1            1           1           1          1   \n",
       "2018-04-01          1            1           1           1          1   \n",
       "2018-04-10          1            1           1           1          1   \n",
       "\n",
       "            book_size  book_weight  book_category  book_publisher  sales_point  \n",
       "book_date                                                                       \n",
       "2018-01-01          1            1              1               1            1  \n",
       "2018-03-20          1            1              1               1            1  \n",
       "2018-03-23          1            1              1               1            1  \n",
       "2018-04-01          1            1              1               1            1  \n",
       "2018-04-10          1            1              1               1            1  "
      ]
     },
     "execution_count": 62,
     "metadata": {},
     "output_type": "execute_result"
    }
   ],
   "source": [
    "book_data.groupby('book_date').count().head()"
   ]
  },
  {
   "cell_type": "code",
   "execution_count": 63,
   "id": "c12d33b3",
   "metadata": {},
   "outputs": [
    {
     "data": {
      "text/plain": [
       "book_date\n",
       "2018-01-01    1\n",
       "2018-03-20    1\n",
       "2018-03-23    1\n",
       "2018-04-01    1\n",
       "2018-04-10    1\n",
       "Name: sales_point, dtype: int64"
      ]
     },
     "execution_count": 63,
     "metadata": {},
     "output_type": "execute_result"
    }
   ],
   "source": [
    "book_data.groupby('book_date')['sales_point'].count().head()"
   ]
  },
  {
   "cell_type": "markdown",
   "id": "4b34954f",
   "metadata": {},
   "source": [
    "select book_date,avg('sales_point'),count(*) from book_data group by book_date;"
   ]
  },
  {
   "cell_type": "code",
   "execution_count": 64,
   "id": "7c1a8127",
   "metadata": {},
   "outputs": [],
   "source": [
    "import numpy as np"
   ]
  },
  {
   "cell_type": "code",
   "execution_count": 65,
   "id": "eb9a8779",
   "metadata": {},
   "outputs": [
    {
     "data": {
      "text/html": [
       "<div>\n",
       "<style scoped>\n",
       "    .dataframe tbody tr th:only-of-type {\n",
       "        vertical-align: middle;\n",
       "    }\n",
       "\n",
       "    .dataframe tbody tr th {\n",
       "        vertical-align: top;\n",
       "    }\n",
       "\n",
       "    .dataframe thead th {\n",
       "        text-align: right;\n",
       "    }\n",
       "</style>\n",
       "<table border=\"1\" class=\"dataframe\">\n",
       "  <thead>\n",
       "    <tr style=\"text-align: right;\">\n",
       "      <th></th>\n",
       "      <th>sales_point</th>\n",
       "      <th>book_date</th>\n",
       "    </tr>\n",
       "    <tr>\n",
       "      <th>book_date</th>\n",
       "      <th></th>\n",
       "      <th></th>\n",
       "    </tr>\n",
       "  </thead>\n",
       "  <tbody>\n",
       "    <tr>\n",
       "      <th>2018-01-01</th>\n",
       "      <td>310.0</td>\n",
       "      <td>1</td>\n",
       "    </tr>\n",
       "    <tr>\n",
       "      <th>2018-03-20</th>\n",
       "      <td>42477.0</td>\n",
       "      <td>1</td>\n",
       "    </tr>\n",
       "    <tr>\n",
       "      <th>2018-03-23</th>\n",
       "      <td>80.0</td>\n",
       "      <td>1</td>\n",
       "    </tr>\n",
       "    <tr>\n",
       "      <th>2018-04-01</th>\n",
       "      <td>140.0</td>\n",
       "      <td>1</td>\n",
       "    </tr>\n",
       "    <tr>\n",
       "      <th>2018-04-10</th>\n",
       "      <td>150.0</td>\n",
       "      <td>1</td>\n",
       "    </tr>\n",
       "  </tbody>\n",
       "</table>\n",
       "</div>"
      ],
      "text/plain": [
       "            sales_point  book_date\n",
       "book_date                         \n",
       "2018-01-01        310.0          1\n",
       "2018-03-20      42477.0          1\n",
       "2018-03-23         80.0          1\n",
       "2018-04-01        140.0          1\n",
       "2018-04-10        150.0          1"
      ]
     },
     "execution_count": 65,
     "metadata": {},
     "output_type": "execute_result"
    }
   ],
   "source": [
    "book_data.groupby('book_date').agg({'sales_point': np.mean, \n",
    "                                    'book_date': np.size}).head()"
   ]
  },
  {
   "cell_type": "markdown",
   "id": "df200c87",
   "metadata": {},
   "source": [
    "select book_date,book_cover,count(*),avg(sales_point) from book_data group by book_date,book_cover;"
   ]
  },
  {
   "cell_type": "code",
   "execution_count": 66,
   "id": "04fe71c3",
   "metadata": {},
   "outputs": [
    {
     "data": {
      "text/html": [
       "<div>\n",
       "<style scoped>\n",
       "    .dataframe tbody tr th:only-of-type {\n",
       "        vertical-align: middle;\n",
       "    }\n",
       "\n",
       "    .dataframe tbody tr th {\n",
       "        vertical-align: top;\n",
       "    }\n",
       "\n",
       "    .dataframe thead tr th {\n",
       "        text-align: left;\n",
       "    }\n",
       "\n",
       "    .dataframe thead tr:last-of-type th {\n",
       "        text-align: right;\n",
       "    }\n",
       "</style>\n",
       "<table border=\"1\" class=\"dataframe\">\n",
       "  <thead>\n",
       "    <tr>\n",
       "      <th></th>\n",
       "      <th></th>\n",
       "      <th colspan=\"2\" halign=\"left\">sales_point</th>\n",
       "    </tr>\n",
       "    <tr>\n",
       "      <th></th>\n",
       "      <th></th>\n",
       "      <th>size</th>\n",
       "      <th>mean</th>\n",
       "    </tr>\n",
       "    <tr>\n",
       "      <th>book_date</th>\n",
       "      <th>book_cover</th>\n",
       "      <th></th>\n",
       "      <th></th>\n",
       "    </tr>\n",
       "  </thead>\n",
       "  <tbody>\n",
       "    <tr>\n",
       "      <th>2018-01-01</th>\n",
       "      <th>반양장본</th>\n",
       "      <td>1</td>\n",
       "      <td>310.0</td>\n",
       "    </tr>\n",
       "    <tr>\n",
       "      <th>2018-03-20</th>\n",
       "      <th>반양장본</th>\n",
       "      <td>1</td>\n",
       "      <td>42477.0</td>\n",
       "    </tr>\n",
       "    <tr>\n",
       "      <th>2018-03-23</th>\n",
       "      <th>양장본</th>\n",
       "      <td>1</td>\n",
       "      <td>80.0</td>\n",
       "    </tr>\n",
       "    <tr>\n",
       "      <th>2018-04-01</th>\n",
       "      <th>반양장본</th>\n",
       "      <td>1</td>\n",
       "      <td>140.0</td>\n",
       "    </tr>\n",
       "    <tr>\n",
       "      <th>2018-04-10</th>\n",
       "      <th>양장본</th>\n",
       "      <td>1</td>\n",
       "      <td>150.0</td>\n",
       "    </tr>\n",
       "  </tbody>\n",
       "</table>\n",
       "</div>"
      ],
      "text/plain": [
       "                      sales_point         \n",
       "                             size     mean\n",
       "book_date  book_cover                     \n",
       "2018-01-01 반양장본                 1    310.0\n",
       "2018-03-20 반양장본                 1  42477.0\n",
       "2018-03-23 양장본                  1     80.0\n",
       "2018-04-01 반양장본                 1    140.0\n",
       "2018-04-10 양장본                  1    150.0"
      ]
     },
     "execution_count": 66,
     "metadata": {},
     "output_type": "execute_result"
    }
   ],
   "source": [
    "book_data.groupby(['book_date','book_cover']).agg({'sales_point': [np.size,np.mean]}).head()"
   ]
  },
  {
   "cell_type": "code",
   "execution_count": null,
   "id": "96359276",
   "metadata": {},
   "outputs": [],
   "source": []
  }
 ],
 "metadata": {
  "kernelspec": {
   "display_name": "Python 3 (ipykernel)",
   "language": "python",
   "name": "python3"
  },
  "language_info": {
   "codemirror_mode": {
    "name": "ipython",
    "version": 3
   },
   "file_extension": ".py",
   "mimetype": "text/x-python",
   "name": "python",
   "nbconvert_exporter": "python",
   "pygments_lexer": "ipython3",
   "version": "3.9.13"
  }
 },
 "nbformat": 4,
 "nbformat_minor": 5
}
