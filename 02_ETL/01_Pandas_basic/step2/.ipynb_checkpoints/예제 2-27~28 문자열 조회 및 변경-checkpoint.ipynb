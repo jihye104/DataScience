{
 "cells": [
  {
   "cell_type": "code",
   "execution_count": 2,
   "id": "93a946a4",
   "metadata": {},
   "outputs": [],
   "source": [
    "import pandas as pd"
   ]
  },
  {
   "cell_type": "markdown",
   "id": "20ac250e",
   "metadata": {},
   "source": [
    "## 예제 2-27 문자열 조회"
   ]
  },
  {
   "cell_type": "code",
   "execution_count": 3,
   "id": "680d9c7d",
   "metadata": {},
   "outputs": [
    {
     "data": {
      "text/plain": [
       "Index(['movie_code', 'title', 'title_Eng', 'show_time', 'produce_year',\n",
       "       'open_date', 'produce_state', 'type', 'nation', 'genre', 'director',\n",
       "       'actor', 'show_type', 'watch_grade'],\n",
       "      dtype='object')"
      ]
     },
     "execution_count": 3,
     "metadata": {},
     "output_type": "execute_result"
    }
   ],
   "source": [
    "movies_str = pd.read_csv(\"../data/korea_movie_list.csv\", encoding='ms949')\n",
    "movies_str.columns"
   ]
  },
  {
   "cell_type": "code",
   "execution_count": 4,
   "id": "84168f1e",
   "metadata": {},
   "outputs": [
    {
     "data": {
      "text/plain": [
       "(2827, 14)"
      ]
     },
     "execution_count": 4,
     "metadata": {},
     "output_type": "execute_result"
    }
   ],
   "source": [
    "movies_str.shape"
   ]
  },
  {
   "cell_type": "code",
   "execution_count": 5,
   "id": "730f146f",
   "metadata": {},
   "outputs": [
    {
     "data": {
      "text/html": [
       "<div>\n",
       "<style scoped>\n",
       "    .dataframe tbody tr th:only-of-type {\n",
       "        vertical-align: middle;\n",
       "    }\n",
       "\n",
       "    .dataframe tbody tr th {\n",
       "        vertical-align: top;\n",
       "    }\n",
       "\n",
       "    .dataframe thead th {\n",
       "        text-align: right;\n",
       "    }\n",
       "</style>\n",
       "<table border=\"1\" class=\"dataframe\">\n",
       "  <thead>\n",
       "    <tr style=\"text-align: right;\">\n",
       "      <th></th>\n",
       "      <th>movie_code</th>\n",
       "      <th>title</th>\n",
       "      <th>title_Eng</th>\n",
       "      <th>show_time</th>\n",
       "      <th>produce_year</th>\n",
       "      <th>open_date</th>\n",
       "      <th>produce_state</th>\n",
       "      <th>type</th>\n",
       "      <th>nation</th>\n",
       "      <th>genre</th>\n",
       "      <th>director</th>\n",
       "      <th>actor</th>\n",
       "      <th>show_type</th>\n",
       "      <th>watch_grade</th>\n",
       "    </tr>\n",
       "  </thead>\n",
       "  <tbody>\n",
       "    <tr>\n",
       "      <th>0</th>\n",
       "      <td>20185801</td>\n",
       "      <td>할로우 차일드</td>\n",
       "      <td>The Hollow Child</td>\n",
       "      <td>88.0</td>\n",
       "      <td>2017</td>\n",
       "      <td>20180802</td>\n",
       "      <td>개봉예정</td>\n",
       "      <td>장편</td>\n",
       "      <td>캐나다</td>\n",
       "      <td>공포(호러)/판타지</td>\n",
       "      <td>제레미 루터</td>\n",
       "      <td>NaN</td>\n",
       "      <td>NaN</td>\n",
       "      <td>15세이상관람가</td>\n",
       "    </tr>\n",
       "    <tr>\n",
       "      <th>1</th>\n",
       "      <td>20187649</td>\n",
       "      <td>죽음의 리무진</td>\n",
       "      <td>Glass Coffin</td>\n",
       "      <td>75.0</td>\n",
       "      <td>2016</td>\n",
       "      <td>20180816</td>\n",
       "      <td>개봉예정</td>\n",
       "      <td>장편</td>\n",
       "      <td>스페인</td>\n",
       "      <td>스릴러/공포(호러)</td>\n",
       "      <td>하리츠 쥬빌라가</td>\n",
       "      <td>파울라 본템피</td>\n",
       "      <td>NaN</td>\n",
       "      <td>NaN</td>\n",
       "    </tr>\n",
       "  </tbody>\n",
       "</table>\n",
       "</div>"
      ],
      "text/plain": [
       "   movie_code    title         title_Eng  show_time  produce_year  open_date  \\\n",
       "0    20185801  할로우 차일드  The Hollow Child       88.0          2017   20180802   \n",
       "1    20187649  죽음의 리무진      Glass Coffin       75.0          2016   20180816   \n",
       "\n",
       "  produce_state type nation       genre  director    actor show_type  \\\n",
       "0          개봉예정   장편    캐나다  공포(호러)/판타지    제레미 루터      NaN       NaN   \n",
       "1          개봉예정   장편    스페인  스릴러/공포(호러)  하리츠 쥬빌라가  파울라 본템피       NaN   \n",
       "\n",
       "  watch_grade  \n",
       "0    15세이상관람가  \n",
       "1         NaN  "
      ]
     },
     "execution_count": 5,
     "metadata": {},
     "output_type": "execute_result"
    }
   ],
   "source": [
    "movies_str.head(2)"
   ]
  },
  {
   "cell_type": "code",
   "execution_count": 6,
   "id": "19c4399f",
   "metadata": {},
   "outputs": [
    {
     "data": {
      "text/plain": [
       "0              할로우 차일드\n",
       "1              죽음의 리무진\n",
       "2    극장판 도라에몽: 진구의 보물섬\n",
       "3     명탐정 코난 : 제로의 집행인\n",
       "4              살아남은 아이\n",
       "Name: title, dtype: object"
      ]
     },
     "execution_count": 6,
     "metadata": {},
     "output_type": "execute_result"
    }
   ],
   "source": [
    "movies_str_ser = movies_str['title']\n",
    "movies_str_ser.head()"
   ]
  },
  {
   "cell_type": "code",
   "execution_count": 7,
   "id": "78d60944",
   "metadata": {},
   "outputs": [
    {
     "data": {
      "text/plain": [
       "0                      The Hollow Child\n",
       "1                          Glass Coffin\n",
       "2                                   NaN\n",
       "3    Detective Conan: Zero the Enforcer\n",
       "4                            Last Child\n",
       "Name: title_Eng, dtype: object"
      ]
     },
     "execution_count": 7,
     "metadata": {},
     "output_type": "execute_result"
    }
   ],
   "source": [
    "movies_str_eng = movies_str['title_Eng']\n",
    "movies_str_eng.head()"
   ]
  },
  {
   "cell_type": "markdown",
   "id": "1f22d416",
   "metadata": {},
   "source": [
    "hasnans => has nans의 의미  \n",
    "누락된 값이 있으면 True, 아니면 False"
   ]
  },
  {
   "cell_type": "code",
   "execution_count": 8,
   "id": "c3bf008e",
   "metadata": {
    "scrolled": true
   },
   "outputs": [
    {
     "data": {
      "text/plain": [
       "False"
      ]
     },
     "execution_count": 8,
     "metadata": {},
     "output_type": "execute_result"
    }
   ],
   "source": [
    "movies_str_ser.hasnans"
   ]
  },
  {
   "cell_type": "code",
   "execution_count": 9,
   "id": "8ba3a834",
   "metadata": {},
   "outputs": [
    {
     "data": {
      "text/plain": [
       "True"
      ]
     },
     "execution_count": 9,
     "metadata": {},
     "output_type": "execute_result"
    }
   ],
   "source": [
    "movies_str_eng.hasnans"
   ]
  },
  {
   "cell_type": "code",
   "execution_count": 10,
   "id": "670b243a",
   "metadata": {
    "scrolled": true
   },
   "outputs": [
    {
     "data": {
      "text/plain": [
       "(2827,)"
      ]
     },
     "execution_count": 10,
     "metadata": {},
     "output_type": "execute_result"
    }
   ],
   "source": [
    "movies_str_eng.shape"
   ]
  },
  {
   "cell_type": "markdown",
   "id": "8a1cabb9",
   "metadata": {},
   "source": [
    "dropna() => 결측행 제거"
   ]
  },
  {
   "cell_type": "code",
   "execution_count": 11,
   "id": "011b9c78",
   "metadata": {
    "scrolled": true
   },
   "outputs": [
    {
     "data": {
      "text/plain": [
       "(2226,)"
      ]
     },
     "execution_count": 11,
     "metadata": {},
     "output_type": "execute_result"
    }
   ],
   "source": [
    "movies_str_eng = movies_str_eng.dropna()\n",
    "movies_str_eng.shape"
   ]
  },
  {
   "cell_type": "code",
   "execution_count": 12,
   "id": "e7739a9f",
   "metadata": {},
   "outputs": [
    {
     "data": {
      "text/plain": [
       "2"
      ]
     },
     "execution_count": 12,
     "metadata": {},
     "output_type": "execute_result"
    }
   ],
   "source": [
    "s = str('가을')\n",
    "len(s)"
   ]
  },
  {
   "cell_type": "markdown",
   "id": "19112756",
   "metadata": {},
   "source": [
    "시리즈의 str 속성의 len 함수를 통해 전체요소의 길이값 반환"
   ]
  },
  {
   "cell_type": "code",
   "execution_count": 13,
   "id": "e29d8bfb",
   "metadata": {},
   "outputs": [
    {
     "data": {
      "text/plain": [
       "0     7\n",
       "1     7\n",
       "2    17\n",
       "3    16\n",
       "4     7\n",
       "Name: title, dtype: int64"
      ]
     },
     "execution_count": 13,
     "metadata": {},
     "output_type": "execute_result"
    }
   ],
   "source": [
    "movies_str_ser.str.len().head()"
   ]
  },
  {
   "cell_type": "code",
   "execution_count": 14,
   "id": "f9a3c30a",
   "metadata": {},
   "outputs": [
    {
     "data": {
      "text/plain": [
       "1"
      ]
     },
     "execution_count": 14,
     "metadata": {},
     "output_type": "execute_result"
    }
   ],
   "source": [
    "s.find('을')"
   ]
  },
  {
   "cell_type": "markdown",
   "id": "1d5d9c39",
   "metadata": {},
   "source": [
    "있으면 0  \n",
    "없으면 -1"
   ]
  },
  {
   "cell_type": "code",
   "execution_count": 15,
   "id": "4836d347",
   "metadata": {
    "scrolled": true
   },
   "outputs": [
    {
     "data": {
      "text/plain": [
       "0    0\n",
       "1   -1\n",
       "2   -1\n",
       "3   -1\n",
       "4   -1\n",
       "Name: title, dtype: int64"
      ]
     },
     "execution_count": 15,
     "metadata": {},
     "output_type": "execute_result"
    }
   ],
   "source": [
    "movies_str_ser.str.find('할로우').head()"
   ]
  },
  {
   "cell_type": "code",
   "execution_count": 16,
   "id": "ee99608c",
   "metadata": {
    "scrolled": true
   },
   "outputs": [
    {
     "data": {
      "text/plain": [
       "1"
      ]
     },
     "execution_count": 16,
     "metadata": {},
     "output_type": "execute_result"
    }
   ],
   "source": [
    "s.count('을')"
   ]
  },
  {
   "cell_type": "code",
   "execution_count": 17,
   "id": "afafefae",
   "metadata": {
    "scrolled": true
   },
   "outputs": [
    {
     "data": {
      "text/plain": [
       "0    0\n",
       "1    1\n",
       "2    1\n",
       "3    1\n",
       "4    0\n",
       "Name: title, dtype: int64"
      ]
     },
     "execution_count": 17,
     "metadata": {},
     "output_type": "execute_result"
    }
   ],
   "source": [
    "movies_str_ser.str.count('의').head()"
   ]
  },
  {
   "cell_type": "markdown",
   "id": "ea9008f4",
   "metadata": {},
   "source": [
    "## 예제 2-28 문자열 변경 "
   ]
  },
  {
   "cell_type": "code",
   "execution_count": 18,
   "id": "b8168cc3",
   "metadata": {},
   "outputs": [
    {
     "data": {
      "text/plain": [
       "' 찬혁 '"
      ]
     },
     "execution_count": 18,
     "metadata": {},
     "output_type": "execute_result"
    }
   ],
   "source": [
    "si = str(' 찬혁 ')\n",
    "si"
   ]
  },
  {
   "cell_type": "markdown",
   "id": "684ca85a",
   "metadata": {},
   "source": [
    "띄어쓰기까지 포함"
   ]
  },
  {
   "cell_type": "code",
   "execution_count": 19,
   "id": "d7c5f672",
   "metadata": {
    "scrolled": true
   },
   "outputs": [
    {
     "data": {
      "text/plain": [
       "4"
      ]
     },
     "execution_count": 19,
     "metadata": {},
     "output_type": "execute_result"
    }
   ],
   "source": [
    "len(si)"
   ]
  },
  {
   "cell_type": "code",
   "execution_count": 20,
   "id": "96aab70c",
   "metadata": {
    "scrolled": true
   },
   "outputs": [
    {
     "data": {
      "text/plain": [
       "2"
      ]
     },
     "execution_count": 20,
     "metadata": {},
     "output_type": "execute_result"
    }
   ],
   "source": [
    "si = si.strip()\n",
    "len(si)"
   ]
  },
  {
   "cell_type": "code",
   "execution_count": 21,
   "id": "b1cbe6de",
   "metadata": {
    "scrolled": true
   },
   "outputs": [],
   "source": [
    "idx = pd.Index([' 찬혁', '런던 ', ' 소셜 ', '겨울'])"
   ]
  },
  {
   "cell_type": "code",
   "execution_count": 22,
   "id": "a92c421b",
   "metadata": {
    "scrolled": true
   },
   "outputs": [
    {
     "data": {
      "text/plain": [
       "Index(['찬혁', '런던', '소셜', '겨울'], dtype='object')"
      ]
     },
     "execution_count": 22,
     "metadata": {},
     "output_type": "execute_result"
    }
   ],
   "source": [
    "idx.str.strip()"
   ]
  },
  {
   "cell_type": "code",
   "execution_count": 23,
   "id": "e4471916",
   "metadata": {},
   "outputs": [
    {
     "data": {
      "text/plain": [
       "Index(['찬혁', '런던 ', '소셜 ', '겨울'], dtype='object')"
      ]
     },
     "execution_count": 23,
     "metadata": {},
     "output_type": "execute_result"
    }
   ],
   "source": [
    "idx.str.lstrip()"
   ]
  },
  {
   "cell_type": "code",
   "execution_count": 24,
   "id": "ef813446",
   "metadata": {},
   "outputs": [
    {
     "data": {
      "text/plain": [
       "Index([' 찬혁', '런던', ' 소셜', '겨울'], dtype='object')"
      ]
     },
     "execution_count": 24,
     "metadata": {},
     "output_type": "execute_result"
    }
   ],
   "source": [
    "idx.str.rstrip()"
   ]
  },
  {
   "cell_type": "code",
   "execution_count": 25,
   "id": "82191712",
   "metadata": {},
   "outputs": [],
   "source": [
    "import numpy as np"
   ]
  },
  {
   "cell_type": "code",
   "execution_count": 26,
   "id": "97f258b4",
   "metadata": {},
   "outputs": [],
   "source": [
    "ss = pd.Series(['가_나_다', '라_마_바', np.nan, '사_아_자'])"
   ]
  },
  {
   "cell_type": "code",
   "execution_count": 27,
   "id": "7eb91c70",
   "metadata": {
    "scrolled": true
   },
   "outputs": [
    {
     "data": {
      "text/plain": [
       "0    [가, 나, 다]\n",
       "1    [라, 마, 바]\n",
       "2          NaN\n",
       "3    [사, 아, 자]\n",
       "dtype: object"
      ]
     },
     "execution_count": 27,
     "metadata": {},
     "output_type": "execute_result"
    }
   ],
   "source": [
    "ss.str.split('_')"
   ]
  },
  {
   "cell_type": "code",
   "execution_count": 28,
   "id": "a686d0f8",
   "metadata": {
    "scrolled": true
   },
   "outputs": [
    {
     "data": {
      "text/plain": [
       "0      나\n",
       "1      마\n",
       "2    NaN\n",
       "3      아\n",
       "dtype: object"
      ]
     },
     "execution_count": 28,
     "metadata": {},
     "output_type": "execute_result"
    }
   ],
   "source": [
    "ss.str.split('_').str.get(1)"
   ]
  },
  {
   "cell_type": "code",
   "execution_count": 29,
   "id": "c48c0228",
   "metadata": {},
   "outputs": [
    {
     "data": {
      "text/plain": [
       "0      나\n",
       "1      마\n",
       "2    NaN\n",
       "3      아\n",
       "dtype: object"
      ]
     },
     "execution_count": 29,
     "metadata": {},
     "output_type": "execute_result"
    }
   ],
   "source": [
    "ss.str.split('_').str[1]"
   ]
  },
  {
   "cell_type": "markdown",
   "id": "544deb90",
   "metadata": {},
   "source": [
    "expand = True 를 지정하면 분리된 것을 기준으로 데이터프레임을 만들어 준다."
   ]
  },
  {
   "cell_type": "code",
   "execution_count": 30,
   "id": "856d216c",
   "metadata": {},
   "outputs": [
    {
     "data": {
      "text/html": [
       "<div>\n",
       "<style scoped>\n",
       "    .dataframe tbody tr th:only-of-type {\n",
       "        vertical-align: middle;\n",
       "    }\n",
       "\n",
       "    .dataframe tbody tr th {\n",
       "        vertical-align: top;\n",
       "    }\n",
       "\n",
       "    .dataframe thead th {\n",
       "        text-align: right;\n",
       "    }\n",
       "</style>\n",
       "<table border=\"1\" class=\"dataframe\">\n",
       "  <thead>\n",
       "    <tr style=\"text-align: right;\">\n",
       "      <th></th>\n",
       "      <th>0</th>\n",
       "      <th>1</th>\n",
       "      <th>2</th>\n",
       "    </tr>\n",
       "  </thead>\n",
       "  <tbody>\n",
       "    <tr>\n",
       "      <th>0</th>\n",
       "      <td>가</td>\n",
       "      <td>나</td>\n",
       "      <td>다</td>\n",
       "    </tr>\n",
       "    <tr>\n",
       "      <th>1</th>\n",
       "      <td>라</td>\n",
       "      <td>마</td>\n",
       "      <td>바</td>\n",
       "    </tr>\n",
       "    <tr>\n",
       "      <th>2</th>\n",
       "      <td>NaN</td>\n",
       "      <td>NaN</td>\n",
       "      <td>NaN</td>\n",
       "    </tr>\n",
       "    <tr>\n",
       "      <th>3</th>\n",
       "      <td>사</td>\n",
       "      <td>아</td>\n",
       "      <td>자</td>\n",
       "    </tr>\n",
       "  </tbody>\n",
       "</table>\n",
       "</div>"
      ],
      "text/plain": [
       "     0    1    2\n",
       "0    가    나    다\n",
       "1    라    마    바\n",
       "2  NaN  NaN  NaN\n",
       "3    사    아    자"
      ]
     },
     "execution_count": 30,
     "metadata": {},
     "output_type": "execute_result"
    }
   ],
   "source": [
    "ss.str.split('_',expand = True)"
   ]
  },
  {
   "cell_type": "markdown",
   "id": "f9512172",
   "metadata": {},
   "source": [
    "split('_',expand=True,n=1)  \n",
    "왼쪽을 기준으로 split"
   ]
  },
  {
   "cell_type": "code",
   "execution_count": 31,
   "id": "0b4d9d14",
   "metadata": {
    "scrolled": true
   },
   "outputs": [
    {
     "data": {
      "text/html": [
       "<div>\n",
       "<style scoped>\n",
       "    .dataframe tbody tr th:only-of-type {\n",
       "        vertical-align: middle;\n",
       "    }\n",
       "\n",
       "    .dataframe tbody tr th {\n",
       "        vertical-align: top;\n",
       "    }\n",
       "\n",
       "    .dataframe thead th {\n",
       "        text-align: right;\n",
       "    }\n",
       "</style>\n",
       "<table border=\"1\" class=\"dataframe\">\n",
       "  <thead>\n",
       "    <tr style=\"text-align: right;\">\n",
       "      <th></th>\n",
       "      <th>0</th>\n",
       "      <th>1</th>\n",
       "    </tr>\n",
       "  </thead>\n",
       "  <tbody>\n",
       "    <tr>\n",
       "      <th>0</th>\n",
       "      <td>가</td>\n",
       "      <td>나_다</td>\n",
       "    </tr>\n",
       "    <tr>\n",
       "      <th>1</th>\n",
       "      <td>라</td>\n",
       "      <td>마_바</td>\n",
       "    </tr>\n",
       "    <tr>\n",
       "      <th>2</th>\n",
       "      <td>NaN</td>\n",
       "      <td>NaN</td>\n",
       "    </tr>\n",
       "    <tr>\n",
       "      <th>3</th>\n",
       "      <td>사</td>\n",
       "      <td>아_자</td>\n",
       "    </tr>\n",
       "  </tbody>\n",
       "</table>\n",
       "</div>"
      ],
      "text/plain": [
       "     0    1\n",
       "0    가  나_다\n",
       "1    라  마_바\n",
       "2  NaN  NaN\n",
       "3    사  아_자"
      ]
     },
     "execution_count": 31,
     "metadata": {},
     "output_type": "execute_result"
    }
   ],
   "source": [
    "ss.str.split('_',expand=True,n=1)"
   ]
  },
  {
   "cell_type": "markdown",
   "id": "365f66aa",
   "metadata": {},
   "source": [
    "rsplit('_',expand=True,n=1)  \n",
    "오른쪽을 기준으로 split"
   ]
  },
  {
   "cell_type": "code",
   "execution_count": 36,
   "id": "dd9439b9",
   "metadata": {
    "scrolled": true
   },
   "outputs": [
    {
     "data": {
      "text/html": [
       "<div>\n",
       "<style scoped>\n",
       "    .dataframe tbody tr th:only-of-type {\n",
       "        vertical-align: middle;\n",
       "    }\n",
       "\n",
       "    .dataframe tbody tr th {\n",
       "        vertical-align: top;\n",
       "    }\n",
       "\n",
       "    .dataframe thead th {\n",
       "        text-align: right;\n",
       "    }\n",
       "</style>\n",
       "<table border=\"1\" class=\"dataframe\">\n",
       "  <thead>\n",
       "    <tr style=\"text-align: right;\">\n",
       "      <th></th>\n",
       "      <th>0</th>\n",
       "      <th>1</th>\n",
       "    </tr>\n",
       "  </thead>\n",
       "  <tbody>\n",
       "    <tr>\n",
       "      <th>0</th>\n",
       "      <td>가_나</td>\n",
       "      <td>다</td>\n",
       "    </tr>\n",
       "    <tr>\n",
       "      <th>1</th>\n",
       "      <td>라_마</td>\n",
       "      <td>바</td>\n",
       "    </tr>\n",
       "    <tr>\n",
       "      <th>2</th>\n",
       "      <td>NaN</td>\n",
       "      <td>NaN</td>\n",
       "    </tr>\n",
       "    <tr>\n",
       "      <th>3</th>\n",
       "      <td>사_아</td>\n",
       "      <td>자</td>\n",
       "    </tr>\n",
       "  </tbody>\n",
       "</table>\n",
       "</div>"
      ],
      "text/plain": [
       "     0    1\n",
       "0  가_나    다\n",
       "1  라_마    바\n",
       "2  NaN  NaN\n",
       "3  사_아    자"
      ]
     },
     "execution_count": 36,
     "metadata": {},
     "output_type": "execute_result"
    }
   ],
   "source": [
    "ss.str.rsplit('_',expand=True,n=1)"
   ]
  },
  {
   "cell_type": "code",
   "execution_count": 37,
   "id": "01fa8d83",
   "metadata": {},
   "outputs": [
    {
     "data": {
      "text/plain": [
       "0    가%나%다\n",
       "1    라%마%바\n",
       "2      NaN\n",
       "3    사%아%자\n",
       "dtype: object"
      ]
     },
     "execution_count": 37,
     "metadata": {},
     "output_type": "execute_result"
    }
   ],
   "source": [
    "ss.str.replace('_','%')"
   ]
  },
  {
   "cell_type": "markdown",
   "id": "7c657e01",
   "metadata": {},
   "source": [
    "cat(sep=',')  \n",
    "한줄로 정렬되는데 ',' 로 구분"
   ]
  },
  {
   "cell_type": "code",
   "execution_count": 38,
   "id": "4f2fcd53",
   "metadata": {
    "scrolled": true
   },
   "outputs": [
    {
     "data": {
      "text/plain": [
       "'가_나_다,라_마_바,사_아_자'"
      ]
     },
     "execution_count": 38,
     "metadata": {},
     "output_type": "execute_result"
    }
   ],
   "source": [
    "ss.str.cat(sep=',')"
   ]
  },
  {
   "cell_type": "code",
   "execution_count": 39,
   "id": "725c2eb4",
   "metadata": {},
   "outputs": [
    {
     "data": {
      "text/plain": [
       "'가_나_다라_마_바사_아_자'"
      ]
     },
     "execution_count": 39,
     "metadata": {},
     "output_type": "execute_result"
    }
   ],
   "source": [
    "ss.str.cat()"
   ]
  },
  {
   "cell_type": "markdown",
   "id": "7cb26c39",
   "metadata": {},
   "source": [
    "cat(['A','B','C','D'])  \n",
    "인덱스 정렬된 값 뒤에 [ ] 안의 값이 붙는다."
   ]
  },
  {
   "cell_type": "code",
   "execution_count": 40,
   "id": "5137d494",
   "metadata": {
    "scrolled": false
   },
   "outputs": [
    {
     "data": {
      "text/plain": [
       "0    가_나_다A\n",
       "1    라_마_바B\n",
       "2       NaN\n",
       "3    사_아_자D\n",
       "dtype: object"
      ]
     },
     "execution_count": 40,
     "metadata": {},
     "output_type": "execute_result"
    }
   ],
   "source": [
    "ss.str.cat(['A','B','C','D'])"
   ]
  },
  {
   "cell_type": "code",
   "execution_count": 41,
   "id": "d88cd2a3",
   "metadata": {
    "scrolled": true
   },
   "outputs": [
    {
     "data": {
      "text/plain": [
       "0    가_나_다A\n",
       "1    라_마_바B\n",
       "2       NaN\n",
       "3    사_아_자D\n",
       "dtype: object"
      ]
     },
     "execution_count": 41,
     "metadata": {},
     "output_type": "execute_result"
    }
   ],
   "source": [
    "su = pd.Series(['A','B','C','D'])\n",
    "ss.str.cat(su)"
   ]
  },
  {
   "cell_type": "code",
   "execution_count": 42,
   "id": "feadd0aa",
   "metadata": {},
   "outputs": [
    {
     "data": {
      "text/plain": [
       "0      가\n",
       "1      라\n",
       "2    NaN\n",
       "3      사\n",
       "dtype: object"
      ]
     },
     "execution_count": 42,
     "metadata": {},
     "output_type": "execute_result"
    }
   ],
   "source": [
    "ss.str[0]"
   ]
  },
  {
   "cell_type": "code",
   "execution_count": 43,
   "id": "f894a094",
   "metadata": {},
   "outputs": [
    {
     "data": {
      "text/plain": [
       "0      _\n",
       "1      _\n",
       "2    NaN\n",
       "3      _\n",
       "dtype: object"
      ]
     },
     "execution_count": 43,
     "metadata": {},
     "output_type": "execute_result"
    }
   ],
   "source": [
    "ss.str[1]"
   ]
  }
 ],
 "metadata": {
  "kernelspec": {
   "display_name": "Python 3 (ipykernel)",
   "language": "python",
   "name": "python3"
  },
  "language_info": {
   "codemirror_mode": {
    "name": "ipython",
    "version": 3
   },
   "file_extension": ".py",
   "mimetype": "text/x-python",
   "name": "python",
   "nbconvert_exporter": "python",
   "pygments_lexer": "ipython3",
   "version": "3.9.13"
  }
 },
 "nbformat": 4,
 "nbformat_minor": 5
}
