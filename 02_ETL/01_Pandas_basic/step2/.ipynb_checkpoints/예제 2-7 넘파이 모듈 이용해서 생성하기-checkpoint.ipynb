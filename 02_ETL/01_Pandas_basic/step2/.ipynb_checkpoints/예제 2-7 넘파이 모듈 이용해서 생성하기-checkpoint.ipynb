{
 "cells": [
  {
   "cell_type": "code",
   "execution_count": 1,
   "id": "dcf48665",
   "metadata": {},
   "outputs": [],
   "source": [
    "import numpy as np\n",
    "import pandas as pd"
   ]
  },
  {
   "cell_type": "code",
   "execution_count": 17,
   "id": "b1240c3f",
   "metadata": {},
   "outputs": [
    {
     "data": {
      "text/plain": [
       "0    1.105802\n",
       "1   -0.477178\n",
       "2   -1.167173\n",
       "3   -0.217114\n",
       "4   -0.408803\n",
       "dtype: float64"
      ]
     },
     "execution_count": 17,
     "metadata": {},
     "output_type": "execute_result"
    }
   ],
   "source": [
    "# randn 은 표준 정규분포 확률을 따르는 난수를 return \n",
    "# 표준정규분포란 평균을 0, 표준편차를 1인 정규분포를 의미\n",
    "# 여기서는 그냥 5개의 수를 랜덤하게 return 한다로 알고있기\n",
    "s = pd.Series(np.random.randn(5))\n",
    "s"
   ]
  }
 ],
 "metadata": {
  "kernelspec": {
   "display_name": "Python 3 (ipykernel)",
   "language": "python",
   "name": "python3"
  },
  "language_info": {
   "codemirror_mode": {
    "name": "ipython",
    "version": 3
   },
   "file_extension": ".py",
   "mimetype": "text/x-python",
   "name": "python",
   "nbconvert_exporter": "python",
   "pygments_lexer": "ipython3",
   "version": "3.9.13"
  }
 },
 "nbformat": 4,
 "nbformat_minor": 5
}
